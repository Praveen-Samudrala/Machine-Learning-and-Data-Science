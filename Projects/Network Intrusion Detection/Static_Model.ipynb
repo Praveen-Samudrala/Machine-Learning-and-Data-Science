{
  "nbformat": 4,
  "nbformat_minor": 0,
  "metadata": {
    "colab": {
      "provenance": [],
      "toc_visible": true
    },
    "kernelspec": {
      "name": "python3",
      "display_name": "Python 3"
    },
    "language_info": {
      "name": "python"
    }
  },
  "cells": [
    {
      "cell_type": "markdown",
      "source": [
        "<h1> <div align=\"center\">Network Intrusion Detection </div></h1>\n",
        "\n",
        "---\n",
        "---\n",
        "\n",
        "\n",
        "<h2>Problem Statement:</h2> \n",
        "\n",
        "To detect network intrusions on a system based on information on attacks in the past."
      ],
      "metadata": {
        "id": "jaR01gMABgN-"
      }
    },
    {
      "cell_type": "markdown",
      "source": [
        "## **Project Planning :**\n",
        "&nbsp;\n",
        "\n",
        "\n",
        "### 1. Exploratory Data Analysis\n",
        "### 2. Data Preprocessing\n",
        "- Null value treatment\n",
        "- Feature Encoding\n",
        "- Treating Duplicate datapoints\n",
        "- Feature Selection\n",
        "\n",
        "### 3. Model Building\n",
        "### 4. Model Inference"
      ],
      "metadata": {
        "id": "4m5WqgvTB4BA"
      }
    },
    {
      "cell_type": "markdown",
      "source": [
        "### Imports"
      ],
      "metadata": {
        "id": "317lf0zkE2K3"
      }
    },
    {
      "cell_type": "code",
      "execution_count": null,
      "metadata": {
        "id": "Uu5Nh0UN92ZO"
      },
      "outputs": [],
      "source": [
        "# Necessary modules\n",
        "import random\n",
        "random.seed(22)\n",
        "import numpy as np\n",
        "import pandas as pd\n",
        "import pickle \n",
        "\n",
        "# Visualization\n",
        "import matplotlib\n",
        "import matplotlib.pyplot as plt\n",
        "import seaborn as sns\n",
        "%matplotlib inline\n",
        "sns.set_style('whitegrid')\n",
        "sns.set_context('notebook')\n",
        "matplotlib.rcParams['figure.figsize'] = (12,8)\n",
        "import warnings\n",
        "warnings.filterwarnings(\"ignore\")\n",
        "\n",
        "\n",
        "from sklearn.preprocessing import StandardScaler\n",
        "from sklearn.feature_extraction import FeatureHasher\n",
        "from sklearn.feature_selection import mutual_info_classif, VarianceThreshold\n",
        "from sklearn.model_selection import GridSearchCV\n",
        "from sklearn.pipeline import make_pipeline\n",
        "import xgboost as xgb\n",
        "from xgboost import XGBClassifier\n",
        "from sklearn.ensemble import RandomForestClassifier\n",
        "from sklearn.linear_model import LogisticRegression\n",
        "\n",
        "from sklearn.model_selection import train_test_split\n",
        "from sklearn import metrics\n",
        "from sklearn.metrics import accuracy_score, f1_score, precision_score, recall_score, classification_report, confusion_matrix\n"
      ]
    },
    {
      "cell_type": "markdown",
      "source": [
        "##1. Exploratory Data Analysis"
      ],
      "metadata": {
        "id": "lwZArdQYEjJq"
      }
    },
    {
      "cell_type": "code",
      "source": [
        "df = pd.read_csv(\"Static_dataset.csv\")\n",
        "df.head()"
      ],
      "metadata": {
        "colab": {
          "base_uri": "https://localhost:8080/",
          "height": 244
        },
        "id": "Bm72TyjZAeUy",
        "outputId": "c4b1a6d8-1315-4ec1-be7e-62776c0e9d5b"
      },
      "execution_count": null,
      "outputs": [
        {
          "output_type": "execute_result",
          "data": {
            "text/plain": [
              "  timestamp  FQDN_count  subdomain_length  upper  lower  numeric   entropy  \\\n",
              "0   56:19.8          27                10      0     10       11  2.570417   \n",
              "1   07:23.9          27                10      0     10       11  2.767195   \n",
              "2   23:15.1          26                 9      0     10       10  2.742338   \n",
              "3   04:51.9          27                10      0     10       11  2.570417   \n",
              "4   12:44.0          15                 9      0     11        0  2.929439   \n",
              "\n",
              "   special  labels  labels_max  labels_average longest_word    sld  len  \\\n",
              "0        6       6           7        3.666667            2    192   14   \n",
              "1        6       6           7        3.666667            2    192   14   \n",
              "2        6       6           7        3.500000            2    192   13   \n",
              "3        6       6           7        3.666667            2    192   14   \n",
              "4        4       3           5        4.333333        local  local   15   \n",
              "\n",
              "   subdomain  Target Attack  \n",
              "0          1              1  \n",
              "1          1              1  \n",
              "2          1              0  \n",
              "3          1              1  \n",
              "4          1              1  "
            ],
            "text/html": [
              "<div>\n",
              "<style scoped>\n",
              "    .dataframe tbody tr th:only-of-type {\n",
              "        vertical-align: middle;\n",
              "    }\n",
              "\n",
              "    .dataframe tbody tr th {\n",
              "        vertical-align: top;\n",
              "    }\n",
              "\n",
              "    .dataframe thead th {\n",
              "        text-align: right;\n",
              "    }\n",
              "</style>\n",
              "<table border=\"1\" class=\"dataframe\">\n",
              "  <thead>\n",
              "    <tr style=\"text-align: right;\">\n",
              "      <th></th>\n",
              "      <th>timestamp</th>\n",
              "      <th>FQDN_count</th>\n",
              "      <th>subdomain_length</th>\n",
              "      <th>upper</th>\n",
              "      <th>lower</th>\n",
              "      <th>numeric</th>\n",
              "      <th>entropy</th>\n",
              "      <th>special</th>\n",
              "      <th>labels</th>\n",
              "      <th>labels_max</th>\n",
              "      <th>labels_average</th>\n",
              "      <th>longest_word</th>\n",
              "      <th>sld</th>\n",
              "      <th>len</th>\n",
              "      <th>subdomain</th>\n",
              "      <th>Target Attack</th>\n",
              "    </tr>\n",
              "  </thead>\n",
              "  <tbody>\n",
              "    <tr>\n",
              "      <th>0</th>\n",
              "      <td>56:19.8</td>\n",
              "      <td>27</td>\n",
              "      <td>10</td>\n",
              "      <td>0</td>\n",
              "      <td>10</td>\n",
              "      <td>11</td>\n",
              "      <td>2.570417</td>\n",
              "      <td>6</td>\n",
              "      <td>6</td>\n",
              "      <td>7</td>\n",
              "      <td>3.666667</td>\n",
              "      <td>2</td>\n",
              "      <td>192</td>\n",
              "      <td>14</td>\n",
              "      <td>1</td>\n",
              "      <td>1</td>\n",
              "    </tr>\n",
              "    <tr>\n",
              "      <th>1</th>\n",
              "      <td>07:23.9</td>\n",
              "      <td>27</td>\n",
              "      <td>10</td>\n",
              "      <td>0</td>\n",
              "      <td>10</td>\n",
              "      <td>11</td>\n",
              "      <td>2.767195</td>\n",
              "      <td>6</td>\n",
              "      <td>6</td>\n",
              "      <td>7</td>\n",
              "      <td>3.666667</td>\n",
              "      <td>2</td>\n",
              "      <td>192</td>\n",
              "      <td>14</td>\n",
              "      <td>1</td>\n",
              "      <td>1</td>\n",
              "    </tr>\n",
              "    <tr>\n",
              "      <th>2</th>\n",
              "      <td>23:15.1</td>\n",
              "      <td>26</td>\n",
              "      <td>9</td>\n",
              "      <td>0</td>\n",
              "      <td>10</td>\n",
              "      <td>10</td>\n",
              "      <td>2.742338</td>\n",
              "      <td>6</td>\n",
              "      <td>6</td>\n",
              "      <td>7</td>\n",
              "      <td>3.500000</td>\n",
              "      <td>2</td>\n",
              "      <td>192</td>\n",
              "      <td>13</td>\n",
              "      <td>1</td>\n",
              "      <td>0</td>\n",
              "    </tr>\n",
              "    <tr>\n",
              "      <th>3</th>\n",
              "      <td>04:51.9</td>\n",
              "      <td>27</td>\n",
              "      <td>10</td>\n",
              "      <td>0</td>\n",
              "      <td>10</td>\n",
              "      <td>11</td>\n",
              "      <td>2.570417</td>\n",
              "      <td>6</td>\n",
              "      <td>6</td>\n",
              "      <td>7</td>\n",
              "      <td>3.666667</td>\n",
              "      <td>2</td>\n",
              "      <td>192</td>\n",
              "      <td>14</td>\n",
              "      <td>1</td>\n",
              "      <td>1</td>\n",
              "    </tr>\n",
              "    <tr>\n",
              "      <th>4</th>\n",
              "      <td>12:44.0</td>\n",
              "      <td>15</td>\n",
              "      <td>9</td>\n",
              "      <td>0</td>\n",
              "      <td>11</td>\n",
              "      <td>0</td>\n",
              "      <td>2.929439</td>\n",
              "      <td>4</td>\n",
              "      <td>3</td>\n",
              "      <td>5</td>\n",
              "      <td>4.333333</td>\n",
              "      <td>local</td>\n",
              "      <td>local</td>\n",
              "      <td>15</td>\n",
              "      <td>1</td>\n",
              "      <td>1</td>\n",
              "    </tr>\n",
              "  </tbody>\n",
              "</table>\n",
              "</div>"
            ]
          },
          "metadata": {},
          "execution_count": 4
        }
      ]
    },
    {
      "cell_type": "code",
      "source": [
        "df.info()"
      ],
      "metadata": {
        "colab": {
          "base_uri": "https://localhost:8080/"
        },
        "id": "S9IQst_YAoK0",
        "outputId": "02649920-6ae9-44e3-a9f6-39d11f6ddafd"
      },
      "execution_count": null,
      "outputs": [
        {
          "output_type": "stream",
          "name": "stdout",
          "text": [
            "<class 'pandas.core.frame.DataFrame'>\n",
            "RangeIndex: 268074 entries, 0 to 268073\n",
            "Data columns (total 16 columns):\n",
            " #   Column            Non-Null Count   Dtype  \n",
            "---  ------            --------------   -----  \n",
            " 0   timestamp         268074 non-null  object \n",
            " 1   FQDN_count        268074 non-null  int64  \n",
            " 2   subdomain_length  268074 non-null  int64  \n",
            " 3   upper             268074 non-null  int64  \n",
            " 4   lower             268074 non-null  int64  \n",
            " 5   numeric           268074 non-null  int64  \n",
            " 6   entropy           268074 non-null  float64\n",
            " 7   special           268074 non-null  int64  \n",
            " 8   labels            268074 non-null  int64  \n",
            " 9   labels_max        268074 non-null  int64  \n",
            " 10  labels_average    268074 non-null  float64\n",
            " 11  longest_word      268066 non-null  object \n",
            " 12  sld               268074 non-null  object \n",
            " 13  len               268074 non-null  int64  \n",
            " 14  subdomain         268074 non-null  int64  \n",
            " 15  Target Attack     268074 non-null  int64  \n",
            "dtypes: float64(2), int64(11), object(3)\n",
            "memory usage: 32.7+ MB\n"
          ]
        }
      ]
    },
    {
      "cell_type": "code",
      "source": [
        "df.describe().T"
      ],
      "metadata": {
        "colab": {
          "base_uri": "https://localhost:8080/",
          "height": 457
        },
        "id": "PgPr85IbAtlw",
        "outputId": "d5564af9-afd7-483c-946a-59a1e93934f3"
      },
      "execution_count": null,
      "outputs": [
        {
          "output_type": "execute_result",
          "data": {
            "text/plain": [
              "                     count       mean       std       min        25%  \\\n",
              "FQDN_count        268074.0  22.286596  6.001205  2.000000  18.000000   \n",
              "subdomain_length  268074.0   6.059021  3.899505  0.000000   3.000000   \n",
              "upper             268074.0   0.845420  4.941929  0.000000   0.000000   \n",
              "lower             268074.0  10.410014  3.207725  0.000000  10.000000   \n",
              "numeric           268074.0   6.497586  4.499866  0.000000   0.000000   \n",
              "entropy           268074.0   2.485735  0.407709  0.219195   2.054029   \n",
              "special           268074.0   4.533577  2.187683  0.000000   2.000000   \n",
              "labels            268074.0   4.788823  1.803256  1.000000   3.000000   \n",
              "labels_max        268074.0   8.252233  4.415355  2.000000   7.000000   \n",
              "labels_average    268074.0   4.802239  4.573066  2.000000   3.166667   \n",
              "len               268074.0  12.576714  4.177828  2.000000  11.000000   \n",
              "subdomain         268074.0   0.753497  0.430975  0.000000   1.000000   \n",
              "Target Attack     268074.0   0.549024  0.497592  0.000000   0.000000   \n",
              "\n",
              "                        50%        75%        max  \n",
              "FQDN_count        24.000000  27.000000  36.000000  \n",
              "subdomain_length   7.000000  10.000000  23.000000  \n",
              "upper              0.000000   0.000000  32.000000  \n",
              "lower             10.000000  10.000000  34.000000  \n",
              "numeric            8.000000  10.000000  12.000000  \n",
              "entropy            2.570417   2.767195   4.216847  \n",
              "special            6.000000   6.000000   7.000000  \n",
              "labels             6.000000   6.000000   7.000000  \n",
              "labels_max         7.000000   7.000000  32.000000  \n",
              "labels_average     3.666667   4.000000  32.000000  \n",
              "len               12.000000  14.000000  33.000000  \n",
              "subdomain          1.000000   1.000000   1.000000  \n",
              "Target Attack      1.000000   1.000000   1.000000  "
            ],
            "text/html": [
              "<div>\n",
              "<style scoped>\n",
              "    .dataframe tbody tr th:only-of-type {\n",
              "        vertical-align: middle;\n",
              "    }\n",
              "\n",
              "    .dataframe tbody tr th {\n",
              "        vertical-align: top;\n",
              "    }\n",
              "\n",
              "    .dataframe thead th {\n",
              "        text-align: right;\n",
              "    }\n",
              "</style>\n",
              "<table border=\"1\" class=\"dataframe\">\n",
              "  <thead>\n",
              "    <tr style=\"text-align: right;\">\n",
              "      <th></th>\n",
              "      <th>count</th>\n",
              "      <th>mean</th>\n",
              "      <th>std</th>\n",
              "      <th>min</th>\n",
              "      <th>25%</th>\n",
              "      <th>50%</th>\n",
              "      <th>75%</th>\n",
              "      <th>max</th>\n",
              "    </tr>\n",
              "  </thead>\n",
              "  <tbody>\n",
              "    <tr>\n",
              "      <th>FQDN_count</th>\n",
              "      <td>268074.0</td>\n",
              "      <td>22.286596</td>\n",
              "      <td>6.001205</td>\n",
              "      <td>2.000000</td>\n",
              "      <td>18.000000</td>\n",
              "      <td>24.000000</td>\n",
              "      <td>27.000000</td>\n",
              "      <td>36.000000</td>\n",
              "    </tr>\n",
              "    <tr>\n",
              "      <th>subdomain_length</th>\n",
              "      <td>268074.0</td>\n",
              "      <td>6.059021</td>\n",
              "      <td>3.899505</td>\n",
              "      <td>0.000000</td>\n",
              "      <td>3.000000</td>\n",
              "      <td>7.000000</td>\n",
              "      <td>10.000000</td>\n",
              "      <td>23.000000</td>\n",
              "    </tr>\n",
              "    <tr>\n",
              "      <th>upper</th>\n",
              "      <td>268074.0</td>\n",
              "      <td>0.845420</td>\n",
              "      <td>4.941929</td>\n",
              "      <td>0.000000</td>\n",
              "      <td>0.000000</td>\n",
              "      <td>0.000000</td>\n",
              "      <td>0.000000</td>\n",
              "      <td>32.000000</td>\n",
              "    </tr>\n",
              "    <tr>\n",
              "      <th>lower</th>\n",
              "      <td>268074.0</td>\n",
              "      <td>10.410014</td>\n",
              "      <td>3.207725</td>\n",
              "      <td>0.000000</td>\n",
              "      <td>10.000000</td>\n",
              "      <td>10.000000</td>\n",
              "      <td>10.000000</td>\n",
              "      <td>34.000000</td>\n",
              "    </tr>\n",
              "    <tr>\n",
              "      <th>numeric</th>\n",
              "      <td>268074.0</td>\n",
              "      <td>6.497586</td>\n",
              "      <td>4.499866</td>\n",
              "      <td>0.000000</td>\n",
              "      <td>0.000000</td>\n",
              "      <td>8.000000</td>\n",
              "      <td>10.000000</td>\n",
              "      <td>12.000000</td>\n",
              "    </tr>\n",
              "    <tr>\n",
              "      <th>entropy</th>\n",
              "      <td>268074.0</td>\n",
              "      <td>2.485735</td>\n",
              "      <td>0.407709</td>\n",
              "      <td>0.219195</td>\n",
              "      <td>2.054029</td>\n",
              "      <td>2.570417</td>\n",
              "      <td>2.767195</td>\n",
              "      <td>4.216847</td>\n",
              "    </tr>\n",
              "    <tr>\n",
              "      <th>special</th>\n",
              "      <td>268074.0</td>\n",
              "      <td>4.533577</td>\n",
              "      <td>2.187683</td>\n",
              "      <td>0.000000</td>\n",
              "      <td>2.000000</td>\n",
              "      <td>6.000000</td>\n",
              "      <td>6.000000</td>\n",
              "      <td>7.000000</td>\n",
              "    </tr>\n",
              "    <tr>\n",
              "      <th>labels</th>\n",
              "      <td>268074.0</td>\n",
              "      <td>4.788823</td>\n",
              "      <td>1.803256</td>\n",
              "      <td>1.000000</td>\n",
              "      <td>3.000000</td>\n",
              "      <td>6.000000</td>\n",
              "      <td>6.000000</td>\n",
              "      <td>7.000000</td>\n",
              "    </tr>\n",
              "    <tr>\n",
              "      <th>labels_max</th>\n",
              "      <td>268074.0</td>\n",
              "      <td>8.252233</td>\n",
              "      <td>4.415355</td>\n",
              "      <td>2.000000</td>\n",
              "      <td>7.000000</td>\n",
              "      <td>7.000000</td>\n",
              "      <td>7.000000</td>\n",
              "      <td>32.000000</td>\n",
              "    </tr>\n",
              "    <tr>\n",
              "      <th>labels_average</th>\n",
              "      <td>268074.0</td>\n",
              "      <td>4.802239</td>\n",
              "      <td>4.573066</td>\n",
              "      <td>2.000000</td>\n",
              "      <td>3.166667</td>\n",
              "      <td>3.666667</td>\n",
              "      <td>4.000000</td>\n",
              "      <td>32.000000</td>\n",
              "    </tr>\n",
              "    <tr>\n",
              "      <th>len</th>\n",
              "      <td>268074.0</td>\n",
              "      <td>12.576714</td>\n",
              "      <td>4.177828</td>\n",
              "      <td>2.000000</td>\n",
              "      <td>11.000000</td>\n",
              "      <td>12.000000</td>\n",
              "      <td>14.000000</td>\n",
              "      <td>33.000000</td>\n",
              "    </tr>\n",
              "    <tr>\n",
              "      <th>subdomain</th>\n",
              "      <td>268074.0</td>\n",
              "      <td>0.753497</td>\n",
              "      <td>0.430975</td>\n",
              "      <td>0.000000</td>\n",
              "      <td>1.000000</td>\n",
              "      <td>1.000000</td>\n",
              "      <td>1.000000</td>\n",
              "      <td>1.000000</td>\n",
              "    </tr>\n",
              "    <tr>\n",
              "      <th>Target Attack</th>\n",
              "      <td>268074.0</td>\n",
              "      <td>0.549024</td>\n",
              "      <td>0.497592</td>\n",
              "      <td>0.000000</td>\n",
              "      <td>0.000000</td>\n",
              "      <td>1.000000</td>\n",
              "      <td>1.000000</td>\n",
              "      <td>1.000000</td>\n",
              "    </tr>\n",
              "  </tbody>\n",
              "</table>\n",
              "</div>"
            ]
          },
          "metadata": {},
          "execution_count": 6
        }
      ]
    },
    {
      "cell_type": "code",
      "source": [
        "print('Number of Features In Dataset :', df.shape[1])\n",
        "print('Number of Instances In Dataset : ', df.shape[0])"
      ],
      "metadata": {
        "colab": {
          "base_uri": "https://localhost:8080/"
        },
        "id": "xSazOhU5Az6W",
        "outputId": "b31aabf9-7dc9-421e-a2d3-43e1d5fde5de"
      },
      "execution_count": null,
      "outputs": [
        {
          "output_type": "stream",
          "name": "stdout",
          "text": [
            "Number of Features In Dataset : 16\n",
            "Number of Instances In Dataset :  268074\n"
          ]
        }
      ]
    },
    {
      "cell_type": "code",
      "metadata": {
        "id": "ionE0mW28UC2",
        "colab": {
          "base_uri": "https://localhost:8080/"
        },
        "outputId": "d2f9f536-3c1f-4d7e-e19a-f05a9d569896"
      },
      "source": [
        "# Get numeric columns\n",
        "num_cols = df.select_dtypes(include=[np.number]).columns.values\n",
        "print('Numeric cols :',num_cols)"
      ],
      "execution_count": null,
      "outputs": [
        {
          "output_type": "stream",
          "name": "stdout",
          "text": [
            "Numeric cols : ['FQDN_count' 'subdomain_length' 'upper' 'lower' 'numeric' 'entropy'\n",
            " 'special' 'labels' 'labels_max' 'labels_average' 'len' 'subdomain'\n",
            " 'Target Attack']\n"
          ]
        }
      ]
    },
    {
      "cell_type": "code",
      "metadata": {
        "id": "mrwybUQ8SgET",
        "colab": {
          "base_uri": "https://localhost:8080/"
        },
        "outputId": "727f7db3-ba89-4ea8-b6c9-edac7b143565"
      },
      "source": [
        "# Get Non-numeric/categorical columns\n",
        "cat_cols = df.select_dtypes(exclude=[np.number]).columns.values\n",
        "print('Categorical cols :',cat_cols)"
      ],
      "execution_count": null,
      "outputs": [
        {
          "output_type": "stream",
          "name": "stdout",
          "text": [
            "Categorical cols : ['timestamp' 'longest_word' 'sld']\n"
          ]
        }
      ]
    },
    {
      "cell_type": "code",
      "metadata": {
        "id": "CJp3iGkEILyi",
        "colab": {
          "base_uri": "https://localhost:8080/",
          "height": 586
        },
        "outputId": "249c2dcb-f6ec-4f71-e1f0-e3b3f7b83295"
      },
      "source": [
        "print('value counts')\n",
        "print(df['Target Attack'].value_counts())\n",
        "\n",
        "# Countplot of Target (Target Attack)\n",
        "sns.countplot(df['Target Attack'])\n"
      ],
      "execution_count": null,
      "outputs": [
        {
          "output_type": "stream",
          "name": "stdout",
          "text": [
            "value counts\n",
            "1    147179\n",
            "0    120895\n",
            "Name: Target Attack, dtype: int64\n"
          ]
        },
        {
          "output_type": "execute_result",
          "data": {
            "text/plain": [
              "<AxesSubplot:xlabel='Target Attack', ylabel='count'>"
            ]
          },
          "metadata": {},
          "execution_count": 10
        },
        {
          "output_type": "display_data",
          "data": {
            "text/plain": [
              "<Figure size 864x576 with 1 Axes>"
            ],
            "image/png": "[encoded data removed]"
          },
          "metadata": {}
        }
      ]
    },
    {
      "cell_type": "code",
      "source": [
        "print('\\nvalue counts (%)')\n",
        "print(round(100*df['Target Attack'].value_counts()/(df['Target Attack'].count()),2))\n",
        "\n",
        "sizes = dict(df['Target Attack'].value_counts())\n",
        "plt.title(\"How much target attack is in proportion?\")\n",
        "plt.pie(sizes.values(), labels=['Yes', 'No'], autopct=\"%.1f%%\", pctdistance=0.85)\n",
        "\n",
        "plt.show()"
      ],
      "metadata": {
        "colab": {
          "base_uri": "https://localhost:8080/",
          "height": 567
        },
        "id": "PMTxpZ4bBe8g",
        "outputId": "74f7b576-acea-4b74-f6c2-f30c2fe6b2d5"
      },
      "execution_count": null,
      "outputs": [
        {
          "output_type": "stream",
          "name": "stdout",
          "text": [
            "\n",
            "value counts (%)\n",
            "1    54.9\n",
            "0    45.1\n",
            "Name: Target Attack, dtype: float64\n"
          ]
        },
        {
          "output_type": "display_data",
          "data": {
            "text/plain": [
              "<Figure size 864x576 with 1 Axes>"
            ],
            "image/png": "[encoded data removed]"
          },
          "metadata": {}
        }
      ]
    },
    {
      "cell_type": "code",
      "source": [
        "# Check for missing data\n",
        "\n",
        "# Number of missing values\n",
        "print(df.isnull().sum().sort_values(ascending=False))"
      ],
      "metadata": {
        "colab": {
          "base_uri": "https://localhost:8080/"
        },
        "id": "mnvpGJCdjXmL",
        "outputId": "b03ec306-f7c1-4970-94bb-a21bc31c577f"
      },
      "execution_count": null,
      "outputs": [
        {
          "output_type": "stream",
          "name": "stdout",
          "text": [
            "longest_word        8\n",
            "timestamp           0\n",
            "FQDN_count          0\n",
            "subdomain_length    0\n",
            "upper               0\n",
            "lower               0\n",
            "numeric             0\n",
            "entropy             0\n",
            "special             0\n",
            "labels              0\n",
            "labels_max          0\n",
            "labels_average      0\n",
            "sld                 0\n",
            "len                 0\n",
            "subdomain           0\n",
            "Target Attack       0\n",
            "dtype: int64\n"
          ]
        }
      ]
    },
    {
      "cell_type": "code",
      "metadata": {
        "id": "nswA-26nw56D",
        "colab": {
          "base_uri": "https://localhost:8080/",
          "height": 587
        },
        "outputId": "9a8e68f5-769e-451d-d73d-0440c0da3664"
      },
      "source": [
        "# Correlation plot\n",
        "sns.heatmap(df.dropna().corr(), annot=True, cmap='viridis')"
      ],
      "execution_count": null,
      "outputs": [
        {
          "output_type": "execute_result",
          "data": {
            "text/plain": [
              "<AxesSubplot:>"
            ]
          },
          "metadata": {},
          "execution_count": 13
        },
        {
          "output_type": "display_data",
          "data": {
            "text/plain": [
              "<Figure size 864x576 with 2 Axes>"
            ],
            "image/png": "[encoded data removed]"
          },
          "metadata": {}
        }
      ]
    },
    {
      "cell_type": "code",
      "source": [
        "#checking the correlation with respect to target variable\n",
        "target_corr = df.corr()['Target Attack'].sort_values(ascending=False)\n",
        "target_corr[1:].plot.bar()\n",
        "target_corr"
      ],
      "metadata": {
        "colab": {
          "base_uri": "https://localhost:8080/",
          "height": 809
        },
        "id": "5KwsYlG4Hvs_",
        "outputId": "48c6bb5f-9530-4b7a-dbf6-6d4130e2942c"
      },
      "execution_count": null,
      "outputs": [
        {
          "output_type": "execute_result",
          "data": {
            "text/plain": [
              "Target Attack       1.000000\n",
              "numeric             0.599252\n",
              "special             0.582107\n",
              "subdomain_length    0.572053\n",
              "labels              0.569414\n",
              "FQDN_count          0.563563\n",
              "subdomain           0.502469\n",
              "len                 0.159437\n",
              "upper               0.072895\n",
              "labels_average     -0.077167\n",
              "labels_max         -0.096350\n",
              "entropy            -0.119050\n",
              "lower              -0.295599\n",
              "Name: Target Attack, dtype: float64"
            ]
          },
          "metadata": {},
          "execution_count": 14
        },
        {
          "output_type": "display_data",
          "data": {
            "text/plain": [
              "<Figure size 864x576 with 1 Axes>"
            ],
            "image/png": "[encoded data removed]"
          },
          "metadata": {}
        }
      ]
    },
    {
      "cell_type": "code",
      "source": [
        "target_corr_abs = abs(target_corr).sort_values(ascending=False)\n",
        "target_corr_abs"
      ],
      "metadata": {
        "colab": {
          "base_uri": "https://localhost:8080/"
        },
        "id": "X3VnizLhUe_N",
        "outputId": "e84dd34d-3910-489a-a270-15e5e3934056"
      },
      "execution_count": null,
      "outputs": [
        {
          "output_type": "execute_result",
          "data": {
            "text/plain": [
              "Target Attack       1.000000\n",
              "numeric             0.599252\n",
              "special             0.582107\n",
              "subdomain_length    0.572053\n",
              "labels              0.569414\n",
              "FQDN_count          0.563563\n",
              "subdomain           0.502469\n",
              "lower               0.295599\n",
              "len                 0.159437\n",
              "entropy             0.119050\n",
              "labels_max          0.096350\n",
              "labels_average      0.077167\n",
              "upper               0.072895\n",
              "Name: Target Attack, dtype: float64"
            ]
          },
          "metadata": {},
          "execution_count": 15
        }
      ]
    },
    {
      "cell_type": "code",
      "metadata": {
        "id": "PX402tLkpyu1",
        "colab": {
          "base_uri": "https://localhost:8080/",
          "height": 144
        },
        "outputId": "13412979-5723-41a5-d362-93436168d085"
      },
      "source": [
        "# summary statistics for the numeric, grouped by the Target Attack.\n",
        "df.groupby('Target Attack')['numeric'].describe()"
      ],
      "execution_count": null,
      "outputs": [
        {
          "output_type": "execute_result",
          "data": {
            "text/plain": [
              "                  count      mean       std  min  25%  50%   75%   max\n",
              "Target Attack                                                         \n",
              "0              120895.0  3.522313  4.593332  0.0  0.0  0.0   8.0  12.0\n",
              "1              147179.0  8.941520  2.511282  0.0  8.0  9.0  11.0  12.0"
            ],
            "text/html": [
              "<div>\n",
              "<style scoped>\n",
              "    .dataframe tbody tr th:only-of-type {\n",
              "        vertical-align: middle;\n",
              "    }\n",
              "\n",
              "    .dataframe tbody tr th {\n",
              "        vertical-align: top;\n",
              "    }\n",
              "\n",
              "    .dataframe thead th {\n",
              "        text-align: right;\n",
              "    }\n",
              "</style>\n",
              "<table border=\"1\" class=\"dataframe\">\n",
              "  <thead>\n",
              "    <tr style=\"text-align: right;\">\n",
              "      <th></th>\n",
              "      <th>count</th>\n",
              "      <th>mean</th>\n",
              "      <th>std</th>\n",
              "      <th>min</th>\n",
              "      <th>25%</th>\n",
              "      <th>50%</th>\n",
              "      <th>75%</th>\n",
              "      <th>max</th>\n",
              "    </tr>\n",
              "    <tr>\n",
              "      <th>Target Attack</th>\n",
              "      <th></th>\n",
              "      <th></th>\n",
              "      <th></th>\n",
              "      <th></th>\n",
              "      <th></th>\n",
              "      <th></th>\n",
              "      <th></th>\n",
              "      <th></th>\n",
              "    </tr>\n",
              "  </thead>\n",
              "  <tbody>\n",
              "    <tr>\n",
              "      <th>0</th>\n",
              "      <td>120895.0</td>\n",
              "      <td>3.522313</td>\n",
              "      <td>4.593332</td>\n",
              "      <td>0.0</td>\n",
              "      <td>0.0</td>\n",
              "      <td>0.0</td>\n",
              "      <td>8.0</td>\n",
              "      <td>12.0</td>\n",
              "    </tr>\n",
              "    <tr>\n",
              "      <th>1</th>\n",
              "      <td>147179.0</td>\n",
              "      <td>8.941520</td>\n",
              "      <td>2.511282</td>\n",
              "      <td>0.0</td>\n",
              "      <td>8.0</td>\n",
              "      <td>9.0</td>\n",
              "      <td>11.0</td>\n",
              "      <td>12.0</td>\n",
              "    </tr>\n",
              "  </tbody>\n",
              "</table>\n",
              "</div>"
            ]
          },
          "metadata": {},
          "execution_count": 16
        }
      ]
    },
    {
      "cell_type": "code",
      "source": [
        "# summary statistics for the special, grouped by the Target Attack.\n",
        "df.groupby('Target Attack')['special'].describe()"
      ],
      "metadata": {
        "colab": {
          "base_uri": "https://localhost:8080/",
          "height": 144
        },
        "id": "FBh3We8cak1z",
        "outputId": "b030ed98-21a2-40bd-be75-877eb9d9357b"
      },
      "execution_count": null,
      "outputs": [
        {
          "output_type": "execute_result",
          "data": {
            "text/plain": [
              "                  count      mean       std  min  25%  50%  75%  max\n",
              "Target Attack                                                       \n",
              "0              120895.0  3.128483  2.239888  0.0  1.0  2.0  6.0  7.0\n",
              "1              147179.0  5.687741  1.281525  0.0  6.0  6.0  6.0  6.0"
            ],
            "text/html": [
              "<div>\n",
              "<style scoped>\n",
              "    .dataframe tbody tr th:only-of-type {\n",
              "        vertical-align: middle;\n",
              "    }\n",
              "\n",
              "    .dataframe tbody tr th {\n",
              "        vertical-align: top;\n",
              "    }\n",
              "\n",
              "    .dataframe thead th {\n",
              "        text-align: right;\n",
              "    }\n",
              "</style>\n",
              "<table border=\"1\" class=\"dataframe\">\n",
              "  <thead>\n",
              "    <tr style=\"text-align: right;\">\n",
              "      <th></th>\n",
              "      <th>count</th>\n",
              "      <th>mean</th>\n",
              "      <th>std</th>\n",
              "      <th>min</th>\n",
              "      <th>25%</th>\n",
              "      <th>50%</th>\n",
              "      <th>75%</th>\n",
              "      <th>max</th>\n",
              "    </tr>\n",
              "    <tr>\n",
              "      <th>Target Attack</th>\n",
              "      <th></th>\n",
              "      <th></th>\n",
              "      <th></th>\n",
              "      <th></th>\n",
              "      <th></th>\n",
              "      <th></th>\n",
              "      <th></th>\n",
              "      <th></th>\n",
              "    </tr>\n",
              "  </thead>\n",
              "  <tbody>\n",
              "    <tr>\n",
              "      <th>0</th>\n",
              "      <td>120895.0</td>\n",
              "      <td>3.128483</td>\n",
              "      <td>2.239888</td>\n",
              "      <td>0.0</td>\n",
              "      <td>1.0</td>\n",
              "      <td>2.0</td>\n",
              "      <td>6.0</td>\n",
              "      <td>7.0</td>\n",
              "    </tr>\n",
              "    <tr>\n",
              "      <th>1</th>\n",
              "      <td>147179.0</td>\n",
              "      <td>5.687741</td>\n",
              "      <td>1.281525</td>\n",
              "      <td>0.0</td>\n",
              "      <td>6.0</td>\n",
              "      <td>6.0</td>\n",
              "      <td>6.0</td>\n",
              "      <td>6.0</td>\n",
              "    </tr>\n",
              "  </tbody>\n",
              "</table>\n",
              "</div>"
            ]
          },
          "metadata": {},
          "execution_count": 17
        }
      ]
    },
    {
      "cell_type": "code",
      "metadata": {
        "id": "bx5O5sxVc3Wl",
        "colab": {
          "base_uri": "https://localhost:8080/",
          "height": 502
        },
        "outputId": "d9032317-d9ec-4a5d-d6d2-66dab6fe550a"
      },
      "source": [
        "# Histogram of special and numeric           \n",
        "sns.histplot([df['numeric'],df['special']], kde=False, bins=25)\n",
        "# sns.histplot(df['special'], kde=False)"
      ],
      "execution_count": null,
      "outputs": [
        {
          "output_type": "execute_result",
          "data": {
            "text/plain": [
              "<AxesSubplot:ylabel='Count'>"
            ]
          },
          "metadata": {},
          "execution_count": 18
        },
        {
          "output_type": "display_data",
          "data": {
            "text/plain": [
              "<Figure size 864x576 with 1 Axes>"
            ],
            "image/png": "[encoded data removed]"
          },
          "metadata": {}
        }
      ]
    },
    {
      "cell_type": "code",
      "source": [
        "# summary statistics for the labels, grouped by the Target Attack.\n",
        "df.groupby('Target Attack')['labels'].describe()"
      ],
      "metadata": {
        "colab": {
          "base_uri": "https://localhost:8080/",
          "height": 144
        },
        "id": "lh13d1iVaodt",
        "outputId": "a1b0afc8-4a7d-4288-8ce8-21423e30be37"
      },
      "execution_count": null,
      "outputs": [
        {
          "output_type": "execute_result",
          "data": {
            "text/plain": [
              "                  count      mean       std  min  25%  50%  75%  max\n",
              "Target Attack                                                       \n",
              "0              120895.0  3.655891  1.827249  1.0  2.0  3.0  6.0  7.0\n",
              "1              147179.0  5.719430  1.122430  1.0  6.0  6.0  6.0  7.0"
            ],
            "text/html": [
              "<div>\n",
              "<style scoped>\n",
              "    .dataframe tbody tr th:only-of-type {\n",
              "        vertical-align: middle;\n",
              "    }\n",
              "\n",
              "    .dataframe tbody tr th {\n",
              "        vertical-align: top;\n",
              "    }\n",
              "\n",
              "    .dataframe thead th {\n",
              "        text-align: right;\n",
              "    }\n",
              "</style>\n",
              "<table border=\"1\" class=\"dataframe\">\n",
              "  <thead>\n",
              "    <tr style=\"text-align: right;\">\n",
              "      <th></th>\n",
              "      <th>count</th>\n",
              "      <th>mean</th>\n",
              "      <th>std</th>\n",
              "      <th>min</th>\n",
              "      <th>25%</th>\n",
              "      <th>50%</th>\n",
              "      <th>75%</th>\n",
              "      <th>max</th>\n",
              "    </tr>\n",
              "    <tr>\n",
              "      <th>Target Attack</th>\n",
              "      <th></th>\n",
              "      <th></th>\n",
              "      <th></th>\n",
              "      <th></th>\n",
              "      <th></th>\n",
              "      <th></th>\n",
              "      <th></th>\n",
              "      <th></th>\n",
              "    </tr>\n",
              "  </thead>\n",
              "  <tbody>\n",
              "    <tr>\n",
              "      <th>0</th>\n",
              "      <td>120895.0</td>\n",
              "      <td>3.655891</td>\n",
              "      <td>1.827249</td>\n",
              "      <td>1.0</td>\n",
              "      <td>2.0</td>\n",
              "      <td>3.0</td>\n",
              "      <td>6.0</td>\n",
              "      <td>7.0</td>\n",
              "    </tr>\n",
              "    <tr>\n",
              "      <th>1</th>\n",
              "      <td>147179.0</td>\n",
              "      <td>5.719430</td>\n",
              "      <td>1.122430</td>\n",
              "      <td>1.0</td>\n",
              "      <td>6.0</td>\n",
              "      <td>6.0</td>\n",
              "      <td>6.0</td>\n",
              "      <td>7.0</td>\n",
              "    </tr>\n",
              "  </tbody>\n",
              "</table>\n",
              "</div>"
            ]
          },
          "metadata": {},
          "execution_count": 19
        }
      ]
    },
    {
      "cell_type": "code",
      "source": [
        "# summary statistics for the subdomain_length, grouped by the Target Attack.\n",
        "df.groupby('Target Attack')['subdomain_length'].describe()"
      ],
      "metadata": {
        "colab": {
          "base_uri": "https://localhost:8080/",
          "height": 144
        },
        "id": "XUV51VtJaLR6",
        "outputId": "484a8964-979e-4676-b984-95593d364de6"
      },
      "execution_count": null,
      "outputs": [
        {
          "output_type": "execute_result",
          "data": {
            "text/plain": [
              "                  count      mean       std  min  25%  50%   75%   max\n",
              "Target Attack                                                         \n",
              "0              120895.0  3.597725  4.025141  0.0  0.0  3.0   7.0  23.0\n",
              "1              147179.0  8.080766  2.307555  0.0  7.0  8.0  10.0  20.0"
            ],
            "text/html": [
              "<div>\n",
              "<style scoped>\n",
              "    .dataframe tbody tr th:only-of-type {\n",
              "        vertical-align: middle;\n",
              "    }\n",
              "\n",
              "    .dataframe tbody tr th {\n",
              "        vertical-align: top;\n",
              "    }\n",
              "\n",
              "    .dataframe thead th {\n",
              "        text-align: right;\n",
              "    }\n",
              "</style>\n",
              "<table border=\"1\" class=\"dataframe\">\n",
              "  <thead>\n",
              "    <tr style=\"text-align: right;\">\n",
              "      <th></th>\n",
              "      <th>count</th>\n",
              "      <th>mean</th>\n",
              "      <th>std</th>\n",
              "      <th>min</th>\n",
              "      <th>25%</th>\n",
              "      <th>50%</th>\n",
              "      <th>75%</th>\n",
              "      <th>max</th>\n",
              "    </tr>\n",
              "    <tr>\n",
              "      <th>Target Attack</th>\n",
              "      <th></th>\n",
              "      <th></th>\n",
              "      <th></th>\n",
              "      <th></th>\n",
              "      <th></th>\n",
              "      <th></th>\n",
              "      <th></th>\n",
              "      <th></th>\n",
              "    </tr>\n",
              "  </thead>\n",
              "  <tbody>\n",
              "    <tr>\n",
              "      <th>0</th>\n",
              "      <td>120895.0</td>\n",
              "      <td>3.597725</td>\n",
              "      <td>4.025141</td>\n",
              "      <td>0.0</td>\n",
              "      <td>0.0</td>\n",
              "      <td>3.0</td>\n",
              "      <td>7.0</td>\n",
              "      <td>23.0</td>\n",
              "    </tr>\n",
              "    <tr>\n",
              "      <th>1</th>\n",
              "      <td>147179.0</td>\n",
              "      <td>8.080766</td>\n",
              "      <td>2.307555</td>\n",
              "      <td>0.0</td>\n",
              "      <td>7.0</td>\n",
              "      <td>8.0</td>\n",
              "      <td>10.0</td>\n",
              "      <td>20.0</td>\n",
              "    </tr>\n",
              "  </tbody>\n",
              "</table>\n",
              "</div>"
            ]
          },
          "metadata": {},
          "execution_count": 20
        }
      ]
    },
    {
      "cell_type": "code",
      "metadata": {
        "id": "GYuIqM87-JOc",
        "colab": {
          "base_uri": "https://localhost:8080/",
          "height": 516
        },
        "outputId": "829d557c-62bd-4a27-eeb9-1b2778b048e6"
      },
      "source": [
        "sns.scatterplot('len','subdomain_length', data=df,hue='Target Attack')"
      ],
      "execution_count": null,
      "outputs": [
        {
          "output_type": "execute_result",
          "data": {
            "text/plain": [
              "<AxesSubplot:xlabel='len', ylabel='subdomain_length'>"
            ]
          },
          "metadata": {},
          "execution_count": 21
        },
        {
          "output_type": "display_data",
          "data": {
            "text/plain": [
              "<Figure size 864x576 with 1 Axes>"
            ],
            "image/png": "[encoded data removed]"
          },
          "metadata": {}
        }
      ]
    },
    {
      "cell_type": "code",
      "source": [
        "print('Unique timestamp :',df['timestamp'].unique(),'\\n')\n",
        "print('Value counts of timestamp :\\n',df['timestamp'].value_counts())\n",
        "df.drop(['timestamp'], axis=1, inplace=True) "
      ],
      "metadata": {
        "colab": {
          "base_uri": "https://localhost:8080/"
        },
        "id": "39Je8maUlps1",
        "outputId": "ff6d52e5-a609-4e7d-dff5-0e892715e291"
      },
      "execution_count": null,
      "outputs": [
        {
          "output_type": "stream",
          "name": "stdout",
          "text": [
            "Unique timestamp : ['56:19.8' '07:23.9' '23:15.1' ... '31:45.8' '51:38.3' '00:40.7'] \n",
            "\n",
            "Value counts of timestamp :\n",
            " 49:26.7    46\n",
            "49:27.5    43\n",
            "49:27.1    42\n",
            "49:27.4    39\n",
            "49:26.9    35\n",
            "           ..\n",
            "17:24.3     1\n",
            "24:38.0     1\n",
            "32:44.2     1\n",
            "31:35.2     1\n",
            "49:40.3     1\n",
            "Name: timestamp, Length: 35924, dtype: int64\n"
          ]
        }
      ]
    },
    {
      "cell_type": "code",
      "source": [
        "print('Unique longest_word :',df['longest_word'].unique(),'\\n')\n",
        "print('Value counts of longest_word :\\n',df['longest_word'].value_counts())"
      ],
      "metadata": {
        "colab": {
          "base_uri": "https://localhost:8080/"
        },
        "id": "3UA_SkGdkeHb",
        "outputId": "85ef2416-6f31-4642-819a-3dd941d75855"
      },
      "execution_count": null,
      "outputs": [
        {
          "output_type": "stream",
          "name": "stdout",
          "text": [
            "Unique longest_word : ['2' 'local' 'pforzheim' ... 'match' 'pantheon' 'sizer'] \n",
            "\n",
            "Value counts of longest_word :\n",
            " 2          109981\n",
            "4           70188\n",
            "N            4498\n",
            "C            2969\n",
            "9            1906\n",
            "            ...  \n",
            "onenote         1\n",
            "airdrop         1\n",
            "mal             1\n",
            "cres            1\n",
            "yaa             1\n",
            "Name: longest_word, Length: 6224, dtype: int64\n"
          ]
        }
      ]
    },
    {
      "cell_type": "code",
      "source": [
        "print('Unique sld :',df['sld'].unique(),'\\n')\n",
        "print('Value counts of sld :\\n',df['sld'].value_counts())"
      ],
      "metadata": {
        "colab": {
          "base_uri": "https://localhost:8080/"
        },
        "id": "ugn8j8Y3l1-c",
        "outputId": "80f9b032-6a40-4643-cc12-c6bb5ae6c379"
      },
      "execution_count": null,
      "outputs": [
        {
          "output_type": "stream",
          "name": "stdout",
          "text": [
            "Unique sld : ['192' 'local' 'pforzheim-bisons' ... 'telia' 'boomstream' 'e2ma'] \n",
            "\n",
            "Value counts of sld :\n",
            " 192                                 109517\n",
            "224                                  70188\n",
            "FHEPFCELEHFCEPFFFACACACACACACABN      4498\n",
            "DESKTOP-3JF04TC                       1961\n",
            "239                                   1906\n",
            "                                     ...  \n",
            "cicresearch                              1\n",
            "queue-it                                 1\n",
            "lahemal                                  1\n",
            "bukkit                                   1\n",
            "yaarlnk                                  1\n",
            "Name: sld, Length: 11112, dtype: int64\n"
          ]
        }
      ]
    },
    {
      "cell_type": "markdown",
      "source": [
        "## 2. Data Preprocessing\n",
        "- Null value treatment\n",
        "- Feature Encoding\n",
        "- Treating Duplicate datapoints\n",
        "- Feature Selection"
      ],
      "metadata": {
        "id": "gC2AWwX2C35i"
      }
    },
    {
      "cell_type": "code",
      "source": [
        "# Null value treatment\n",
        "df = df.replace(np.nan, 0)"
      ],
      "metadata": {
        "id": "KFHA65eGDYsy"
      },
      "execution_count": null,
      "outputs": []
    },
    {
      "cell_type": "code",
      "source": [
        "# Feature Encoding\n",
        "# Converting Cat columns to Num columns\n",
        "hash = FeatureHasher(n_features=5, input_type='string')"
      ],
      "metadata": {
        "id": "QAsOlmWjpiqb"
      },
      "execution_count": null,
      "outputs": []
    },
    {
      "cell_type": "code",
      "source": [
        "longest_word = hash.fit_transform(df[['longest_word']].astype(str).values).todense()\n",
        "longest_word = pd.DataFrame(longest_word, columns=['longest_word_hash'+str(i) for i in range(1,6)])\n",
        "longest_word"
      ],
      "metadata": {
        "colab": {
          "base_uri": "https://localhost:8080/",
          "height": 424
        },
        "id": "wYH6x2uyp84D",
        "outputId": "a1726b69-42e8-4519-9cad-e8a071556195"
      },
      "execution_count": null,
      "outputs": [
        {
          "output_type": "execute_result",
          "data": {
            "text/plain": [
              "        longest_word_hash1  longest_word_hash2  longest_word_hash3  \\\n",
              "0                      0.0                 1.0                 0.0   \n",
              "1                      0.0                 1.0                 0.0   \n",
              "2                      0.0                 1.0                 0.0   \n",
              "3                      0.0                 1.0                 0.0   \n",
              "4                      0.0                 1.0                 0.0   \n",
              "...                    ...                 ...                 ...   \n",
              "268069                 0.0                 0.0                 0.0   \n",
              "268070                 0.0                 1.0                 0.0   \n",
              "268071                 0.0                 1.0                 0.0   \n",
              "268072                 0.0                 0.0                 0.0   \n",
              "268073                 0.0                 1.0                 0.0   \n",
              "\n",
              "        longest_word_hash4  longest_word_hash5  \n",
              "0                      0.0                 0.0  \n",
              "1                      0.0                 0.0  \n",
              "2                      0.0                 0.0  \n",
              "3                      0.0                 0.0  \n",
              "4                      0.0                 0.0  \n",
              "...                    ...                 ...  \n",
              "268069                 0.0                -1.0  \n",
              "268070                 0.0                 0.0  \n",
              "268071                 0.0                 0.0  \n",
              "268072                 1.0                 0.0  \n",
              "268073                 0.0                 0.0  \n",
              "\n",
              "[268074 rows x 5 columns]"
            ],
            "text/html": [
              "<div>\n",
              "<style scoped>\n",
              "    .dataframe tbody tr th:only-of-type {\n",
              "        vertical-align: middle;\n",
              "    }\n",
              "\n",
              "    .dataframe tbody tr th {\n",
              "        vertical-align: top;\n",
              "    }\n",
              "\n",
              "    .dataframe thead th {\n",
              "        text-align: right;\n",
              "    }\n",
              "</style>\n",
              "<table border=\"1\" class=\"dataframe\">\n",
              "  <thead>\n",
              "    <tr style=\"text-align: right;\">\n",
              "      <th></th>\n",
              "      <th>longest_word_hash1</th>\n",
              "      <th>longest_word_hash2</th>\n",
              "      <th>longest_word_hash3</th>\n",
              "      <th>longest_word_hash4</th>\n",
              "      <th>longest_word_hash5</th>\n",
              "    </tr>\n",
              "  </thead>\n",
              "  <tbody>\n",
              "    <tr>\n",
              "      <th>0</th>\n",
              "      <td>0.0</td>\n",
              "      <td>1.0</td>\n",
              "      <td>0.0</td>\n",
              "      <td>0.0</td>\n",
              "      <td>0.0</td>\n",
              "    </tr>\n",
              "    <tr>\n",
              "      <th>1</th>\n",
              "      <td>0.0</td>\n",
              "      <td>1.0</td>\n",
              "      <td>0.0</td>\n",
              "      <td>0.0</td>\n",
              "      <td>0.0</td>\n",
              "    </tr>\n",
              "    <tr>\n",
              "      <th>2</th>\n",
              "      <td>0.0</td>\n",
              "      <td>1.0</td>\n",
              "      <td>0.0</td>\n",
              "      <td>0.0</td>\n",
              "      <td>0.0</td>\n",
              "    </tr>\n",
              "    <tr>\n",
              "      <th>3</th>\n",
              "      <td>0.0</td>\n",
              "      <td>1.0</td>\n",
              "      <td>0.0</td>\n",
              "      <td>0.0</td>\n",
              "      <td>0.0</td>\n",
              "    </tr>\n",
              "    <tr>\n",
              "      <th>4</th>\n",
              "      <td>0.0</td>\n",
              "      <td>1.0</td>\n",
              "      <td>0.0</td>\n",
              "      <td>0.0</td>\n",
              "      <td>0.0</td>\n",
              "    </tr>\n",
              "    <tr>\n",
              "      <th>...</th>\n",
              "      <td>...</td>\n",
              "      <td>...</td>\n",
              "      <td>...</td>\n",
              "      <td>...</td>\n",
              "      <td>...</td>\n",
              "    </tr>\n",
              "    <tr>\n",
              "      <th>268069</th>\n",
              "      <td>0.0</td>\n",
              "      <td>0.0</td>\n",
              "      <td>0.0</td>\n",
              "      <td>0.0</td>\n",
              "      <td>-1.0</td>\n",
              "    </tr>\n",
              "    <tr>\n",
              "      <th>268070</th>\n",
              "      <td>0.0</td>\n",
              "      <td>1.0</td>\n",
              "      <td>0.0</td>\n",
              "      <td>0.0</td>\n",
              "      <td>0.0</td>\n",
              "    </tr>\n",
              "    <tr>\n",
              "      <th>268071</th>\n",
              "      <td>0.0</td>\n",
              "      <td>1.0</td>\n",
              "      <td>0.0</td>\n",
              "      <td>0.0</td>\n",
              "      <td>0.0</td>\n",
              "    </tr>\n",
              "    <tr>\n",
              "      <th>268072</th>\n",
              "      <td>0.0</td>\n",
              "      <td>0.0</td>\n",
              "      <td>0.0</td>\n",
              "      <td>1.0</td>\n",
              "      <td>0.0</td>\n",
              "    </tr>\n",
              "    <tr>\n",
              "      <th>268073</th>\n",
              "      <td>0.0</td>\n",
              "      <td>1.0</td>\n",
              "      <td>0.0</td>\n",
              "      <td>0.0</td>\n",
              "      <td>0.0</td>\n",
              "    </tr>\n",
              "  </tbody>\n",
              "</table>\n",
              "<p>268074 rows × 5 columns</p>\n",
              "</div>"
            ]
          },
          "metadata": {},
          "execution_count": 27
        }
      ]
    },
    {
      "cell_type": "code",
      "source": [
        "sld = hash.fit_transform(df[['sld']].astype(str).values).todense()\n",
        "sld = pd.DataFrame(sld, columns=['sld'+str(i) for i in range(1,6)])\n",
        "sld"
      ],
      "metadata": {
        "colab": {
          "base_uri": "https://localhost:8080/",
          "height": 424
        },
        "id": "WwVfNvJRraBU",
        "outputId": "19a42771-5d91-4f36-be73-e929bd27b236"
      },
      "execution_count": null,
      "outputs": [
        {
          "output_type": "execute_result",
          "data": {
            "text/plain": [
              "        sld1  sld2  sld3  sld4  sld5\n",
              "0        0.0  -1.0   0.0   0.0   0.0\n",
              "1        0.0  -1.0   0.0   0.0   0.0\n",
              "2        0.0  -1.0   0.0   0.0   0.0\n",
              "3        0.0  -1.0   0.0   0.0   0.0\n",
              "4        0.0   1.0   0.0   0.0   0.0\n",
              "...      ...   ...   ...   ...   ...\n",
              "268069   1.0   0.0   0.0   0.0   0.0\n",
              "268070   0.0  -1.0   0.0   0.0   0.0\n",
              "268071   0.0  -1.0   0.0   0.0   0.0\n",
              "268072   0.0   1.0   0.0   0.0   0.0\n",
              "268073   0.0  -1.0   0.0   0.0   0.0\n",
              "\n",
              "[268074 rows x 5 columns]"
            ],
            "text/html": [
              "<div>\n",
              "<style scoped>\n",
              "    .dataframe tbody tr th:only-of-type {\n",
              "        vertical-align: middle;\n",
              "    }\n",
              "\n",
              "    .dataframe tbody tr th {\n",
              "        vertical-align: top;\n",
              "    }\n",
              "\n",
              "    .dataframe thead th {\n",
              "        text-align: right;\n",
              "    }\n",
              "</style>\n",
              "<table border=\"1\" class=\"dataframe\">\n",
              "  <thead>\n",
              "    <tr style=\"text-align: right;\">\n",
              "      <th></th>\n",
              "      <th>sld1</th>\n",
              "      <th>sld2</th>\n",
              "      <th>sld3</th>\n",
              "      <th>sld4</th>\n",
              "      <th>sld5</th>\n",
              "    </tr>\n",
              "  </thead>\n",
              "  <tbody>\n",
              "    <tr>\n",
              "      <th>0</th>\n",
              "      <td>0.0</td>\n",
              "      <td>-1.0</td>\n",
              "      <td>0.0</td>\n",
              "      <td>0.0</td>\n",
              "      <td>0.0</td>\n",
              "    </tr>\n",
              "    <tr>\n",
              "      <th>1</th>\n",
              "      <td>0.0</td>\n",
              "      <td>-1.0</td>\n",
              "      <td>0.0</td>\n",
              "      <td>0.0</td>\n",
              "      <td>0.0</td>\n",
              "    </tr>\n",
              "    <tr>\n",
              "      <th>2</th>\n",
              "      <td>0.0</td>\n",
              "      <td>-1.0</td>\n",
              "      <td>0.0</td>\n",
              "      <td>0.0</td>\n",
              "      <td>0.0</td>\n",
              "    </tr>\n",
              "    <tr>\n",
              "      <th>3</th>\n",
              "      <td>0.0</td>\n",
              "      <td>-1.0</td>\n",
              "      <td>0.0</td>\n",
              "      <td>0.0</td>\n",
              "      <td>0.0</td>\n",
              "    </tr>\n",
              "    <tr>\n",
              "      <th>4</th>\n",
              "      <td>0.0</td>\n",
              "      <td>1.0</td>\n",
              "      <td>0.0</td>\n",
              "      <td>0.0</td>\n",
              "      <td>0.0</td>\n",
              "    </tr>\n",
              "    <tr>\n",
              "      <th>...</th>\n",
              "      <td>...</td>\n",
              "      <td>...</td>\n",
              "      <td>...</td>\n",
              "      <td>...</td>\n",
              "      <td>...</td>\n",
              "    </tr>\n",
              "    <tr>\n",
              "      <th>268069</th>\n",
              "      <td>1.0</td>\n",
              "      <td>0.0</td>\n",
              "      <td>0.0</td>\n",
              "      <td>0.0</td>\n",
              "      <td>0.0</td>\n",
              "    </tr>\n",
              "    <tr>\n",
              "      <th>268070</th>\n",
              "      <td>0.0</td>\n",
              "      <td>-1.0</td>\n",
              "      <td>0.0</td>\n",
              "      <td>0.0</td>\n",
              "      <td>0.0</td>\n",
              "    </tr>\n",
              "    <tr>\n",
              "      <th>268071</th>\n",
              "      <td>0.0</td>\n",
              "      <td>-1.0</td>\n",
              "      <td>0.0</td>\n",
              "      <td>0.0</td>\n",
              "      <td>0.0</td>\n",
              "    </tr>\n",
              "    <tr>\n",
              "      <th>268072</th>\n",
              "      <td>0.0</td>\n",
              "      <td>1.0</td>\n",
              "      <td>0.0</td>\n",
              "      <td>0.0</td>\n",
              "      <td>0.0</td>\n",
              "    </tr>\n",
              "    <tr>\n",
              "      <th>268073</th>\n",
              "      <td>0.0</td>\n",
              "      <td>-1.0</td>\n",
              "      <td>0.0</td>\n",
              "      <td>0.0</td>\n",
              "      <td>0.0</td>\n",
              "    </tr>\n",
              "  </tbody>\n",
              "</table>\n",
              "<p>268074 rows × 5 columns</p>\n",
              "</div>"
            ]
          },
          "metadata": {},
          "execution_count": 28
        }
      ]
    },
    {
      "cell_type": "code",
      "source": [
        "df.drop(['longest_word', 'sld'],axis=1,inplace=True)\n",
        "df = pd.concat([df,longest_word,sld],axis=1)\n",
        "df"
      ],
      "metadata": {
        "colab": {
          "base_uri": "https://localhost:8080/",
          "height": 444
        },
        "id": "L8B1rywQvpqF",
        "outputId": "e32a92b8-b197-4e72-f88d-cc5c7dd8d619"
      },
      "execution_count": null,
      "outputs": [
        {
          "output_type": "execute_result",
          "data": {
            "text/plain": [
              "        FQDN_count  subdomain_length  upper  lower  numeric   entropy  \\\n",
              "0               27                10      0     10       11  2.570417   \n",
              "1               27                10      0     10       11  2.767195   \n",
              "2               26                 9      0     10       10  2.742338   \n",
              "3               27                10      0     10       11  2.570417   \n",
              "4               15                 9      0     11        0  2.929439   \n",
              "...            ...               ...    ...    ...      ...       ...   \n",
              "268069          18                 3      0     16        0  2.338623   \n",
              "268070          27                10      0     10       11  2.767195   \n",
              "268071          27                10      0     10       11  2.767195   \n",
              "268072          16                 0      0     14        0  3.249687   \n",
              "268073          27                10      0     10       11  2.570417   \n",
              "\n",
              "        special  labels  labels_max  labels_average  ...  longest_word_hash1  \\\n",
              "0             6       6           7        3.666667  ...                 0.0   \n",
              "1             6       6           7        3.666667  ...                 0.0   \n",
              "2             6       6           7        3.500000  ...                 0.0   \n",
              "3             6       6           7        3.666667  ...                 0.0   \n",
              "4             4       3           5        4.333333  ...                 0.0   \n",
              "...         ...     ...         ...             ...  ...                 ...   \n",
              "268069        2       3          10        5.333333  ...                 0.0   \n",
              "268070        6       6           7        3.666667  ...                 0.0   \n",
              "268071        6       6           7        3.666667  ...                 0.0   \n",
              "268072        2       2          13        7.500000  ...                 0.0   \n",
              "268073        6       6           7        3.666667  ...                 0.0   \n",
              "\n",
              "        longest_word_hash2  longest_word_hash3  longest_word_hash4  \\\n",
              "0                      1.0                 0.0                 0.0   \n",
              "1                      1.0                 0.0                 0.0   \n",
              "2                      1.0                 0.0                 0.0   \n",
              "3                      1.0                 0.0                 0.0   \n",
              "4                      1.0                 0.0                 0.0   \n",
              "...                    ...                 ...                 ...   \n",
              "268069                 0.0                 0.0                 0.0   \n",
              "268070                 1.0                 0.0                 0.0   \n",
              "268071                 1.0                 0.0                 0.0   \n",
              "268072                 0.0                 0.0                 1.0   \n",
              "268073                 1.0                 0.0                 0.0   \n",
              "\n",
              "        longest_word_hash5  sld1  sld2  sld3  sld4  sld5  \n",
              "0                      0.0   0.0  -1.0   0.0   0.0   0.0  \n",
              "1                      0.0   0.0  -1.0   0.0   0.0   0.0  \n",
              "2                      0.0   0.0  -1.0   0.0   0.0   0.0  \n",
              "3                      0.0   0.0  -1.0   0.0   0.0   0.0  \n",
              "4                      0.0   0.0   1.0   0.0   0.0   0.0  \n",
              "...                    ...   ...   ...   ...   ...   ...  \n",
              "268069                -1.0   1.0   0.0   0.0   0.0   0.0  \n",
              "268070                 0.0   0.0  -1.0   0.0   0.0   0.0  \n",
              "268071                 0.0   0.0  -1.0   0.0   0.0   0.0  \n",
              "268072                 0.0   0.0   1.0   0.0   0.0   0.0  \n",
              "268073                 0.0   0.0  -1.0   0.0   0.0   0.0  \n",
              "\n",
              "[268074 rows x 23 columns]"
            ],
            "text/html": [
              "<div>\n",
              "<style scoped>\n",
              "    .dataframe tbody tr th:only-of-type {\n",
              "        vertical-align: middle;\n",
              "    }\n",
              "\n",
              "    .dataframe tbody tr th {\n",
              "        vertical-align: top;\n",
              "    }\n",
              "\n",
              "    .dataframe thead th {\n",
              "        text-align: right;\n",
              "    }\n",
              "</style>\n",
              "<table border=\"1\" class=\"dataframe\">\n",
              "  <thead>\n",
              "    <tr style=\"text-align: right;\">\n",
              "      <th></th>\n",
              "      <th>FQDN_count</th>\n",
              "      <th>subdomain_length</th>\n",
              "      <th>upper</th>\n",
              "      <th>lower</th>\n",
              "      <th>numeric</th>\n",
              "      <th>entropy</th>\n",
              "      <th>special</th>\n",
              "      <th>labels</th>\n",
              "      <th>labels_max</th>\n",
              "      <th>labels_average</th>\n",
              "      <th>...</th>\n",
              "      <th>longest_word_hash1</th>\n",
              "      <th>longest_word_hash2</th>\n",
              "      <th>longest_word_hash3</th>\n",
              "      <th>longest_word_hash4</th>\n",
              "      <th>longest_word_hash5</th>\n",
              "      <th>sld1</th>\n",
              "      <th>sld2</th>\n",
              "      <th>sld3</th>\n",
              "      <th>sld4</th>\n",
              "      <th>sld5</th>\n",
              "    </tr>\n",
              "  </thead>\n",
              "  <tbody>\n",
              "    <tr>\n",
              "      <th>0</th>\n",
              "      <td>27</td>\n",
              "      <td>10</td>\n",
              "      <td>0</td>\n",
              "      <td>10</td>\n",
              "      <td>11</td>\n",
              "      <td>2.570417</td>\n",
              "      <td>6</td>\n",
              "      <td>6</td>\n",
              "      <td>7</td>\n",
              "      <td>3.666667</td>\n",
              "      <td>...</td>\n",
              "      <td>0.0</td>\n",
              "      <td>1.0</td>\n",
              "      <td>0.0</td>\n",
              "      <td>0.0</td>\n",
              "      <td>0.0</td>\n",
              "      <td>0.0</td>\n",
              "      <td>-1.0</td>\n",
              "      <td>0.0</td>\n",
              "      <td>0.0</td>\n",
              "      <td>0.0</td>\n",
              "    </tr>\n",
              "    <tr>\n",
              "      <th>1</th>\n",
              "      <td>27</td>\n",
              "      <td>10</td>\n",
              "      <td>0</td>\n",
              "      <td>10</td>\n",
              "      <td>11</td>\n",
              "      <td>2.767195</td>\n",
              "      <td>6</td>\n",
              "      <td>6</td>\n",
              "      <td>7</td>\n",
              "      <td>3.666667</td>\n",
              "      <td>...</td>\n",
              "      <td>0.0</td>\n",
              "      <td>1.0</td>\n",
              "      <td>0.0</td>\n",
              "      <td>0.0</td>\n",
              "      <td>0.0</td>\n",
              "      <td>0.0</td>\n",
              "      <td>-1.0</td>\n",
              "      <td>0.0</td>\n",
              "      <td>0.0</td>\n",
              "      <td>0.0</td>\n",
              "    </tr>\n",
              "    <tr>\n",
              "      <th>2</th>\n",
              "      <td>26</td>\n",
              "      <td>9</td>\n",
              "      <td>0</td>\n",
              "      <td>10</td>\n",
              "      <td>10</td>\n",
              "      <td>2.742338</td>\n",
              "      <td>6</td>\n",
              "      <td>6</td>\n",
              "      <td>7</td>\n",
              "      <td>3.500000</td>\n",
              "      <td>...</td>\n",
              "      <td>0.0</td>\n",
              "      <td>1.0</td>\n",
              "      <td>0.0</td>\n",
              "      <td>0.0</td>\n",
              "      <td>0.0</td>\n",
              "      <td>0.0</td>\n",
              "      <td>-1.0</td>\n",
              "      <td>0.0</td>\n",
              "      <td>0.0</td>\n",
              "      <td>0.0</td>\n",
              "    </tr>\n",
              "    <tr>\n",
              "      <th>3</th>\n",
              "      <td>27</td>\n",
              "      <td>10</td>\n",
              "      <td>0</td>\n",
              "      <td>10</td>\n",
              "      <td>11</td>\n",
              "      <td>2.570417</td>\n",
              "      <td>6</td>\n",
              "      <td>6</td>\n",
              "      <td>7</td>\n",
              "      <td>3.666667</td>\n",
              "      <td>...</td>\n",
              "      <td>0.0</td>\n",
              "      <td>1.0</td>\n",
              "      <td>0.0</td>\n",
              "      <td>0.0</td>\n",
              "      <td>0.0</td>\n",
              "      <td>0.0</td>\n",
              "      <td>-1.0</td>\n",
              "      <td>0.0</td>\n",
              "      <td>0.0</td>\n",
              "      <td>0.0</td>\n",
              "    </tr>\n",
              "    <tr>\n",
              "      <th>4</th>\n",
              "      <td>15</td>\n",
              "      <td>9</td>\n",
              "      <td>0</td>\n",
              "      <td>11</td>\n",
              "      <td>0</td>\n",
              "      <td>2.929439</td>\n",
              "      <td>4</td>\n",
              "      <td>3</td>\n",
              "      <td>5</td>\n",
              "      <td>4.333333</td>\n",
              "      <td>...</td>\n",
              "      <td>0.0</td>\n",
              "      <td>1.0</td>\n",
              "      <td>0.0</td>\n",
              "      <td>0.0</td>\n",
              "      <td>0.0</td>\n",
              "      <td>0.0</td>\n",
              "      <td>1.0</td>\n",
              "      <td>0.0</td>\n",
              "      <td>0.0</td>\n",
              "      <td>0.0</td>\n",
              "    </tr>\n",
              "    <tr>\n",
              "      <th>...</th>\n",
              "      <td>...</td>\n",
              "      <td>...</td>\n",
              "      <td>...</td>\n",
              "      <td>...</td>\n",
              "      <td>...</td>\n",
              "      <td>...</td>\n",
              "      <td>...</td>\n",
              "      <td>...</td>\n",
              "      <td>...</td>\n",
              "      <td>...</td>\n",
              "      <td>...</td>\n",
              "      <td>...</td>\n",
              "      <td>...</td>\n",
              "      <td>...</td>\n",
              "      <td>...</td>\n",
              "      <td>...</td>\n",
              "      <td>...</td>\n",
              "      <td>...</td>\n",
              "      <td>...</td>\n",
              "      <td>...</td>\n",
              "      <td>...</td>\n",
              "    </tr>\n",
              "    <tr>\n",
              "      <th>268069</th>\n",
              "      <td>18</td>\n",
              "      <td>3</td>\n",
              "      <td>0</td>\n",
              "      <td>16</td>\n",
              "      <td>0</td>\n",
              "      <td>2.338623</td>\n",
              "      <td>2</td>\n",
              "      <td>3</td>\n",
              "      <td>10</td>\n",
              "      <td>5.333333</td>\n",
              "      <td>...</td>\n",
              "      <td>0.0</td>\n",
              "      <td>0.0</td>\n",
              "      <td>0.0</td>\n",
              "      <td>0.0</td>\n",
              "      <td>-1.0</td>\n",
              "      <td>1.0</td>\n",
              "      <td>0.0</td>\n",
              "      <td>0.0</td>\n",
              "      <td>0.0</td>\n",
              "      <td>0.0</td>\n",
              "    </tr>\n",
              "    <tr>\n",
              "      <th>268070</th>\n",
              "      <td>27</td>\n",
              "      <td>10</td>\n",
              "      <td>0</td>\n",
              "      <td>10</td>\n",
              "      <td>11</td>\n",
              "      <td>2.767195</td>\n",
              "      <td>6</td>\n",
              "      <td>6</td>\n",
              "      <td>7</td>\n",
              "      <td>3.666667</td>\n",
              "      <td>...</td>\n",
              "      <td>0.0</td>\n",
              "      <td>1.0</td>\n",
              "      <td>0.0</td>\n",
              "      <td>0.0</td>\n",
              "      <td>0.0</td>\n",
              "      <td>0.0</td>\n",
              "      <td>-1.0</td>\n",
              "      <td>0.0</td>\n",
              "      <td>0.0</td>\n",
              "      <td>0.0</td>\n",
              "    </tr>\n",
              "    <tr>\n",
              "      <th>268071</th>\n",
              "      <td>27</td>\n",
              "      <td>10</td>\n",
              "      <td>0</td>\n",
              "      <td>10</td>\n",
              "      <td>11</td>\n",
              "      <td>2.767195</td>\n",
              "      <td>6</td>\n",
              "      <td>6</td>\n",
              "      <td>7</td>\n",
              "      <td>3.666667</td>\n",
              "      <td>...</td>\n",
              "      <td>0.0</td>\n",
              "      <td>1.0</td>\n",
              "      <td>0.0</td>\n",
              "      <td>0.0</td>\n",
              "      <td>0.0</td>\n",
              "      <td>0.0</td>\n",
              "      <td>-1.0</td>\n",
              "      <td>0.0</td>\n",
              "      <td>0.0</td>\n",
              "      <td>0.0</td>\n",
              "    </tr>\n",
              "    <tr>\n",
              "      <th>268072</th>\n",
              "      <td>16</td>\n",
              "      <td>0</td>\n",
              "      <td>0</td>\n",
              "      <td>14</td>\n",
              "      <td>0</td>\n",
              "      <td>3.249687</td>\n",
              "      <td>2</td>\n",
              "      <td>2</td>\n",
              "      <td>13</td>\n",
              "      <td>7.500000</td>\n",
              "      <td>...</td>\n",
              "      <td>0.0</td>\n",
              "      <td>0.0</td>\n",
              "      <td>0.0</td>\n",
              "      <td>1.0</td>\n",
              "      <td>0.0</td>\n",
              "      <td>0.0</td>\n",
              "      <td>1.0</td>\n",
              "      <td>0.0</td>\n",
              "      <td>0.0</td>\n",
              "      <td>0.0</td>\n",
              "    </tr>\n",
              "    <tr>\n",
              "      <th>268073</th>\n",
              "      <td>27</td>\n",
              "      <td>10</td>\n",
              "      <td>0</td>\n",
              "      <td>10</td>\n",
              "      <td>11</td>\n",
              "      <td>2.570417</td>\n",
              "      <td>6</td>\n",
              "      <td>6</td>\n",
              "      <td>7</td>\n",
              "      <td>3.666667</td>\n",
              "      <td>...</td>\n",
              "      <td>0.0</td>\n",
              "      <td>1.0</td>\n",
              "      <td>0.0</td>\n",
              "      <td>0.0</td>\n",
              "      <td>0.0</td>\n",
              "      <td>0.0</td>\n",
              "      <td>-1.0</td>\n",
              "      <td>0.0</td>\n",
              "      <td>0.0</td>\n",
              "      <td>0.0</td>\n",
              "    </tr>\n",
              "  </tbody>\n",
              "</table>\n",
              "<p>268074 rows × 23 columns</p>\n",
              "</div>"
            ]
          },
          "metadata": {},
          "execution_count": 29
        }
      ]
    },
    {
      "cell_type": "code",
      "source": [
        "# Treating Duplicate datapoints\n",
        "print(\"Original data:\",len(df))\n",
        "print(\"Duplicated data:\",df.duplicated().sum())\n",
        "print(\"Non-Duplicated data:\",len(df)-df.duplicated().sum())\n",
        "print(df.drop_duplicates(inplace=False)['Target Attack'].value_counts())\n",
        "sizes2 = dict(df.drop_duplicates(inplace=False)['Target Attack'].value_counts())\n",
        "\n",
        "plt.figure(figsize=(12, 8))\n",
        "plt.title(\"How much target attack is in proportion?\")\n",
        "plt.pie(sizes2.values(), labels=['Yes', 'No'], autopct=\"%.1f%%\", pctdistance=0.85)\n",
        "\n",
        "plt.show()"
      ],
      "metadata": {
        "colab": {
          "base_uri": "https://localhost:8080/",
          "height": 584
        },
        "id": "xf5VOC4ux69L",
        "outputId": "65a7345e-9a75-4c0e-dd8b-abb64feef29e"
      },
      "execution_count": null,
      "outputs": [
        {
          "output_type": "stream",
          "name": "stdout",
          "text": [
            "Original data: 268074\n",
            "Duplicated data: 255459\n",
            "Non-Duplicated data: 12615\n",
            "0    12543\n",
            "1       72\n",
            "Name: Target Attack, dtype: int64\n"
          ]
        },
        {
          "output_type": "display_data",
          "data": {
            "text/plain": [
              "<Figure size 864x576 with 1 Axes>"
            ],
            "image/png": "[encoded data removed]"
          },
          "metadata": {}
        }
      ]
    },
    {
      "cell_type": "code",
      "source": [
        "X =df.drop(['Target Attack'], axis = 1)\n",
        "y = df['Target Attack']"
      ],
      "metadata": {
        "id": "fRrqAMIu0DeR"
      },
      "execution_count": null,
      "outputs": []
    },
    {
      "cell_type": "markdown",
      "source": [
        "### Feature Selection"
      ],
      "metadata": {
        "id": "Ys248I7o01qS"
      }
    },
    {
      "cell_type": "markdown",
      "source": [
        "Correlation Coefficient"
      ],
      "metadata": {
        "id": "y3CQqz_81Jey"
      }
    },
    {
      "cell_type": "code",
      "source": [
        "target_corr1 = abs(df.corr()['Target Attack']).sort_values(ascending=False)[1:]\n",
        "target_corr1.plot.bar()\n",
        "target_corr1"
      ],
      "metadata": {
        "colab": {
          "base_uri": "https://localhost:8080/",
          "height": 976
        },
        "id": "ap9vE5JYxRyW",
        "outputId": "0bd5774a-a599-424c-c077-925f0e26cbb1"
      },
      "execution_count": null,
      "outputs": [
        {
          "output_type": "execute_result",
          "data": {
            "text/plain": [
              "numeric               0.599252\n",
              "special               0.582107\n",
              "subdomain_length      0.572053\n",
              "labels                0.569414\n",
              "FQDN_count            0.563563\n",
              "subdomain             0.502469\n",
              "sld2                  0.303328\n",
              "longest_word_hash2    0.298085\n",
              "lower                 0.295599\n",
              "longest_word_hash3    0.222509\n",
              "sld3                  0.220566\n",
              "len                   0.159437\n",
              "entropy               0.119050\n",
              "labels_max            0.096350\n",
              "labels_average        0.077167\n",
              "upper                 0.072895\n",
              "longest_word_hash5    0.028035\n",
              "sld4                  0.022631\n",
              "longest_word_hash4    0.020868\n",
              "sld1                  0.013066\n",
              "longest_word_hash1    0.010427\n",
              "sld5                  0.010096\n",
              "Name: Target Attack, dtype: float64"
            ]
          },
          "metadata": {},
          "execution_count": 32
        },
        {
          "output_type": "display_data",
          "data": {
            "text/plain": [
              "<Figure size 864x576 with 1 Axes>"
            ],
            "image/png": "[encoded data removed]"
          },
          "metadata": {}
        }
      ]
    },
    {
      "cell_type": "code",
      "source": [
        "Feat_selected_corr = target_corr1[target_corr1>=0.15]\n",
        "print(f'No. of features selected with Corr {len(Feat_selected_corr)}')\n",
        "print(Feat_selected_corr.index.values)\n",
        "Feat_Notselected_corr = target_corr1[target_corr1<0.15]\n",
        "print(f'\\n\\nNo. of features discarded with Corr {len(Feat_Notselected_corr)}')\n",
        "Feat_Notselected_corr.index.values"
      ],
      "metadata": {
        "colab": {
          "base_uri": "https://localhost:8080/"
        },
        "id": "btg68WHO1ZpD",
        "outputId": "1c9cd7a3-fcf9-41a1-ec61-fdb1ebc0920a"
      },
      "execution_count": null,
      "outputs": [
        {
          "output_type": "stream",
          "name": "stdout",
          "text": [
            "No. of features selected with Corr 12\n",
            "['numeric' 'special' 'subdomain_length' 'labels' 'FQDN_count' 'subdomain'\n",
            " 'sld2' 'longest_word_hash2' 'lower' 'longest_word_hash3' 'sld3' 'len']\n",
            "\n",
            "\n",
            "No. of features discarded with Corr 10\n"
          ]
        },
        {
          "output_type": "execute_result",
          "data": {
            "text/plain": [
              "array(['entropy', 'labels_max', 'labels_average', 'upper',\n",
              "       'longest_word_hash5', 'sld4', 'longest_word_hash4', 'sld1',\n",
              "       'longest_word_hash1', 'sld5'], dtype=object)"
            ]
          },
          "metadata": {},
          "execution_count": 33
        }
      ]
    },
    {
      "cell_type": "markdown",
      "source": [
        "Information Gain"
      ],
      "metadata": {
        "id": "WX6omlm53N04"
      }
    },
    {
      "cell_type": "code",
      "source": [
        "imp = mutual_info_classif(X,y, random_state=22)"
      ],
      "metadata": {
        "id": "wRihL6Sb3NbP"
      },
      "execution_count": null,
      "outputs": []
    },
    {
      "cell_type": "code",
      "source": [
        "feat_imp = pd.Series(imp, X.columns[0:len(X.columns)])\n",
        "feat_imp.sort_values(ascending=True).plot(kind='barh')"
      ],
      "metadata": {
        "colab": {
          "base_uri": "https://localhost:8080/",
          "height": 502
        },
        "id": "ZPUxA0an4yDq",
        "outputId": "d198d37d-17e3-4ff2-cbb3-07be20cea8f2"
      },
      "execution_count": null,
      "outputs": [
        {
          "output_type": "execute_result",
          "data": {
            "text/plain": [
              "<AxesSubplot:>"
            ]
          },
          "metadata": {},
          "execution_count": 35
        },
        {
          "output_type": "display_data",
          "data": {
            "text/plain": [
              "<Figure size 864x576 with 1 Axes>"
            ],
            "image/png": "[encoded data removed]"
          },
          "metadata": {}
        }
      ]
    },
    {
      "cell_type": "code",
      "source": [
        "Feat_selected_IG = feat_imp[feat_imp>0.05]\n",
        "print(f'No. of features selected with IG {len(Feat_selected_IG)}')\n",
        "print(Feat_selected_IG.index.values)\n",
        "Feat_Notselected_IG = feat_imp[feat_imp<0.05]\n",
        "print(f'\\n\\nNo. of features discarded with IG {len(Feat_Notselected_IG)}')\n",
        "Feat_Notselected_IG.index.values"
      ],
      "metadata": {
        "colab": {
          "base_uri": "https://localhost:8080/"
        },
        "id": "tIYsxQ6-1rJs",
        "outputId": "d8a5c778-44ea-4487-f3a6-492858c41452"
      },
      "execution_count": null,
      "outputs": [
        {
          "output_type": "stream",
          "name": "stdout",
          "text": [
            "No. of features selected with IG 14\n",
            "['FQDN_count' 'subdomain_length' 'lower' 'numeric' 'entropy' 'special'\n",
            " 'labels' 'labels_max' 'labels_average' 'len' 'subdomain'\n",
            " 'longest_word_hash2' 'longest_word_hash5' 'sld2']\n",
            "\n",
            "\n",
            "No. of features discarded with IG 8\n"
          ]
        },
        {
          "output_type": "execute_result",
          "data": {
            "text/plain": [
              "array(['upper', 'longest_word_hash1', 'longest_word_hash3',\n",
              "       'longest_word_hash4', 'sld1', 'sld3', 'sld4', 'sld5'], dtype=object)"
            ]
          },
          "metadata": {},
          "execution_count": 36
        }
      ]
    },
    {
      "cell_type": "markdown",
      "source": [
        "Variance Threshold\n"
      ],
      "metadata": {
        "id": "sRiNOirS5_Ob"
      }
    },
    {
      "cell_type": "code",
      "source": [
        "var_thresh = VarianceThreshold(threshold=0.5)\n",
        "var_thresh.fit_transform(X)\n",
        "Feat_selected_var_thresh = var_thresh.get_support()\n",
        "print(f'No. of features selected with var_thresh {len(Feat_selected_var_thresh)}')\n",
        "print(Feat_selected_var_thresh)\n",
        "\n",
        "\n"
      ],
      "metadata": {
        "colab": {
          "base_uri": "https://localhost:8080/"
        },
        "id": "s73flA655nyI",
        "outputId": "ecb61ecf-d7c2-4cd0-aabb-c3759649ca4b"
      },
      "execution_count": null,
      "outputs": [
        {
          "output_type": "stream",
          "name": "stdout",
          "text": [
            "No. of features selected with var_thresh 22\n",
            "[ True  True  True  True  True False  True  True  True  True  True False\n",
            " False False False False False False False False False False]\n"
          ]
        }
      ]
    },
    {
      "cell_type": "code",
      "source": [
        "X_new = X[Feat_selected_IG.index]\n",
        "X_new"
      ],
      "metadata": {
        "colab": {
          "base_uri": "https://localhost:8080/",
          "height": 444
        },
        "id": "G02nACEGC9Q4",
        "outputId": "57aa79eb-202c-4a6f-ee81-719949c190e4"
      },
      "execution_count": null,
      "outputs": [
        {
          "output_type": "execute_result",
          "data": {
            "text/plain": [
              "        FQDN_count  subdomain_length  lower  numeric   entropy  special  \\\n",
              "0               27                10     10       11  2.570417        6   \n",
              "1               27                10     10       11  2.767195        6   \n",
              "2               26                 9     10       10  2.742338        6   \n",
              "3               27                10     10       11  2.570417        6   \n",
              "4               15                 9     11        0  2.929439        4   \n",
              "...            ...               ...    ...      ...       ...      ...   \n",
              "268069          18                 3     16        0  2.338623        2   \n",
              "268070          27                10     10       11  2.767195        6   \n",
              "268071          27                10     10       11  2.767195        6   \n",
              "268072          16                 0     14        0  3.249687        2   \n",
              "268073          27                10     10       11  2.570417        6   \n",
              "\n",
              "        labels  labels_max  labels_average  len  subdomain  \\\n",
              "0            6           7        3.666667   14          1   \n",
              "1            6           7        3.666667   14          1   \n",
              "2            6           7        3.500000   13          1   \n",
              "3            6           7        3.666667   14          1   \n",
              "4            3           5        4.333333   15          1   \n",
              "...        ...         ...             ...  ...        ...   \n",
              "268069       3          10        5.333333   14          1   \n",
              "268070       6           7        3.666667   14          1   \n",
              "268071       6           7        3.666667   14          1   \n",
              "268072       2          13        7.500000   14          0   \n",
              "268073       6           7        3.666667   14          1   \n",
              "\n",
              "        longest_word_hash2  longest_word_hash5  sld2  \n",
              "0                      1.0                 0.0  -1.0  \n",
              "1                      1.0                 0.0  -1.0  \n",
              "2                      1.0                 0.0  -1.0  \n",
              "3                      1.0                 0.0  -1.0  \n",
              "4                      1.0                 0.0   1.0  \n",
              "...                    ...                 ...   ...  \n",
              "268069                 0.0                -1.0   0.0  \n",
              "268070                 1.0                 0.0  -1.0  \n",
              "268071                 1.0                 0.0  -1.0  \n",
              "268072                 0.0                 0.0   1.0  \n",
              "268073                 1.0                 0.0  -1.0  \n",
              "\n",
              "[268074 rows x 14 columns]"
            ],
            "text/html": [
              "<div>\n",
              "<style scoped>\n",
              "    .dataframe tbody tr th:only-of-type {\n",
              "        vertical-align: middle;\n",
              "    }\n",
              "\n",
              "    .dataframe tbody tr th {\n",
              "        vertical-align: top;\n",
              "    }\n",
              "\n",
              "    .dataframe thead th {\n",
              "        text-align: right;\n",
              "    }\n",
              "</style>\n",
              "<table border=\"1\" class=\"dataframe\">\n",
              "  <thead>\n",
              "    <tr style=\"text-align: right;\">\n",
              "      <th></th>\n",
              "      <th>FQDN_count</th>\n",
              "      <th>subdomain_length</th>\n",
              "      <th>lower</th>\n",
              "      <th>numeric</th>\n",
              "      <th>entropy</th>\n",
              "      <th>special</th>\n",
              "      <th>labels</th>\n",
              "      <th>labels_max</th>\n",
              "      <th>labels_average</th>\n",
              "      <th>len</th>\n",
              "      <th>subdomain</th>\n",
              "      <th>longest_word_hash2</th>\n",
              "      <th>longest_word_hash5</th>\n",
              "      <th>sld2</th>\n",
              "    </tr>\n",
              "  </thead>\n",
              "  <tbody>\n",
              "    <tr>\n",
              "      <th>0</th>\n",
              "      <td>27</td>\n",
              "      <td>10</td>\n",
              "      <td>10</td>\n",
              "      <td>11</td>\n",
              "      <td>2.570417</td>\n",
              "      <td>6</td>\n",
              "      <td>6</td>\n",
              "      <td>7</td>\n",
              "      <td>3.666667</td>\n",
              "      <td>14</td>\n",
              "      <td>1</td>\n",
              "      <td>1.0</td>\n",
              "      <td>0.0</td>\n",
              "      <td>-1.0</td>\n",
              "    </tr>\n",
              "    <tr>\n",
              "      <th>1</th>\n",
              "      <td>27</td>\n",
              "      <td>10</td>\n",
              "      <td>10</td>\n",
              "      <td>11</td>\n",
              "      <td>2.767195</td>\n",
              "      <td>6</td>\n",
              "      <td>6</td>\n",
              "      <td>7</td>\n",
              "      <td>3.666667</td>\n",
              "      <td>14</td>\n",
              "      <td>1</td>\n",
              "      <td>1.0</td>\n",
              "      <td>0.0</td>\n",
              "      <td>-1.0</td>\n",
              "    </tr>\n",
              "    <tr>\n",
              "      <th>2</th>\n",
              "      <td>26</td>\n",
              "      <td>9</td>\n",
              "      <td>10</td>\n",
              "      <td>10</td>\n",
              "      <td>2.742338</td>\n",
              "      <td>6</td>\n",
              "      <td>6</td>\n",
              "      <td>7</td>\n",
              "      <td>3.500000</td>\n",
              "      <td>13</td>\n",
              "      <td>1</td>\n",
              "      <td>1.0</td>\n",
              "      <td>0.0</td>\n",
              "      <td>-1.0</td>\n",
              "    </tr>\n",
              "    <tr>\n",
              "      <th>3</th>\n",
              "      <td>27</td>\n",
              "      <td>10</td>\n",
              "      <td>10</td>\n",
              "      <td>11</td>\n",
              "      <td>2.570417</td>\n",
              "      <td>6</td>\n",
              "      <td>6</td>\n",
              "      <td>7</td>\n",
              "      <td>3.666667</td>\n",
              "      <td>14</td>\n",
              "      <td>1</td>\n",
              "      <td>1.0</td>\n",
              "      <td>0.0</td>\n",
              "      <td>-1.0</td>\n",
              "    </tr>\n",
              "    <tr>\n",
              "      <th>4</th>\n",
              "      <td>15</td>\n",
              "      <td>9</td>\n",
              "      <td>11</td>\n",
              "      <td>0</td>\n",
              "      <td>2.929439</td>\n",
              "      <td>4</td>\n",
              "      <td>3</td>\n",
              "      <td>5</td>\n",
              "      <td>4.333333</td>\n",
              "      <td>15</td>\n",
              "      <td>1</td>\n",
              "      <td>1.0</td>\n",
              "      <td>0.0</td>\n",
              "      <td>1.0</td>\n",
              "    </tr>\n",
              "    <tr>\n",
              "      <th>...</th>\n",
              "      <td>...</td>\n",
              "      <td>...</td>\n",
              "      <td>...</td>\n",
              "      <td>...</td>\n",
              "      <td>...</td>\n",
              "      <td>...</td>\n",
              "      <td>...</td>\n",
              "      <td>...</td>\n",
              "      <td>...</td>\n",
              "      <td>...</td>\n",
              "      <td>...</td>\n",
              "      <td>...</td>\n",
              "      <td>...</td>\n",
              "      <td>...</td>\n",
              "    </tr>\n",
              "    <tr>\n",
              "      <th>268069</th>\n",
              "      <td>18</td>\n",
              "      <td>3</td>\n",
              "      <td>16</td>\n",
              "      <td>0</td>\n",
              "      <td>2.338623</td>\n",
              "      <td>2</td>\n",
              "      <td>3</td>\n",
              "      <td>10</td>\n",
              "      <td>5.333333</td>\n",
              "      <td>14</td>\n",
              "      <td>1</td>\n",
              "      <td>0.0</td>\n",
              "      <td>-1.0</td>\n",
              "      <td>0.0</td>\n",
              "    </tr>\n",
              "    <tr>\n",
              "      <th>268070</th>\n",
              "      <td>27</td>\n",
              "      <td>10</td>\n",
              "      <td>10</td>\n",
              "      <td>11</td>\n",
              "      <td>2.767195</td>\n",
              "      <td>6</td>\n",
              "      <td>6</td>\n",
              "      <td>7</td>\n",
              "      <td>3.666667</td>\n",
              "      <td>14</td>\n",
              "      <td>1</td>\n",
              "      <td>1.0</td>\n",
              "      <td>0.0</td>\n",
              "      <td>-1.0</td>\n",
              "    </tr>\n",
              "    <tr>\n",
              "      <th>268071</th>\n",
              "      <td>27</td>\n",
              "      <td>10</td>\n",
              "      <td>10</td>\n",
              "      <td>11</td>\n",
              "      <td>2.767195</td>\n",
              "      <td>6</td>\n",
              "      <td>6</td>\n",
              "      <td>7</td>\n",
              "      <td>3.666667</td>\n",
              "      <td>14</td>\n",
              "      <td>1</td>\n",
              "      <td>1.0</td>\n",
              "      <td>0.0</td>\n",
              "      <td>-1.0</td>\n",
              "    </tr>\n",
              "    <tr>\n",
              "      <th>268072</th>\n",
              "      <td>16</td>\n",
              "      <td>0</td>\n",
              "      <td>14</td>\n",
              "      <td>0</td>\n",
              "      <td>3.249687</td>\n",
              "      <td>2</td>\n",
              "      <td>2</td>\n",
              "      <td>13</td>\n",
              "      <td>7.500000</td>\n",
              "      <td>14</td>\n",
              "      <td>0</td>\n",
              "      <td>0.0</td>\n",
              "      <td>0.0</td>\n",
              "      <td>1.0</td>\n",
              "    </tr>\n",
              "    <tr>\n",
              "      <th>268073</th>\n",
              "      <td>27</td>\n",
              "      <td>10</td>\n",
              "      <td>10</td>\n",
              "      <td>11</td>\n",
              "      <td>2.570417</td>\n",
              "      <td>6</td>\n",
              "      <td>6</td>\n",
              "      <td>7</td>\n",
              "      <td>3.666667</td>\n",
              "      <td>14</td>\n",
              "      <td>1</td>\n",
              "      <td>1.0</td>\n",
              "      <td>0.0</td>\n",
              "      <td>-1.0</td>\n",
              "    </tr>\n",
              "  </tbody>\n",
              "</table>\n",
              "<p>268074 rows × 14 columns</p>\n",
              "</div>"
            ]
          },
          "metadata": {},
          "execution_count": 42
        }
      ]
    },
    {
      "cell_type": "markdown",
      "source": [
        "##3. Model Building"
      ],
      "metadata": {
        "id": "rkgQySXlEE3i"
      }
    },
    {
      "cell_type": "code",
      "source": [
        "# Train Test Split\n",
        "X_train, X_test, y_train, y_test = train_test_split(X_new, y, test_size=0.25, random_state=22)"
      ],
      "metadata": {
        "id": "ooeWiy7EL0ze"
      },
      "execution_count": null,
      "outputs": []
    },
    {
      "cell_type": "code",
      "source": [
        "# Logistic Regression\n",
        "pipe_lr = make_pipeline(StandardScaler(), LogisticRegression(random_state=22, max_iter=1000)) \n",
        "\n",
        "# parameters for grid search\n",
        "param_grid_lr = {'logisticregression__C': [10, 100, 1000]}\n",
        "\n",
        "# GRID SEARCH (using pipeline and param_grid along with cross-validation)\n",
        "grid_lr = GridSearchCV(pipe_lr, param_grid_lr, cv=5, n_jobs=-1)\n",
        "\n",
        "# Fit train data to grid\n",
        "grid_lr.fit(X_train, y_train)\n",
        "\n",
        "print('Best cross-validation score : {:.2f}\\n'.format(grid_lr.best_score_))\n",
        "print('Best Parameters: ', grid_lr.best_params_)\n"
      ],
      "metadata": {
        "colab": {
          "base_uri": "https://localhost:8080/"
        },
        "id": "QYUw_yVDKAzq",
        "outputId": "533fda0a-3696-4901-ff31-757f28380de1"
      },
      "execution_count": null,
      "outputs": [
        {
          "output_type": "stream",
          "name": "stdout",
          "text": [
            "Best cross-validation score : 0.83\n",
            "\n",
            "Best Parameters:  {'logisticregression__C': 10}\n"
          ]
        }
      ]
    },
    {
      "cell_type": "code",
      "source": [
        "y_pred_lr = grid_lr.predict(X_test)\n",
        "print('\\n Test set Score: {:.2f}'.format(grid_lr.score(X_test, y_test)))\n",
        "print('\\n Confusion Matrix:\\n', confusion_matrix(y_test, y_pred_lr))\n",
        "print('\\n Classification Report:\\n', classification_report(y_test, y_pred_lr))"
      ],
      "metadata": {
        "id": "r1NRw-Wmold4",
        "colab": {
          "base_uri": "https://localhost:8080/"
        },
        "outputId": "a42661fe-37ce-4cd2-e493-19365ad844e1"
      },
      "execution_count": null,
      "outputs": [
        {
          "output_type": "stream",
          "name": "stdout",
          "text": [
            "\n",
            " Test set Score: 0.82\n",
            "\n",
            " Confusion Matrix:\n",
            " [[18519 11878]\n",
            " [  163 36459]]\n",
            "\n",
            " Classification Report:\n",
            "               precision    recall  f1-score   support\n",
            "\n",
            "           0       0.99      0.61      0.75     30397\n",
            "           1       0.75      1.00      0.86     36622\n",
            "\n",
            "    accuracy                           0.82     67019\n",
            "   macro avg       0.87      0.80      0.81     67019\n",
            "weighted avg       0.86      0.82      0.81     67019\n",
            "\n"
          ]
        }
      ]
    },
    {
      "cell_type": "code",
      "source": [
        "# Random Forest Classifier\n",
        "pipe_rf = make_pipeline(RandomForestClassifier(random_state=22, n_jobs=-1,class_weight='balanced',bootstrap=False, )) \n",
        "# parameters for grid search\n",
        "# param_grid_rf = {'randomforestclassifier__n_estimators':[50, 100], 'randomforestclassifier__max_depth':[4,7,9], 'randomforestclassifier__criterion' :['gini','entropy']}\n",
        "param_grid_rf = {'randomforestclassifier__n_estimators':[100], 'randomforestclassifier__max_depth':[7], 'randomforestclassifier__criterion' :['gini']}\n",
        "# GRID SEARCH (using pipeline and param_grid along with cross-validation)\n",
        "grid_rf = GridSearchCV(pipe_rf, param_grid_rf, cv=5, n_jobs=-1, scoring=\"f1_micro\" )\n",
        "\n",
        "# Fit train data to grid\n",
        "grid_rf.fit(X_train, y_train)\n",
        "\n",
        "print('Best cross-validation score : {:.2f}\\n'.format(grid_rf.best_score_))\n",
        "print('Best Parameters: ', grid_rf.best_params_)\n"
      ],
      "metadata": {
        "colab": {
          "base_uri": "https://localhost:8080/"
        },
        "id": "1wOgORf-M9J5",
        "outputId": "0e06c78e-4617-47f5-d537-9354751eba80"
      },
      "execution_count": null,
      "outputs": [
        {
          "output_type": "stream",
          "name": "stdout",
          "text": [
            "Best cross-validation score : 0.83\n",
            "\n",
            "Best Parameters:  {'randomforestclassifier__criterion': 'gini', 'randomforestclassifier__max_depth': 7, 'randomforestclassifier__n_estimators': 100}\n"
          ]
        }
      ]
    },
    {
      "cell_type": "code",
      "source": [
        "y_pred_rf = grid_rf.predict(X_test)\n",
        "print('\\n Test set Score: {:.2f}'.format(grid_rf.score(X_test, y_test)))\n",
        "print('\\n Confusion Matrix:\\n', confusion_matrix(y_test, y_pred_rf))\n",
        "print('\\n Classification Report:\\n', classification_report(y_test, y_pred_rf))"
      ],
      "metadata": {
        "id": "NbLv79pVh3Cz",
        "colab": {
          "base_uri": "https://localhost:8080/"
        },
        "outputId": "a6d0c2fe-0e0b-46cd-819c-5568ba26e98c"
      },
      "execution_count": null,
      "outputs": [
        {
          "output_type": "stream",
          "name": "stdout",
          "text": [
            "\n",
            " Test set Score: 0.82\n",
            "\n",
            " Confusion Matrix:\n",
            " [[18525 11872]\n",
            " [   48 36574]]\n",
            "\n",
            " Classification Report:\n",
            "               precision    recall  f1-score   support\n",
            "\n",
            "           0       1.00      0.61      0.76     30397\n",
            "           1       0.75      1.00      0.86     36622\n",
            "\n",
            "    accuracy                           0.82     67019\n",
            "   macro avg       0.88      0.80      0.81     67019\n",
            "weighted avg       0.86      0.82      0.81     67019\n",
            "\n"
          ]
        }
      ]
    },
    {
      "cell_type": "code",
      "source": [
        "# XGB Classifier\n",
        "pipe_xgbc = make_pipeline(XGBClassifier(verbosity=1,random_state=22,n_jobs =-1))\n",
        "#This take longer time to run.\n",
        "# param_grid_xgbc = {'xgbclassifier__n_estimators': [300, 500, 1000],'xgbclassifier__reg_alpha': [0.001, 0.01, 0.1],'xgbclassifier__gamma': [0.001, 0.01, 0.1],'xgbclassifier__learning_rate': [0.001, 0.01, 0.1],'xgbclassifier__scale_pos_weight': [0.7, 0.8, 0.9, 1],'xgbclassifier__subsample': [0.7, 0.8, 0.9, 1],'xgbclassifier__min_child_weight':[1, 3, 5, 7, 9]}\n",
        "\n",
        "# Tuned model\n",
        "param_grid_xgbc = {'xgbclassifier__n_estimators': [3000],'xgbclassifier__reg_alpha': [0.01],'xgbclassifier__gamma': [0.001],'xgbclassifier__learning_rate': [0.1], 'xgbclassifier__scale_pos_weight': [0.9],'xgbclassifier__subsample': [0.9], 'xgbclassifier__min_child_weight':[1]}\n",
        "grid_xgbc = GridSearchCV(pipe_xgbc, param_grid_xgbc, cv=5, n_jobs=-1, scoring=\"f1\" )\n",
        "grid_xgbc.fit(X_train, y_train)\n",
        "print('Best cross-validation score : {:.2f}\\n'.format(grid_xgbc.best_score_))\n",
        "print('Best Parameters: ', grid_xgbc.best_params_)\n",
        "print(grid_xgbc.cv_results_) \n"
      ],
      "metadata": {
        "colab": {
          "base_uri": "https://localhost:8080/"
        },
        "id": "WWU8YyEaN5Fb",
        "outputId": "7502a36a-e637-49e3-f8a6-e1627bddd686"
      },
      "execution_count": null,
      "outputs": [
        {
          "output_type": "stream",
          "name": "stdout",
          "text": [
            "Best cross-validation score : 0.86\n",
            "\n",
            "Best Parameters:  {'xgbclassifier__gamma': 0.001, 'xgbclassifier__learning_rate': 0.1, 'xgbclassifier__min_child_weight': 1, 'xgbclassifier__n_estimators': 3000, 'xgbclassifier__reg_alpha': 0.01, 'xgbclassifier__scale_pos_weight': 0.9, 'xgbclassifier__subsample': 0.9}\n",
            "{'mean_fit_time': array([435.09349508]), 'std_fit_time': array([1.350106]), 'mean_score_time': array([2.88883567]), 'std_score_time': array([0.24162386]), 'param_xgbclassifier__gamma': masked_array(data=[0.001],\n",
            "             mask=[False],\n",
            "       fill_value='?',\n",
            "            dtype=object), 'param_xgbclassifier__learning_rate': masked_array(data=[0.1],\n",
            "             mask=[False],\n",
            "       fill_value='?',\n",
            "            dtype=object), 'param_xgbclassifier__min_child_weight': masked_array(data=[1],\n",
            "             mask=[False],\n",
            "       fill_value='?',\n",
            "            dtype=object), 'param_xgbclassifier__n_estimators': masked_array(data=[3000],\n",
            "             mask=[False],\n",
            "       fill_value='?',\n",
            "            dtype=object), 'param_xgbclassifier__reg_alpha': masked_array(data=[0.01],\n",
            "             mask=[False],\n",
            "       fill_value='?',\n",
            "            dtype=object), 'param_xgbclassifier__scale_pos_weight': masked_array(data=[0.9],\n",
            "             mask=[False],\n",
            "       fill_value='?',\n",
            "            dtype=object), 'param_xgbclassifier__subsample': masked_array(data=[0.9],\n",
            "             mask=[False],\n",
            "       fill_value='?',\n",
            "            dtype=object), 'params': [{'xgbclassifier__gamma': 0.001, 'xgbclassifier__learning_rate': 0.1, 'xgbclassifier__min_child_weight': 1, 'xgbclassifier__n_estimators': 3000, 'xgbclassifier__reg_alpha': 0.01, 'xgbclassifier__scale_pos_weight': 0.9, 'xgbclassifier__subsample': 0.9}], 'split0_test_score': array([0.8639384]), 'split1_test_score': array([0.86472107]), 'split2_test_score': array([0.86421394]), 'split3_test_score': array([0.8627627]), 'split4_test_score': array([0.86524045]), 'mean_test_score': array([0.86417531]), 'std_test_score': array([0.00083492]), 'rank_test_score': array([1])}\n"
          ]
        }
      ]
    },
    {
      "cell_type": "code",
      "source": [
        "# XGB Classifier\n",
        "pipe_xgbc = make_pipeline(XGBClassifier(verbosity=1,random_state=22,n_jobs =-1))\n",
        "#This take longer time to run.\n",
        "# param_grid_xgbc = {'xgbclassifier__n_estimators': [300, 500, 1000],'xgbclassifier__reg_alpha': [0.001, 0.01, 0.1],'xgbclassifier__gamma': [0.001, 0.01, 0.1],'xgbclassifier__learning_rate': [0.001, 0.01, 0.1],'xgbclassifier__scale_pos_weight': [0.7, 0.8, 0.9, 1],'xgbclassifier__subsample': [0.7, 0.8, 0.9, 1],'xgbclassifier__min_child_weight':[1, 3, 5, 7, 9]}\n",
        "\n",
        "# Tuned model\n",
        "param_grid_xgbc = {'xgbclassifier__n_estimators': [300, 500, 700, 1000]}\n",
        "grid_xgbc = GridSearchCV(pipe_xgbc, param_grid_xgbc, cv=5, n_jobs=-1, scoring=\"f1\" )\n",
        "grid_xgbc.fit(X_train, y_train)\n",
        "print('Best cross-validation score : {:.2f}\\n'.format(grid_xgbc.best_score_))\n",
        "print('Best Parameters: ', grid_xgbc.best_params_)\n",
        "print(grid_xgbc.cv_results_) \n"
      ],
      "metadata": {
        "colab": {
          "base_uri": "https://localhost:8080/"
        },
        "id": "hi-Vbi0wNMwY",
        "outputId": "fea94554-e4f1-4bc4-a52f-de7a7206d9ad"
      },
      "execution_count": null,
      "outputs": [
        {
          "output_type": "stream",
          "name": "stdout",
          "text": [
            "Best cross-validation score : 0.86\n",
            "\n",
            "Best Parameters:  {'xgbclassifier__n_estimators': 500}\n",
            "{'mean_fit_time': array([66.68143048]), 'std_fit_time': array([0.80629893]), 'mean_score_time': array([0.45415654]), 'std_score_time': array([0.06032101]), 'param_xgbclassifier__n_estimators': masked_array(data=[500],\n",
            "             mask=[False],\n",
            "       fill_value='?',\n",
            "            dtype=object), 'params': [{'xgbclassifier__n_estimators': 500}], 'split0_test_score': array([0.864005]), 'split1_test_score': array([0.86470416]), 'split2_test_score': array([0.86423615]), 'split3_test_score': array([0.8627627]), 'split4_test_score': array([0.86528487]), 'mean_test_score': array([0.86419858]), 'std_test_score': array([0.00084099]), 'rank_test_score': array([1])}\n"
          ]
        }
      ]
    },
    {
      "cell_type": "code",
      "source": [
        "y_pred_xgbc = grid_xgbc.predict(X_test)\n",
        "print('\\n f1_score: {:.2f}'.format(metrics.f1_score(y_test, y_pred_xgbc)))\n",
        "print('\\n Test set Score: {:.2f}'.format(grid_xgbc.score(X_test, y_test)))\n",
        "print('\\n Confusion Matrix:\\n', confusion_matrix(y_test, y_pred_xgbc))\n",
        "print('\\n Classification Report:\\n', classification_report(y_test, y_pred_xgbc))"
      ],
      "metadata": {
        "colab": {
          "base_uri": "https://localhost:8080/"
        },
        "id": "K6DKWqnAh89N",
        "outputId": "b9a96211-f317-4ecc-d7ee-87125d3c6a2b"
      },
      "execution_count": null,
      "outputs": [
        {
          "output_type": "stream",
          "name": "stdout",
          "text": [
            "\n",
            " f1_score: 0.86\n",
            "\n",
            " Test set Score: 0.86\n",
            "\n",
            " Confusion Matrix:\n",
            " [[18516 11881]\n",
            " [   12 36610]]\n",
            "\n",
            " Classification Report:\n",
            "               precision    recall  f1-score   support\n",
            "\n",
            "           0       1.00      0.61      0.76     30397\n",
            "           1       0.75      1.00      0.86     36622\n",
            "\n",
            "    accuracy                           0.82     67019\n",
            "   macro avg       0.88      0.80      0.81     67019\n",
            "weighted avg       0.87      0.82      0.81     67019\n",
            "\n"
          ]
        }
      ]
    },
    {
      "cell_type": "markdown",
      "source": [
        "##4. Model Inference"
      ],
      "metadata": {
        "id": "yQiSHklWESkb"
      }
    },
    {
      "cell_type": "code",
      "execution_count": null,
      "metadata": {
        "id": "ccd7a0ba"
      },
      "outputs": [],
      "source": [
        "# Save the Model \n",
        "pickle.dump(grid_xgbc, open('XGB_Model.pkl', 'wb'))"
      ]
    },
    {
      "cell_type": "code",
      "execution_count": null,
      "metadata": {
        "id": "8befb097",
        "outputId": "998ae370-c203-495c-d631-52071a9bea61",
        "colab": {
          "base_uri": "https://localhost:8080/"
        }
      },
      "outputs": [
        {
          "output_type": "stream",
          "name": "stdout",
          "text": [
            "0.8602681141541244\n"
          ]
        }
      ],
      "source": [
        "# Test the saved model\n",
        "loaded_model = pickle.load(open('XGB_Model.pkl', 'rb'))\n",
        "pred = loaded_model.score(X_test, y_test)\n",
        "print(pred)"
      ]
    }
  ]
}