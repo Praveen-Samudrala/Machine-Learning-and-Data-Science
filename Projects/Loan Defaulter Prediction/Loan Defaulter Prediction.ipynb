{
  "nbformat": 4,
  "nbformat_minor": 0,
  "metadata": {
    "colab": {
      "provenance": [],
      "toc_visible": true
    },
    "kernelspec": {
      "name": "python3",
      "display_name": "Python 3"
    },
    "language_info": {
      "name": "python"
    }
  },
  "cells": [
    {
      "cell_type": "markdown",
      "metadata": {
        "id": "NS8nLC1gjjwu"
      },
      "source": [
        "<h1> <div align=\"center\">Lending Club Loan Approval Prediction </div></h1>\n",
        "\n",
        "---\n",
        "---\n",
        "\n",
        "\n",
        "<h2>Problem Statement:</h2> \n",
        "\n",
        "\n",
        "  \n",
        "1. To predict whether or not a borrower will pay back their loan, given historical data on loans given out with information on whether or not the borrower defaulted (charge-off)\n",
        "2. Assessing a new potential customer whether or not they are likely to pay back the loan in the future.\n",
        "3. Create a Web interface where a user can input new customer details and get a prediction instantly.\n",
        "\n",
        "\n",
        "&nbsp; \n",
        "\n",
        "\n",
        "\n",
        "**Data used**: [Click here to download](https://www.kaggle.com/hadiyad/lendingclub-data-sets/download)\n",
        "\n",
        "**Solution by**: Praveen Samudrala in collaboration with Aditya Karanth.(https://github.com/Aditya-Karanth)\n"
      ]
    },
    {
      "cell_type": "markdown",
      "metadata": {
        "id": "ltc0XIoEG9J3"
      },
      "source": [
        "## **Project Planning :**\n",
        "&nbsp;\n",
        "\n",
        "\n",
        "### **Data Understanding**\n",
        "- **Imports -** \n",
        "  - Contains all the imports necessary for reading data, visualizations and model buiding and evaluating.\n",
        "- **Getting Data -** \n",
        "  - Connecting *Google drive* to *Google colab*.\n",
        "  - Understanding nature of the data *.info()*, *.describe()*\n",
        "  - Function to get information about a each feature.\n",
        "  - Checking numerical and categorical features.\n",
        "\n",
        "&nbsp;\n",
        "### **Data Preparation**\n",
        "\n",
        "- **Exploring Data**\n",
        "  - Checking missing data using heatmaps.\n",
        "  - Distribution of dependent variable\n",
        "  - Visualization of different features to understand relations and distributions.\n",
        "  - Understanding the correlation between features using heatmaps.\n",
        "\n",
        "- **Data Preprocessing**\n",
        "  - **Data Cleaning -**\n",
        "    - Handling missing data for each feature using defined *function* and *median*.\n",
        "    - Removing features with less information and unwanted features.\n",
        "\n",
        "  - **Feature Engineering -**\n",
        "    - Deriving numerical information from categorical features.\n",
        "    - Removing features with same information and high correlation.\n",
        "    - Converting all categorical features to numerical using *dummies* and dropping all original categorical features.\n",
        "\n",
        "  - **Data Tranformation -**\n",
        "    - Splitting data in to training and testing.\n",
        "\n",
        "  - **Normalization -**\n",
        "    - Scaling training and testing data using *MinMax Scaler*.\n",
        "\n",
        "&nbsp;\n",
        "### **Modeling**\n",
        "- Creating the Sequential *ANN* model.\n",
        "- Compiling and Fitting the created model with *Early Stopping* and *Tensor Board* and checking the model summary.\n",
        "\n",
        "&nbsp;\n",
        "### **Evaluation**\n",
        "- **Predictions and Losses** -\n",
        "  - Predictions on test set\n",
        "  - Evaluation of model with classification report and confusion matrix.\n",
        "  - Obtaining metrics like loss, accuracy, val_loss, val_accuracy from model\n",
        "  - Plotting train v/s validation metrics of model.\n",
        "\n",
        "- **Tensor Board**-\n",
        "  - visualizing metrics on tensor board in colab.\n",
        "\n",
        "- **New Customer Loan Repayment Prediction**\n",
        "  - Training a model on whole dataset (X and y) without splitting.\n",
        "  - Function \"assess_customer\" to assess new customers whether they payback loan or not.\n",
        "  - Check model predictions on new customer.\n",
        "  \n",
        "&nbsp;\n",
        "\n",
        "### **Inference function for Web App**\n",
        "\n",
        "&nbsp;\n",
        "\n",
        "\n",
        "\n"
      ]
    },
    {
      "cell_type": "markdown",
      "metadata": {
        "id": "2pc8Dn7CxpHC"
      },
      "source": [
        "# **Data Understanding**\n",
        "---"
      ]
    },
    {
      "cell_type": "markdown",
      "metadata": {
        "id": "LgguGN9cEuXb"
      },
      "source": [
        "## **Imports**\n"
      ]
    },
    {
      "cell_type": "code",
      "metadata": {
        "id": "c5J6fPneEyw-",
        "colab": {
          "base_uri": "https://localhost:8080/"
        },
        "outputId": "d1f588e7-ead5-4ce1-82b7-b705afba8f99"
      },
      "source": [
        "# Basic Imports\n",
        "import numpy as np\n",
        "import pandas as pd\n",
        "import os\n",
        "import warnings\n",
        "warnings.filterwarnings(\"ignore\")\n",
        "\n",
        "# Visualization \n",
        "import matplotlib\n",
        "import matplotlib.pyplot as plt\n",
        "import seaborn as sns\n",
        "%matplotlib inline\n",
        "sns.set_style('whitegrid')\n",
        "matplotlib.rcParams['figure.figsize'] = (12,8)  \n",
        "\n",
        "# Model\n",
        "from sklearn.model_selection import train_test_split, GridSearchCV\n",
        "from sklearn.preprocessing import StandardScaler\n",
        "from imblearn.over_sampling import SMOTE\n",
        "from sklearn.pipeline import make_pipeline\n",
        "\n",
        "from sklearn.linear_model import LogisticRegression\n",
        "from sklearn.ensemble import RandomForestClassifier\n",
        "from datetime import datetime\n",
        "import tensorflow as tf\n",
        "from tf.keras.models import Sequential\n",
        "from tf.keras.layers import Dense,Dropout\n",
        "from tf.keras.constraints import max_norm\n",
        "from tf.keras.callbacks import EarlyStopping\n",
        "print(tf.__version__)\n",
        "\n",
        "from pickle import dump, load\n",
        "\n",
        "# Evaluation\n",
        "from sklearn.metrics import classification_report,confusion_matrix, f1_score\n"
      ],
      "execution_count": null,
      "outputs": [
        {
          "output_type": "stream",
          "name": "stdout",
          "text": [
            "2.9.2\n"
          ]
        }
      ]
    },
    {
      "cell_type": "code",
      "metadata": {
        "id": "jPO4nxDLSI5-",
        "colab": {
          "base_uri": "https://localhost:8080/"
        },
        "outputId": "d2371f19-e16f-4e1d-b765-61913a919458"
      },
      "source": [
        "tf.__version__"
      ],
      "execution_count": null,
      "outputs": [
        {
          "output_type": "execute_result",
          "data": {
            "text/plain": [
              "'2.5.0'"
            ]
          },
          "metadata": {},
          "execution_count": 9
        }
      ]
    },
    {
      "cell_type": "markdown",
      "metadata": {
        "id": "qF_bhfpT3E2_"
      },
      "source": [
        "## **Getting Data**"
      ]
    },
    {
      "cell_type": "code",
      "metadata": {
        "id": "HdxmGP8Tieao",
        "colab": {
          "base_uri": "https://localhost:8080/"
        },
        "outputId": "21821373-d7d0-482f-9b22-ca37b051bb4f"
      },
      "source": [
        "# Connecting Google Drive with Google Colab\n",
        "from google.colab import drive\n",
        "drive.mount('/content/drive/')"
      ],
      "execution_count": null,
      "outputs": [
        {
          "output_type": "stream",
          "name": "stdout",
          "text": [
            "Mounted at /content/drive/\n"
          ]
        }
      ]
    },
    {
      "cell_type": "code",
      "metadata": {
        "id": "dt2YpnxkkSV5"
      },
      "source": [
        "# Loading the dataset\n",
        "df_info = pd.read_csv('lending_club_info.csv', index_col='LoanStatNew')\n",
        "df = pd.read_csv('lending_club_loan_two.csv')"
      ],
      "execution_count": null,
      "outputs": []
    },
    {
      "cell_type": "code",
      "metadata": {
        "id": "XjtS7uek3Lvx",
        "colab": {
          "base_uri": "https://localhost:8080/",
          "height": 237
        },
        "outputId": "1c7ae7d8-a5be-4fe1-d21b-39e9f354a906"
      },
      "source": [
        "# df_info contains description about all the features present in dataset(df)\n",
        "# Target is loan_status\n",
        "df_info.head()"
      ],
      "execution_count": null,
      "outputs": [
        {
          "output_type": "execute_result",
          "data": {
            "text/plain": [
              "                                                   Description\n",
              "LoanStatNew                                                   \n",
              "loan_amnt    The listed amount of the loan applied for by t...\n",
              "term         The number of payments on the loan. Values are...\n",
              "int_rate                             Interest Rate on the loan\n",
              "installment  The monthly payment owed by the borrower if th...\n",
              "grade                                   LC assigned loan grade"
            ],
            "text/html": [
              "<div>\n",
              "<style scoped>\n",
              "    .dataframe tbody tr th:only-of-type {\n",
              "        vertical-align: middle;\n",
              "    }\n",
              "\n",
              "    .dataframe tbody tr th {\n",
              "        vertical-align: top;\n",
              "    }\n",
              "\n",
              "    .dataframe thead th {\n",
              "        text-align: right;\n",
              "    }\n",
              "</style>\n",
              "<table border=\"1\" class=\"dataframe\">\n",
              "  <thead>\n",
              "    <tr style=\"text-align: right;\">\n",
              "      <th></th>\n",
              "      <th>Description</th>\n",
              "    </tr>\n",
              "    <tr>\n",
              "      <th>LoanStatNew</th>\n",
              "      <th></th>\n",
              "    </tr>\n",
              "  </thead>\n",
              "  <tbody>\n",
              "    <tr>\n",
              "      <th>loan_amnt</th>\n",
              "      <td>The listed amount of the loan applied for by t...</td>\n",
              "    </tr>\n",
              "    <tr>\n",
              "      <th>term</th>\n",
              "      <td>The number of payments on the loan. Values are...</td>\n",
              "    </tr>\n",
              "    <tr>\n",
              "      <th>int_rate</th>\n",
              "      <td>Interest Rate on the loan</td>\n",
              "    </tr>\n",
              "    <tr>\n",
              "      <th>installment</th>\n",
              "      <td>The monthly payment owed by the borrower if th...</td>\n",
              "    </tr>\n",
              "    <tr>\n",
              "      <th>grade</th>\n",
              "      <td>LC assigned loan grade</td>\n",
              "    </tr>\n",
              "  </tbody>\n",
              "</table>\n",
              "</div>"
            ]
          },
          "metadata": {},
          "execution_count": 100
        }
      ]
    },
    {
      "cell_type": "code",
      "metadata": {
        "id": "_B9OfohGry9E",
        "colab": {
          "base_uri": "https://localhost:8080/",
          "height": 429
        },
        "outputId": "dd89a5c0-3429-4529-e4b1-756e3f695dbe"
      },
      "source": [
        "df.head()"
      ],
      "execution_count": null,
      "outputs": [
        {
          "output_type": "execute_result",
          "data": {
            "text/plain": [
              "   loan_amnt        term  int_rate  installment grade sub_grade  \\\n",
              "0    10000.0   36 months     11.44       329.48     B        B4   \n",
              "1     8000.0   36 months     11.99       265.68     B        B5   \n",
              "2    15600.0   36 months     10.49       506.97     B        B3   \n",
              "3     7200.0   36 months      6.49       220.65     A        A2   \n",
              "4    24375.0   60 months     17.27       609.33     C        C5   \n",
              "\n",
              "                 emp_title emp_length home_ownership  annual_inc  ...  \\\n",
              "0                Marketing  10+ years           RENT    117000.0  ...   \n",
              "1          Credit analyst     4 years       MORTGAGE     65000.0  ...   \n",
              "2             Statistician   < 1 year           RENT     43057.0  ...   \n",
              "3          Client Advocate    6 years           RENT     54000.0  ...   \n",
              "4  Destiny Management Inc.    9 years       MORTGAGE     55000.0  ...   \n",
              "\n",
              "  open_acc pub_rec revol_bal revol_util total_acc  initial_list_status  \\\n",
              "0     16.0     0.0   36369.0       41.8      25.0                    w   \n",
              "1     17.0     0.0   20131.0       53.3      27.0                    f   \n",
              "2     13.0     0.0   11987.0       92.2      26.0                    f   \n",
              "3      6.0     0.0    5472.0       21.5      13.0                    f   \n",
              "4     13.0     0.0   24584.0       69.8      43.0                    f   \n",
              "\n",
              "  application_type  mort_acc  pub_rec_bankruptcies  \\\n",
              "0       INDIVIDUAL       0.0                   0.0   \n",
              "1       INDIVIDUAL       3.0                   0.0   \n",
              "2       INDIVIDUAL       0.0                   0.0   \n",
              "3       INDIVIDUAL       0.0                   0.0   \n",
              "4       INDIVIDUAL       1.0                   0.0   \n",
              "\n",
              "                                           address  \n",
              "0     0174 Michelle Gateway\\nMendozaberg, OK 22690  \n",
              "1  1076 Carney Fort Apt. 347\\nLoganmouth, SD 05113  \n",
              "2  87025 Mark Dale Apt. 269\\nNew Sabrina, WV 05113  \n",
              "3            823 Reid Ford\\nDelacruzside, MA 00813  \n",
              "4             679 Luna Roads\\nGreggshire, VA 11650  \n",
              "\n",
              "[5 rows x 27 columns]"
            ],
            "text/html": [
              "<div>\n",
              "<style scoped>\n",
              "    .dataframe tbody tr th:only-of-type {\n",
              "        vertical-align: middle;\n",
              "    }\n",
              "\n",
              "    .dataframe tbody tr th {\n",
              "        vertical-align: top;\n",
              "    }\n",
              "\n",
              "    .dataframe thead th {\n",
              "        text-align: right;\n",
              "    }\n",
              "</style>\n",
              "<table border=\"1\" class=\"dataframe\">\n",
              "  <thead>\n",
              "    <tr style=\"text-align: right;\">\n",
              "      <th></th>\n",
              "      <th>loan_amnt</th>\n",
              "      <th>term</th>\n",
              "      <th>int_rate</th>\n",
              "      <th>installment</th>\n",
              "      <th>grade</th>\n",
              "      <th>sub_grade</th>\n",
              "      <th>emp_title</th>\n",
              "      <th>emp_length</th>\n",
              "      <th>home_ownership</th>\n",
              "      <th>annual_inc</th>\n",
              "      <th>...</th>\n",
              "      <th>open_acc</th>\n",
              "      <th>pub_rec</th>\n",
              "      <th>revol_bal</th>\n",
              "      <th>revol_util</th>\n",
              "      <th>total_acc</th>\n",
              "      <th>initial_list_status</th>\n",
              "      <th>application_type</th>\n",
              "      <th>mort_acc</th>\n",
              "      <th>pub_rec_bankruptcies</th>\n",
              "      <th>address</th>\n",
              "    </tr>\n",
              "  </thead>\n",
              "  <tbody>\n",
              "    <tr>\n",
              "      <th>0</th>\n",
              "      <td>10000.0</td>\n",
              "      <td>36 months</td>\n",
              "      <td>11.44</td>\n",
              "      <td>329.48</td>\n",
              "      <td>B</td>\n",
              "      <td>B4</td>\n",
              "      <td>Marketing</td>\n",
              "      <td>10+ years</td>\n",
              "      <td>RENT</td>\n",
              "      <td>117000.0</td>\n",
              "      <td>...</td>\n",
              "      <td>16.0</td>\n",
              "      <td>0.0</td>\n",
              "      <td>36369.0</td>\n",
              "      <td>41.8</td>\n",
              "      <td>25.0</td>\n",
              "      <td>w</td>\n",
              "      <td>INDIVIDUAL</td>\n",
              "      <td>0.0</td>\n",
              "      <td>0.0</td>\n",
              "      <td>0174 Michelle Gateway\\nMendozaberg, OK 22690</td>\n",
              "    </tr>\n",
              "    <tr>\n",
              "      <th>1</th>\n",
              "      <td>8000.0</td>\n",
              "      <td>36 months</td>\n",
              "      <td>11.99</td>\n",
              "      <td>265.68</td>\n",
              "      <td>B</td>\n",
              "      <td>B5</td>\n",
              "      <td>Credit analyst</td>\n",
              "      <td>4 years</td>\n",
              "      <td>MORTGAGE</td>\n",
              "      <td>65000.0</td>\n",
              "      <td>...</td>\n",
              "      <td>17.0</td>\n",
              "      <td>0.0</td>\n",
              "      <td>20131.0</td>\n",
              "      <td>53.3</td>\n",
              "      <td>27.0</td>\n",
              "      <td>f</td>\n",
              "      <td>INDIVIDUAL</td>\n",
              "      <td>3.0</td>\n",
              "      <td>0.0</td>\n",
              "      <td>1076 Carney Fort Apt. 347\\nLoganmouth, SD 05113</td>\n",
              "    </tr>\n",
              "    <tr>\n",
              "      <th>2</th>\n",
              "      <td>15600.0</td>\n",
              "      <td>36 months</td>\n",
              "      <td>10.49</td>\n",
              "      <td>506.97</td>\n",
              "      <td>B</td>\n",
              "      <td>B3</td>\n",
              "      <td>Statistician</td>\n",
              "      <td>&lt; 1 year</td>\n",
              "      <td>RENT</td>\n",
              "      <td>43057.0</td>\n",
              "      <td>...</td>\n",
              "      <td>13.0</td>\n",
              "      <td>0.0</td>\n",
              "      <td>11987.0</td>\n",
              "      <td>92.2</td>\n",
              "      <td>26.0</td>\n",
              "      <td>f</td>\n",
              "      <td>INDIVIDUAL</td>\n",
              "      <td>0.0</td>\n",
              "      <td>0.0</td>\n",
              "      <td>87025 Mark Dale Apt. 269\\nNew Sabrina, WV 05113</td>\n",
              "    </tr>\n",
              "    <tr>\n",
              "      <th>3</th>\n",
              "      <td>7200.0</td>\n",
              "      <td>36 months</td>\n",
              "      <td>6.49</td>\n",
              "      <td>220.65</td>\n",
              "      <td>A</td>\n",
              "      <td>A2</td>\n",
              "      <td>Client Advocate</td>\n",
              "      <td>6 years</td>\n",
              "      <td>RENT</td>\n",
              "      <td>54000.0</td>\n",
              "      <td>...</td>\n",
              "      <td>6.0</td>\n",
              "      <td>0.0</td>\n",
              "      <td>5472.0</td>\n",
              "      <td>21.5</td>\n",
              "      <td>13.0</td>\n",
              "      <td>f</td>\n",
              "      <td>INDIVIDUAL</td>\n",
              "      <td>0.0</td>\n",
              "      <td>0.0</td>\n",
              "      <td>823 Reid Ford\\nDelacruzside, MA 00813</td>\n",
              "    </tr>\n",
              "    <tr>\n",
              "      <th>4</th>\n",
              "      <td>24375.0</td>\n",
              "      <td>60 months</td>\n",
              "      <td>17.27</td>\n",
              "      <td>609.33</td>\n",
              "      <td>C</td>\n",
              "      <td>C5</td>\n",
              "      <td>Destiny Management Inc.</td>\n",
              "      <td>9 years</td>\n",
              "      <td>MORTGAGE</td>\n",
              "      <td>55000.0</td>\n",
              "      <td>...</td>\n",
              "      <td>13.0</td>\n",
              "      <td>0.0</td>\n",
              "      <td>24584.0</td>\n",
              "      <td>69.8</td>\n",
              "      <td>43.0</td>\n",
              "      <td>f</td>\n",
              "      <td>INDIVIDUAL</td>\n",
              "      <td>1.0</td>\n",
              "      <td>0.0</td>\n",
              "      <td>679 Luna Roads\\nGreggshire, VA 11650</td>\n",
              "    </tr>\n",
              "  </tbody>\n",
              "</table>\n",
              "<p>5 rows × 27 columns</p>\n",
              "</div>"
            ]
          },
          "metadata": {},
          "execution_count": 13
        }
      ]
    },
    {
      "cell_type": "code",
      "metadata": {
        "id": "g4pNU8-usTTG",
        "colab": {
          "base_uri": "https://localhost:8080/"
        },
        "outputId": "51e4cb71-0cab-421b-dea7-5d3c1ef114cc"
      },
      "source": [
        "df.info()"
      ],
      "execution_count": null,
      "outputs": [
        {
          "output_type": "stream",
          "name": "stdout",
          "text": [
            "<class 'pandas.core.frame.DataFrame'>\n",
            "RangeIndex: 396030 entries, 0 to 396029\n",
            "Data columns (total 27 columns):\n",
            " #   Column                Non-Null Count   Dtype  \n",
            "---  ------                --------------   -----  \n",
            " 0   loan_amnt             396030 non-null  float64\n",
            " 1   term                  396030 non-null  object \n",
            " 2   int_rate              396030 non-null  float64\n",
            " 3   installment           396030 non-null  float64\n",
            " 4   grade                 396030 non-null  object \n",
            " 5   sub_grade             396030 non-null  object \n",
            " 6   emp_title             373103 non-null  object \n",
            " 7   emp_length            377729 non-null  object \n",
            " 8   home_ownership        396030 non-null  object \n",
            " 9   annual_inc            396030 non-null  float64\n",
            " 10  verification_status   396030 non-null  object \n",
            " 11  issue_d               396030 non-null  object \n",
            " 12  loan_status           396030 non-null  object \n",
            " 13  purpose               396030 non-null  object \n",
            " 14  title                 394275 non-null  object \n",
            " 15  dti                   396030 non-null  float64\n",
            " 16  earliest_cr_line      396030 non-null  object \n",
            " 17  open_acc              396030 non-null  float64\n",
            " 18  pub_rec               396030 non-null  float64\n",
            " 19  revol_bal             396030 non-null  float64\n",
            " 20  revol_util            395754 non-null  float64\n",
            " 21  total_acc             396030 non-null  float64\n",
            " 22  initial_list_status   396030 non-null  object \n",
            " 23  application_type      396030 non-null  object \n",
            " 24  mort_acc              358235 non-null  float64\n",
            " 25  pub_rec_bankruptcies  395495 non-null  float64\n",
            " 26  address               396030 non-null  object \n",
            "dtypes: float64(12), object(15)\n",
            "memory usage: 81.6+ MB\n"
          ]
        }
      ]
    },
    {
      "cell_type": "code",
      "metadata": {
        "id": "SDyH0VePs6Az",
        "colab": {
          "base_uri": "https://localhost:8080/"
        },
        "outputId": "37985cbc-988a-4946-bdb7-513c68470d6a"
      },
      "source": [
        "# Function to get information about a feature\n",
        "def feature_info(col_name):\n",
        "    return '{} : {}'.format(col_name,df_info.loc[col_name]['Description'])\n",
        "\n",
        "# Info about Target ('loan_status')\n",
        "feature_info('loan_status')"
      ],
      "execution_count": null,
      "outputs": [
        {
          "output_type": "execute_result",
          "data": {
            "text/plain": [
              "'loan_status : Current status of the loan'"
            ]
          },
          "metadata": {},
          "execution_count": 15
        }
      ]
    },
    {
      "cell_type": "code",
      "metadata": {
        "id": "sl_6kyHgsZDO",
        "colab": {
          "base_uri": "https://localhost:8080/",
          "height": 425
        },
        "outputId": "66c721b5-356d-4095-9b97-be2409b23297"
      },
      "source": [
        "df.describe().T"
      ],
      "execution_count": null,
      "outputs": [
        {
          "output_type": "execute_result",
          "data": {
            "text/plain": [
              "                         count          mean           std     min       25%  \\\n",
              "loan_amnt             396030.0  14113.888089   8357.441341  500.00   8000.00   \n",
              "int_rate              396030.0     13.639400      4.472157    5.32     10.49   \n",
              "installment           396030.0    431.849698    250.727790   16.08    250.33   \n",
              "annual_inc            396030.0  74203.175798  61637.621158    0.00  45000.00   \n",
              "dti                   396030.0     17.379514     18.019092    0.00     11.28   \n",
              "open_acc              396030.0     11.311153      5.137649    0.00      8.00   \n",
              "pub_rec               396030.0      0.178191      0.530671    0.00      0.00   \n",
              "revol_bal             396030.0  15844.539853  20591.836109    0.00   6025.00   \n",
              "revol_util            395754.0     53.791749     24.452193    0.00     35.80   \n",
              "total_acc             396030.0     25.414744     11.886991    2.00     17.00   \n",
              "mort_acc              358235.0      1.813991      2.147930    0.00      0.00   \n",
              "pub_rec_bankruptcies  395495.0      0.121648      0.356174    0.00      0.00   \n",
              "\n",
              "                           50%       75%         max  \n",
              "loan_amnt             12000.00  20000.00    40000.00  \n",
              "int_rate                 13.33     16.49       30.99  \n",
              "installment             375.43    567.30     1533.81  \n",
              "annual_inc            64000.00  90000.00  8706582.00  \n",
              "dti                      16.91     22.98     9999.00  \n",
              "open_acc                 10.00     14.00       90.00  \n",
              "pub_rec                   0.00      0.00       86.00  \n",
              "revol_bal             11181.00  19620.00  1743266.00  \n",
              "revol_util               54.80     72.90      892.30  \n",
              "total_acc                24.00     32.00      151.00  \n",
              "mort_acc                  1.00      3.00       34.00  \n",
              "pub_rec_bankruptcies      0.00      0.00        8.00  "
            ],
            "text/html": [
              "<div>\n",
              "<style scoped>\n",
              "    .dataframe tbody tr th:only-of-type {\n",
              "        vertical-align: middle;\n",
              "    }\n",
              "\n",
              "    .dataframe tbody tr th {\n",
              "        vertical-align: top;\n",
              "    }\n",
              "\n",
              "    .dataframe thead th {\n",
              "        text-align: right;\n",
              "    }\n",
              "</style>\n",
              "<table border=\"1\" class=\"dataframe\">\n",
              "  <thead>\n",
              "    <tr style=\"text-align: right;\">\n",
              "      <th></th>\n",
              "      <th>count</th>\n",
              "      <th>mean</th>\n",
              "      <th>std</th>\n",
              "      <th>min</th>\n",
              "      <th>25%</th>\n",
              "      <th>50%</th>\n",
              "      <th>75%</th>\n",
              "      <th>max</th>\n",
              "    </tr>\n",
              "  </thead>\n",
              "  <tbody>\n",
              "    <tr>\n",
              "      <th>loan_amnt</th>\n",
              "      <td>396030.0</td>\n",
              "      <td>14113.888089</td>\n",
              "      <td>8357.441341</td>\n",
              "      <td>500.00</td>\n",
              "      <td>8000.00</td>\n",
              "      <td>12000.00</td>\n",
              "      <td>20000.00</td>\n",
              "      <td>40000.00</td>\n",
              "    </tr>\n",
              "    <tr>\n",
              "      <th>int_rate</th>\n",
              "      <td>396030.0</td>\n",
              "      <td>13.639400</td>\n",
              "      <td>4.472157</td>\n",
              "      <td>5.32</td>\n",
              "      <td>10.49</td>\n",
              "      <td>13.33</td>\n",
              "      <td>16.49</td>\n",
              "      <td>30.99</td>\n",
              "    </tr>\n",
              "    <tr>\n",
              "      <th>installment</th>\n",
              "      <td>396030.0</td>\n",
              "      <td>431.849698</td>\n",
              "      <td>250.727790</td>\n",
              "      <td>16.08</td>\n",
              "      <td>250.33</td>\n",
              "      <td>375.43</td>\n",
              "      <td>567.30</td>\n",
              "      <td>1533.81</td>\n",
              "    </tr>\n",
              "    <tr>\n",
              "      <th>annual_inc</th>\n",
              "      <td>396030.0</td>\n",
              "      <td>74203.175798</td>\n",
              "      <td>61637.621158</td>\n",
              "      <td>0.00</td>\n",
              "      <td>45000.00</td>\n",
              "      <td>64000.00</td>\n",
              "      <td>90000.00</td>\n",
              "      <td>8706582.00</td>\n",
              "    </tr>\n",
              "    <tr>\n",
              "      <th>dti</th>\n",
              "      <td>396030.0</td>\n",
              "      <td>17.379514</td>\n",
              "      <td>18.019092</td>\n",
              "      <td>0.00</td>\n",
              "      <td>11.28</td>\n",
              "      <td>16.91</td>\n",
              "      <td>22.98</td>\n",
              "      <td>9999.00</td>\n",
              "    </tr>\n",
              "    <tr>\n",
              "      <th>open_acc</th>\n",
              "      <td>396030.0</td>\n",
              "      <td>11.311153</td>\n",
              "      <td>5.137649</td>\n",
              "      <td>0.00</td>\n",
              "      <td>8.00</td>\n",
              "      <td>10.00</td>\n",
              "      <td>14.00</td>\n",
              "      <td>90.00</td>\n",
              "    </tr>\n",
              "    <tr>\n",
              "      <th>pub_rec</th>\n",
              "      <td>396030.0</td>\n",
              "      <td>0.178191</td>\n",
              "      <td>0.530671</td>\n",
              "      <td>0.00</td>\n",
              "      <td>0.00</td>\n",
              "      <td>0.00</td>\n",
              "      <td>0.00</td>\n",
              "      <td>86.00</td>\n",
              "    </tr>\n",
              "    <tr>\n",
              "      <th>revol_bal</th>\n",
              "      <td>396030.0</td>\n",
              "      <td>15844.539853</td>\n",
              "      <td>20591.836109</td>\n",
              "      <td>0.00</td>\n",
              "      <td>6025.00</td>\n",
              "      <td>11181.00</td>\n",
              "      <td>19620.00</td>\n",
              "      <td>1743266.00</td>\n",
              "    </tr>\n",
              "    <tr>\n",
              "      <th>revol_util</th>\n",
              "      <td>395754.0</td>\n",
              "      <td>53.791749</td>\n",
              "      <td>24.452193</td>\n",
              "      <td>0.00</td>\n",
              "      <td>35.80</td>\n",
              "      <td>54.80</td>\n",
              "      <td>72.90</td>\n",
              "      <td>892.30</td>\n",
              "    </tr>\n",
              "    <tr>\n",
              "      <th>total_acc</th>\n",
              "      <td>396030.0</td>\n",
              "      <td>25.414744</td>\n",
              "      <td>11.886991</td>\n",
              "      <td>2.00</td>\n",
              "      <td>17.00</td>\n",
              "      <td>24.00</td>\n",
              "      <td>32.00</td>\n",
              "      <td>151.00</td>\n",
              "    </tr>\n",
              "    <tr>\n",
              "      <th>mort_acc</th>\n",
              "      <td>358235.0</td>\n",
              "      <td>1.813991</td>\n",
              "      <td>2.147930</td>\n",
              "      <td>0.00</td>\n",
              "      <td>0.00</td>\n",
              "      <td>1.00</td>\n",
              "      <td>3.00</td>\n",
              "      <td>34.00</td>\n",
              "    </tr>\n",
              "    <tr>\n",
              "      <th>pub_rec_bankruptcies</th>\n",
              "      <td>395495.0</td>\n",
              "      <td>0.121648</td>\n",
              "      <td>0.356174</td>\n",
              "      <td>0.00</td>\n",
              "      <td>0.00</td>\n",
              "      <td>0.00</td>\n",
              "      <td>0.00</td>\n",
              "      <td>8.00</td>\n",
              "    </tr>\n",
              "  </tbody>\n",
              "</table>\n",
              "</div>"
            ]
          },
          "metadata": {},
          "execution_count": 16
        }
      ]
    },
    {
      "cell_type": "code",
      "metadata": {
        "id": "ionE0mW28UC2",
        "colab": {
          "base_uri": "https://localhost:8080/"
        },
        "outputId": "3fdd7224-0952-4c8c-9d62-4c80b384a3ac"
      },
      "source": [
        "# Get numeric columns\n",
        "num_cols = df.select_dtypes(include=[np.number]).columns.values\n",
        "print('Numeric cols :',num_cols)"
      ],
      "execution_count": null,
      "outputs": [
        {
          "output_type": "stream",
          "name": "stdout",
          "text": [
            "Numeric cols : ['loan_amnt' 'int_rate' 'installment' 'annual_inc' 'dti' 'open_acc'\n",
            " 'pub_rec' 'revol_bal' 'revol_util' 'total_acc' 'mort_acc'\n",
            " 'pub_rec_bankruptcies']\n"
          ]
        }
      ]
    },
    {
      "cell_type": "code",
      "metadata": {
        "id": "mrwybUQ8SgET",
        "colab": {
          "base_uri": "https://localhost:8080/"
        },
        "outputId": "baf39e40-e9ae-44db-c61f-03fd12decde4"
      },
      "source": [
        "# Get Non-numeric/categorical columns\n",
        "cat_cols = df.select_dtypes(exclude=[np.number]).columns.values\n",
        "print('Categorical cols :',cat_cols)"
      ],
      "execution_count": null,
      "outputs": [
        {
          "output_type": "stream",
          "name": "stdout",
          "text": [
            "Categorical cols : ['term' 'grade' 'sub_grade' 'emp_title' 'emp_length' 'home_ownership'\n",
            " 'verification_status' 'issue_d' 'loan_status' 'purpose' 'title'\n",
            " 'earliest_cr_line' 'initial_list_status' 'application_type' 'address']\n"
          ]
        }
      ]
    },
    {
      "cell_type": "markdown",
      "metadata": {
        "id": "yZaqzAkCw8bX"
      },
      "source": [
        "# **Data Preparation**\n",
        "---\n",
        "- Exploring Data\n",
        "- Data Preprocessing\n"
      ]
    },
    {
      "cell_type": "markdown",
      "metadata": {
        "id": "k13mVLqEt-oQ"
      },
      "source": [
        "## **Exploring Data**"
      ]
    },
    {
      "cell_type": "code",
      "metadata": {
        "id": "VwOolmahNBNu",
        "colab": {
          "base_uri": "https://localhost:8080/",
          "height": 585
        },
        "outputId": "1ef1f8e3-b819-41d9-dbeb-ab1fc39f566c"
      },
      "source": [
        "# Check for missing data\n",
        "sns.heatmap(df.isnull(), yticklabels=False, cbar=False)\n",
        "plt.tight_layout()"
      ],
      "execution_count": null,
      "outputs": [
        {
          "output_type": "display_data",
          "data": {
            "text/plain": [
              "<Figure size 864x576 with 1 Axes>"
            ],
            "image/png": "[encoded data removed]"
          },
          "metadata": {}
        }
      ]
    },
    {
      "cell_type": "code",
      "metadata": {
        "id": "0Qh2D3LEUYaY",
        "colab": {
          "base_uri": "https://localhost:8080/"
        },
        "outputId": "8b2cdd40-5638-4570-e5b6-ee9ccb5aa156"
      },
      "source": [
        "# Number of missing values\n",
        "print(df.isnull().sum().sort_values(ascending=False))"
      ],
      "execution_count": null,
      "outputs": [
        {
          "output_type": "stream",
          "name": "stdout",
          "text": [
            "mort_acc                37795\n",
            "emp_title               22927\n",
            "emp_length              18301\n",
            "title                    1755\n",
            "pub_rec_bankruptcies      535\n",
            "revol_util                276\n",
            "loan_amnt                   0\n",
            "dti                         0\n",
            "application_type            0\n",
            "initial_list_status         0\n",
            "total_acc                   0\n",
            "revol_bal                   0\n",
            "pub_rec                     0\n",
            "open_acc                    0\n",
            "earliest_cr_line            0\n",
            "purpose                     0\n",
            "term                        0\n",
            "loan_status                 0\n",
            "issue_d                     0\n",
            "verification_status         0\n",
            "annual_inc                  0\n",
            "home_ownership              0\n",
            "sub_grade                   0\n",
            "grade                       0\n",
            "installment                 0\n",
            "int_rate                    0\n",
            "address                     0\n",
            "dtype: int64\n"
          ]
        }
      ]
    },
    {
      "cell_type": "code",
      "metadata": {
        "id": "J1SjEQzFOAWw",
        "colab": {
          "base_uri": "https://localhost:8080/"
        },
        "outputId": "5b8a640f-c986-42b3-dfb8-50c5215152cb"
      },
      "source": [
        "# Number of missing %\n",
        "print(round((df.isnull().mean()*100).sort_values(ascending=False),2))"
      ],
      "execution_count": null,
      "outputs": [
        {
          "output_type": "stream",
          "name": "stdout",
          "text": [
            "mort_acc                9.54\n",
            "emp_title               5.79\n",
            "emp_length              4.62\n",
            "title                   0.44\n",
            "pub_rec_bankruptcies    0.14\n",
            "revol_util              0.07\n",
            "loan_amnt               0.00\n",
            "dti                     0.00\n",
            "application_type        0.00\n",
            "initial_list_status     0.00\n",
            "total_acc               0.00\n",
            "revol_bal               0.00\n",
            "pub_rec                 0.00\n",
            "open_acc                0.00\n",
            "earliest_cr_line        0.00\n",
            "purpose                 0.00\n",
            "term                    0.00\n",
            "loan_status             0.00\n",
            "issue_d                 0.00\n",
            "verification_status     0.00\n",
            "annual_inc              0.00\n",
            "home_ownership          0.00\n",
            "sub_grade               0.00\n",
            "grade                   0.00\n",
            "installment             0.00\n",
            "int_rate                0.00\n",
            "address                 0.00\n",
            "dtype: float64\n"
          ]
        }
      ]
    },
    {
      "cell_type": "code",
      "metadata": {
        "id": "86JJWwaOPsRf",
        "colab": {
          "base_uri": "https://localhost:8080/",
          "height": 512
        },
        "outputId": "5b14421d-1bd4-4ca9-ce1f-df80b2baaf5f"
      },
      "source": [
        "# Countplot of Target (loan_status)\n",
        "sns.countplot(df['loan_status'])"
      ],
      "execution_count": null,
      "outputs": [
        {
          "output_type": "execute_result",
          "data": {
            "text/plain": [
              "<AxesSubplot:xlabel='loan_status', ylabel='count'>"
            ]
          },
          "metadata": {},
          "execution_count": 22
        },
        {
          "output_type": "display_data",
          "data": {
            "text/plain": [
              "<Figure size 864x576 with 1 Axes>"
            ],
            "image/png": "[encoded data removed]"
          },
          "metadata": {}
        }
      ]
    },
    {
      "cell_type": "code",
      "metadata": {
        "id": "CJp3iGkEILyi",
        "colab": {
          "base_uri": "https://localhost:8080/"
        },
        "outputId": "813971c7-7a6b-43db-f9cc-a03deb241ba0"
      },
      "source": [
        "# From above graph we have imbalanced data, where 80% of data points are Fully Paid and 20% charged off\n",
        "100*df['loan_status'].value_counts()/(df['loan_status'].count())"
      ],
      "execution_count": null,
      "outputs": [
        {
          "output_type": "execute_result",
          "data": {
            "text/plain": [
              "Fully Paid     80.387092\n",
              "Charged Off    19.612908\n",
              "Name: loan_status, dtype: float64"
            ]
          },
          "metadata": {},
          "execution_count": 23
        }
      ]
    },
    {
      "cell_type": "code",
      "metadata": {
        "id": "bx5O5sxVc3Wl",
        "colab": {
          "base_uri": "https://localhost:8080/",
          "height": 512
        },
        "outputId": "fd445f09-1164-4c31-ce6c-055d7251bf90"
      },
      "source": [
        "# Histogram of loan_amnt\n",
        "sns.distplot(df['loan_amnt'], kde=False, bins=75)"
      ],
      "execution_count": null,
      "outputs": [
        {
          "output_type": "execute_result",
          "data": {
            "text/plain": [
              "<AxesSubplot:xlabel='loan_amnt'>"
            ]
          },
          "metadata": {},
          "execution_count": 24
        },
        {
          "output_type": "display_data",
          "data": {
            "text/plain": [
              "<Figure size 864x576 with 1 Axes>"
            ],
            "image/png": "[encoded data removed]"
          },
          "metadata": {}
        }
      ]
    },
    {
      "cell_type": "code",
      "metadata": {
        "id": "nswA-26nw56D",
        "colab": {
          "base_uri": "https://localhost:8080/",
          "height": 592
        },
        "outputId": "622b6ca9-e5a3-46dd-a607-d17eee842982"
      },
      "source": [
        "# Correlation plot\n",
        "sns.heatmap(df.dropna().corr(), annot=True, cmap='viridis')"
      ],
      "execution_count": null,
      "outputs": [
        {
          "output_type": "execute_result",
          "data": {
            "text/plain": [
              "<AxesSubplot:>"
            ]
          },
          "metadata": {},
          "execution_count": 25
        },
        {
          "output_type": "display_data",
          "data": {
            "text/plain": [
              "<Figure size 864x576 with 2 Axes>"
            ],
            "image/png": "[encoded data removed]"
          },
          "metadata": {}
        }
      ]
    },
    {
      "cell_type": "code",
      "metadata": {
        "id": "YDhPHIzH-FMw",
        "colab": {
          "base_uri": "https://localhost:8080/"
        },
        "outputId": "3b257421-10f0-4bbf-a447-ce9fc5dfe44d"
      },
      "source": [
        "# \"installment\" almost perfect correlation with the \"loan_amount\" feature\n",
        "print(feature_info('installment'),'\\n', feature_info('loan_amnt'))"
      ],
      "execution_count": null,
      "outputs": [
        {
          "output_type": "stream",
          "name": "stdout",
          "text": [
            "installment : The monthly payment owed by the borrower if the loan originates. \n",
            " loan_amnt : The listed amount of the loan applied for by the borrower. If at some point in time, the credit department reduces the loan amount, then it will be reflected in this value.\n"
          ]
        }
      ]
    },
    {
      "cell_type": "code",
      "metadata": {
        "id": "GYuIqM87-JOc",
        "colab": {
          "base_uri": "https://localhost:8080/",
          "height": 512
        },
        "outputId": "fbaba122-345f-4928-9b56-8d2ed821e44b"
      },
      "source": [
        "# As loan_amnt amount increases installments increases\n",
        "sns.scatterplot('installment', 'loan_amnt', data=df)"
      ],
      "execution_count": null,
      "outputs": [
        {
          "output_type": "execute_result",
          "data": {
            "text/plain": [
              "<AxesSubplot:xlabel='installment', ylabel='loan_amnt'>"
            ]
          },
          "metadata": {},
          "execution_count": 27
        },
        {
          "output_type": "display_data",
          "data": {
            "text/plain": [
              "<Figure size 864x576 with 1 Axes>"
            ],
            "image/png": "[encoded data removed]"
          },
          "metadata": {}
        }
      ]
    },
    {
      "cell_type": "code",
      "metadata": {
        "id": "XMCvxQPm-Nn7",
        "colab": {
          "base_uri": "https://localhost:8080/",
          "height": 637
        },
        "outputId": "bc3db6e8-6b2b-4a0c-c336-e9d394c8ddc8"
      },
      "source": [
        "# open credit lines v/s total number of credit lines in the borrower's credit file.\n",
        "print(feature_info('total_acc'), '\\n',feature_info('open_acc'),'\\n')\n",
        "sns.scatterplot('open_acc', 'total_acc', data=df.dropna())\n",
        "plt.tight_layout()"
      ],
      "execution_count": null,
      "outputs": [
        {
          "output_type": "stream",
          "name": "stdout",
          "text": [
            "total_acc : The total number of credit lines currently in the borrower's credit file \n",
            " open_acc : The number of open credit lines in the borrower's credit file. \n",
            "\n"
          ]
        },
        {
          "output_type": "display_data",
          "data": {
            "text/plain": [
              "<Figure size 864x576 with 1 Axes>"
            ],
            "image/png": "[encoded data removed]"
          },
          "metadata": {}
        }
      ]
    },
    {
      "cell_type": "code",
      "metadata": {
        "id": "GluTPhmlDfYT",
        "colab": {
          "base_uri": "https://localhost:8080/",
          "height": 512
        },
        "outputId": "07d5445f-fd3f-407e-b26e-ce0ac10e012b"
      },
      "source": [
        "# Boxplot showing the relationship between the loan_status and the loan_amnt\n",
        "sns.boxplot('loan_status','loan_amnt',data=df)"
      ],
      "execution_count": null,
      "outputs": [
        {
          "output_type": "execute_result",
          "data": {
            "text/plain": [
              "<AxesSubplot:xlabel='loan_status', ylabel='loan_amnt'>"
            ]
          },
          "metadata": {},
          "execution_count": 29
        },
        {
          "output_type": "display_data",
          "data": {
            "text/plain": [
              "<Figure size 864x576 with 1 Axes>"
            ],
            "image/png": "[encoded data removed]"
          },
          "metadata": {}
        }
      ]
    },
    {
      "cell_type": "code",
      "metadata": {
        "id": "PX402tLkpyu1",
        "colab": {
          "base_uri": "https://localhost:8080/",
          "height": 143
        },
        "outputId": "a7a3a4c9-d9cf-42c4-f20a-950ddafd33e3"
      },
      "source": [
        "# summary statistics for the loan amount, grouped by the loan_status.\n",
        "df.groupby('loan_status')['loan_amnt'].describe()\n",
        "# Charged Off loans \"loan amount\" is a bit higher than Fully Paid loans"
      ],
      "execution_count": null,
      "outputs": [
        {
          "output_type": "execute_result",
          "data": {
            "text/plain": [
              "                count          mean          std     min     25%      50%  \\\n",
              "loan_status                                                                 \n",
              "Charged Off   77673.0  15126.300967  8505.090557  1000.0  8525.0  14000.0   \n",
              "Fully Paid   318357.0  13866.878771  8302.319699   500.0  7500.0  12000.0   \n",
              "\n",
              "                 75%      max  \n",
              "loan_status                    \n",
              "Charged Off  20000.0  40000.0  \n",
              "Fully Paid   19225.0  40000.0  "
            ],
            "text/html": [
              "<div>\n",
              "<style scoped>\n",
              "    .dataframe tbody tr th:only-of-type {\n",
              "        vertical-align: middle;\n",
              "    }\n",
              "\n",
              "    .dataframe tbody tr th {\n",
              "        vertical-align: top;\n",
              "    }\n",
              "\n",
              "    .dataframe thead th {\n",
              "        text-align: right;\n",
              "    }\n",
              "</style>\n",
              "<table border=\"1\" class=\"dataframe\">\n",
              "  <thead>\n",
              "    <tr style=\"text-align: right;\">\n",
              "      <th></th>\n",
              "      <th>count</th>\n",
              "      <th>mean</th>\n",
              "      <th>std</th>\n",
              "      <th>min</th>\n",
              "      <th>25%</th>\n",
              "      <th>50%</th>\n",
              "      <th>75%</th>\n",
              "      <th>max</th>\n",
              "    </tr>\n",
              "    <tr>\n",
              "      <th>loan_status</th>\n",
              "      <th></th>\n",
              "      <th></th>\n",
              "      <th></th>\n",
              "      <th></th>\n",
              "      <th></th>\n",
              "      <th></th>\n",
              "      <th></th>\n",
              "      <th></th>\n",
              "    </tr>\n",
              "  </thead>\n",
              "  <tbody>\n",
              "    <tr>\n",
              "      <th>Charged Off</th>\n",
              "      <td>77673.0</td>\n",
              "      <td>15126.300967</td>\n",
              "      <td>8505.090557</td>\n",
              "      <td>1000.0</td>\n",
              "      <td>8525.0</td>\n",
              "      <td>14000.0</td>\n",
              "      <td>20000.0</td>\n",
              "      <td>40000.0</td>\n",
              "    </tr>\n",
              "    <tr>\n",
              "      <th>Fully Paid</th>\n",
              "      <td>318357.0</td>\n",
              "      <td>13866.878771</td>\n",
              "      <td>8302.319699</td>\n",
              "      <td>500.0</td>\n",
              "      <td>7500.0</td>\n",
              "      <td>12000.0</td>\n",
              "      <td>19225.0</td>\n",
              "      <td>40000.0</td>\n",
              "    </tr>\n",
              "  </tbody>\n",
              "</table>\n",
              "</div>"
            ]
          },
          "metadata": {},
          "execution_count": 30
        }
      ]
    },
    {
      "cell_type": "code",
      "metadata": {
        "id": "A75ACKl5H9Ee",
        "colab": {
          "base_uri": "https://localhost:8080/"
        },
        "outputId": "7f39acf2-39d3-4330-9222-637b16051e61"
      },
      "source": [
        "# Explore the \"grade\" column that LendingClub attributes to the loans.\n",
        "print(np.sort(df['grade'].unique()))"
      ],
      "execution_count": null,
      "outputs": [
        {
          "output_type": "stream",
          "name": "stdout",
          "text": [
            "['A' 'B' 'C' 'D' 'E' 'F' 'G']\n"
          ]
        }
      ]
    },
    {
      "cell_type": "code",
      "metadata": {
        "id": "zBwsNurVrNaC",
        "colab": {
          "base_uri": "https://localhost:8080/"
        },
        "outputId": "4e73b598-cb43-4af4-c303-543b47fce569"
      },
      "source": [
        "# Explore the \"sub_grade\" column that LendingClub attributes to the loans.\n",
        "print(np.sort(df['sub_grade'].unique()))"
      ],
      "execution_count": null,
      "outputs": [
        {
          "output_type": "stream",
          "name": "stdout",
          "text": [
            "['A1' 'A2' 'A3' 'A4' 'A5' 'B1' 'B2' 'B3' 'B4' 'B5' 'C1' 'C2' 'C3' 'C4'\n",
            " 'C5' 'D1' 'D2' 'D3' 'D4' 'D5' 'E1' 'E2' 'E3' 'E4' 'E5' 'F1' 'F2' 'F3'\n",
            " 'F4' 'F5' 'G1' 'G2' 'G3' 'G4' 'G5']\n"
          ]
        }
      ]
    },
    {
      "cell_type": "code",
      "metadata": {
        "id": "KRyWsjhTrU4C",
        "colab": {
          "base_uri": "https://localhost:8080/",
          "height": 512
        },
        "outputId": "0fcfc1eb-9ef9-464b-c2fa-289d680f04f4"
      },
      "source": [
        "# Countplot of grade per loan_status. \n",
        "sns.countplot(df['grade'].sort_values(), hue=df['loan_status'])"
      ],
      "execution_count": null,
      "outputs": [
        {
          "output_type": "execute_result",
          "data": {
            "text/plain": [
              "<AxesSubplot:xlabel='grade', ylabel='count'>"
            ]
          },
          "metadata": {},
          "execution_count": 33
        },
        {
          "output_type": "display_data",
          "data": {
            "text/plain": [
              "<Figure size 864x576 with 1 Axes>"
            ],
            "image/png": "[encoded data removed]"
          },
          "metadata": {}
        }
      ]
    },
    {
      "cell_type": "code",
      "metadata": {
        "id": "8gsRgPwirrBx",
        "colab": {
          "base_uri": "https://localhost:8080/",
          "height": 403
        },
        "outputId": "165da424-051e-4a4c-b7b7-ec8012e5b106"
      },
      "source": [
        "# Countplot of sub_grade per loan_status. \n",
        "plt.figure(figsize=(15,6))\n",
        "sns.countplot(df['sub_grade'].sort_values(), palette='rainbow',hue=df['loan_status'])"
      ],
      "execution_count": null,
      "outputs": [
        {
          "output_type": "execute_result",
          "data": {
            "text/plain": [
              "<AxesSubplot:xlabel='sub_grade', ylabel='count'>"
            ]
          },
          "metadata": {},
          "execution_count": 34
        },
        {
          "output_type": "display_data",
          "data": {
            "text/plain": [
              "<Figure size 1080x432 with 1 Axes>"
            ],
            "image/png": "[encoded data removed]"
          },
          "metadata": {}
        }
      ]
    },
    {
      "cell_type": "code",
      "metadata": {
        "id": "56Dtt1ycuAQd",
        "colab": {
          "base_uri": "https://localhost:8080/",
          "height": 512
        },
        "outputId": "d6d2f1d9-0a2f-4c11-f427-e6130fc626b7"
      },
      "source": [
        "# Isolating F and G and countplot just for those subgrades\n",
        "f_g = df[df['sub_grade'].isin(np.sort(df['sub_grade'].unique())[-10:])]\n",
        "sns.countplot(f_g['sub_grade'].sort_values(), palette='rainbow', hue=f_g['loan_status'])\n",
        "\n",
        "# F and G sub grades often doesn't payback their loans"
      ],
      "execution_count": null,
      "outputs": [
        {
          "output_type": "execute_result",
          "data": {
            "text/plain": [
              "<AxesSubplot:xlabel='sub_grade', ylabel='count'>"
            ]
          },
          "metadata": {},
          "execution_count": 35
        },
        {
          "output_type": "display_data",
          "data": {
            "text/plain": [
              "<Figure size 864x576 with 1 Axes>"
            ],
            "image/png": "[encoded data removed]"
          },
          "metadata": {}
        }
      ]
    },
    {
      "cell_type": "markdown",
      "metadata": {
        "id": "sRgJLKHP3ezK"
      },
      "source": [
        "## **Data Preprocessing**\n",
        "\n",
        "In this section, the focus is on making data suitable for model building.\n",
        "- Data Cleaning\n",
        "- Feature Engineering\n",
        "- Data Transformation\n",
        "  - Train Test Split\n",
        "  - Normalization"
      ]
    },
    {
      "cell_type": "markdown",
      "metadata": {
        "id": "fWSvXXUi7IVn"
      },
      "source": [
        "### Data Cleaning"
      ]
    },
    {
      "cell_type": "markdown",
      "metadata": {
        "id": "pu4Ubf6j6vWZ"
      },
      "source": [
        "<h3>Handling Missing data</h3>"
      ]
    },
    {
      "cell_type": "code",
      "metadata": {
        "id": "ihYzO1qV9r5U"
      },
      "source": [
        "# Function to check missing data after handling missing data\n",
        "def check_null():\n",
        "  return round(df.isna().mean()*100,2).sort_values(ascending = False)"
      ],
      "execution_count": null,
      "outputs": []
    },
    {
      "cell_type": "markdown",
      "metadata": {
        "id": "AML5KCh4JSQZ"
      },
      "source": [
        "**mort_acc**\n",
        "\n"
      ]
    },
    {
      "cell_type": "code",
      "metadata": {
        "id": "W1500eGv-s2P",
        "colab": {
          "base_uri": "https://localhost:8080/"
        },
        "outputId": "635bbaaf-6dd8-4059-99b7-d4a7762e65b0"
      },
      "source": [
        "# Around 10% of mort_acc is missing\n",
        "feature_info('mort_acc')"
      ],
      "execution_count": null,
      "outputs": [
        {
          "output_type": "execute_result",
          "data": {
            "text/plain": [
              "'mort_acc : Number of mortgage accounts.'"
            ]
          },
          "metadata": {},
          "execution_count": 37
        }
      ]
    },
    {
      "cell_type": "code",
      "metadata": {
        "id": "MaW739k5AItR",
        "colab": {
          "base_uri": "https://localhost:8080/"
        },
        "outputId": "5fa2152f-12d0-45ed-989e-4ca1c218528e"
      },
      "source": [
        "df['mort_acc'].value_counts()"
      ],
      "execution_count": null,
      "outputs": [
        {
          "output_type": "execute_result",
          "data": {
            "text/plain": [
              "0.0     139777\n",
              "1.0      60416\n",
              "2.0      49948\n",
              "3.0      38049\n",
              "4.0      27887\n",
              "5.0      18194\n",
              "6.0      11069\n",
              "7.0       6052\n",
              "8.0       3121\n",
              "9.0       1656\n",
              "10.0       865\n",
              "11.0       479\n",
              "12.0       264\n",
              "13.0       146\n",
              "14.0       107\n",
              "15.0        61\n",
              "16.0        37\n",
              "17.0        22\n",
              "18.0        18\n",
              "19.0        15\n",
              "20.0        13\n",
              "24.0        10\n",
              "22.0         7\n",
              "21.0         4\n",
              "25.0         4\n",
              "27.0         3\n",
              "23.0         2\n",
              "31.0         2\n",
              "26.0         2\n",
              "32.0         2\n",
              "28.0         1\n",
              "34.0         1\n",
              "30.0         1\n",
              "Name: mort_acc, dtype: int64"
            ]
          },
          "metadata": {},
          "execution_count": 38
        }
      ]
    },
    {
      "cell_type": "code",
      "metadata": {
        "id": "kcpoepfyA3ZR",
        "colab": {
          "base_uri": "https://localhost:8080/"
        },
        "outputId": "a50669f4-7a3b-49df-f5f9-707c2a216914"
      },
      "source": [
        "# Features that correlates with 'mort_acc'\n",
        "df.corr()['mort_acc'].sort_values(ascending=False)"
      ],
      "execution_count": null,
      "outputs": [
        {
          "output_type": "execute_result",
          "data": {
            "text/plain": [
              "mort_acc                1.000000\n",
              "total_acc               0.381072\n",
              "annual_inc              0.236320\n",
              "loan_amnt               0.222315\n",
              "revol_bal               0.194925\n",
              "installment             0.193694\n",
              "open_acc                0.109205\n",
              "pub_rec_bankruptcies    0.027239\n",
              "pub_rec                 0.011552\n",
              "revol_util              0.007514\n",
              "dti                    -0.025439\n",
              "int_rate               -0.082583\n",
              "Name: mort_acc, dtype: float64"
            ]
          },
          "metadata": {},
          "execution_count": 39
        }
      ]
    },
    {
      "cell_type": "code",
      "metadata": {
        "id": "L7WWR-BGBAOP",
        "colab": {
          "base_uri": "https://localhost:8080/"
        },
        "outputId": "125a0ecb-f058-47f8-e4a3-a7eab23ddd8e"
      },
      "source": [
        "# 'total_acc' have high correlation with 'mort_acc'\n",
        "# Lookup table for mort_acc values according to total_acc\n",
        "mort_acc_avg = df.groupby('total_acc')['mort_acc'].mean()\n",
        "mort_acc_avg"
      ],
      "execution_count": null,
      "outputs": [
        {
          "output_type": "execute_result",
          "data": {
            "text/plain": [
              "total_acc\n",
              "2.0      0.000000\n",
              "3.0      0.052023\n",
              "4.0      0.066743\n",
              "5.0      0.103289\n",
              "6.0      0.151293\n",
              "           ...   \n",
              "124.0    1.000000\n",
              "129.0    1.000000\n",
              "135.0    3.000000\n",
              "150.0    2.000000\n",
              "151.0    0.000000\n",
              "Name: mort_acc, Length: 118, dtype: float64"
            ]
          },
          "metadata": {},
          "execution_count": 40
        }
      ]
    },
    {
      "cell_type": "code",
      "metadata": {
        "id": "QUxucydi_3ej"
      },
      "source": [
        "# Function \"fill\" to  'total_acc' have high correlation with 'mort_acc'\n",
        "def fill_missing_data(x):\n",
        "  '''\n",
        " 'total_acc' have high correlation with 'mort_acc'\n",
        "  Take a row and if mort_acc value is missing fill it with w.r.t total_acc,\n",
        "  if mort_acc not null, no change.\n",
        "  '''\n",
        "  mort_account = x[0]\n",
        "  total_account = x[1]\n",
        "  if pd.isnull(mort_account):\n",
        "    return mort_acc_avg[total_account]\n",
        "  else:\n",
        "    return mort_account"
      ],
      "execution_count": null,
      "outputs": []
    },
    {
      "cell_type": "code",
      "metadata": {
        "id": "AFPQoKy-EMQ8",
        "colab": {
          "base_uri": "https://localhost:8080/"
        },
        "outputId": "9ebc06f7-c443-43fa-9d90-886195b96ef6"
      },
      "source": [
        "# Fill missing values using 'fill' function\n",
        "df['mort_acc'] = df[['mort_acc', 'total_acc']].apply(fill_missing_data, axis=1)\n",
        "# Verify changes \n",
        "print('Number of missing values: ', df['mort_acc'].isnull().sum())\n",
        "check_null()"
      ],
      "execution_count": null,
      "outputs": [
        {
          "output_type": "stream",
          "name": "stdout",
          "text": [
            "Number of missing values:  0\n"
          ]
        },
        {
          "output_type": "execute_result",
          "data": {
            "text/plain": [
              "emp_title               5.79\n",
              "emp_length              4.62\n",
              "title                   0.44\n",
              "pub_rec_bankruptcies    0.14\n",
              "revol_util              0.07\n",
              "loan_amnt               0.00\n",
              "dti                     0.00\n",
              "mort_acc                0.00\n",
              "application_type        0.00\n",
              "initial_list_status     0.00\n",
              "total_acc               0.00\n",
              "revol_bal               0.00\n",
              "pub_rec                 0.00\n",
              "open_acc                0.00\n",
              "earliest_cr_line        0.00\n",
              "purpose                 0.00\n",
              "term                    0.00\n",
              "loan_status             0.00\n",
              "issue_d                 0.00\n",
              "verification_status     0.00\n",
              "annual_inc              0.00\n",
              "home_ownership          0.00\n",
              "sub_grade               0.00\n",
              "grade                   0.00\n",
              "installment             0.00\n",
              "int_rate                0.00\n",
              "address                 0.00\n",
              "dtype: float64"
            ]
          },
          "metadata": {},
          "execution_count": 42
        }
      ]
    },
    {
      "cell_type": "markdown",
      "metadata": {
        "id": "T3hktMNjJ9Sg"
      },
      "source": [
        "**emp_title**"
      ]
    },
    {
      "cell_type": "code",
      "metadata": {
        "id": "16Z0H50iH7KS",
        "colab": {
          "base_uri": "https://localhost:8080/"
        },
        "outputId": "2ec51446-a9af-48d7-cd7c-ed014f34dc74"
      },
      "source": [
        "print(feature_info('emp_title'),'\\n')\n",
        "print('No. of unique job titles : ', df['emp_title'].nunique())\n",
        "# Too many unique job titles to convert in to a dummy variable feature. \n",
        "# Dropping \"emp_title\"\n",
        "df.drop('emp_title',axis=1, inplace=True)\n",
        "check_null()"
      ],
      "execution_count": null,
      "outputs": [
        {
          "output_type": "stream",
          "name": "stdout",
          "text": [
            "emp_title : The job title supplied by the Borrower when applying for the loan.* \n",
            "\n",
            "No. of unique job titles :  173105\n"
          ]
        },
        {
          "output_type": "execute_result",
          "data": {
            "text/plain": [
              "emp_length              4.62\n",
              "title                   0.44\n",
              "pub_rec_bankruptcies    0.14\n",
              "revol_util              0.07\n",
              "dti                     0.00\n",
              "mort_acc                0.00\n",
              "application_type        0.00\n",
              "initial_list_status     0.00\n",
              "total_acc               0.00\n",
              "revol_bal               0.00\n",
              "pub_rec                 0.00\n",
              "open_acc                0.00\n",
              "earliest_cr_line        0.00\n",
              "loan_amnt               0.00\n",
              "term                    0.00\n",
              "purpose                 0.00\n",
              "loan_status             0.00\n",
              "issue_d                 0.00\n",
              "verification_status     0.00\n",
              "annual_inc              0.00\n",
              "home_ownership          0.00\n",
              "sub_grade               0.00\n",
              "grade                   0.00\n",
              "installment             0.00\n",
              "int_rate                0.00\n",
              "address                 0.00\n",
              "dtype: float64"
            ]
          },
          "metadata": {},
          "execution_count": 43
        }
      ]
    },
    {
      "cell_type": "markdown",
      "metadata": {
        "id": "5hepWQDXKREO"
      },
      "source": [
        "**emp_length**"
      ]
    },
    {
      "cell_type": "code",
      "metadata": {
        "id": "9yg37SC6KU_V",
        "colab": {
          "base_uri": "https://localhost:8080/"
        },
        "outputId": "47303528-d0bb-4f3f-b8e3-973322a6c883"
      },
      "source": [
        "print(feature_info('emp_length'),'\\n')\n",
        "print('Different Employment lengths: \\n', sorted(df['emp_length'].dropna().unique()))"
      ],
      "execution_count": null,
      "outputs": [
        {
          "output_type": "stream",
          "name": "stdout",
          "text": [
            "emp_length : Employment length in years. Possible values are between 0 and 10 where 0 means less than one year and 10 means ten or more years.  \n",
            "\n",
            "Different Employment lengths: \n",
            " ['1 year', '10+ years', '2 years', '3 years', '4 years', '5 years', '6 years', '7 years', '8 years', '9 years', '< 1 year']\n"
          ]
        }
      ]
    },
    {
      "cell_type": "code",
      "metadata": {
        "id": "SLuIULF4Ldrj",
        "colab": {
          "base_uri": "https://localhost:8080/",
          "height": 512
        },
        "outputId": "66c25664-47c2-4f19-bece-9888944d3f67"
      },
      "source": [
        "# Countplot of 'emp_lenth' with given order \"emp_length_order\"\n",
        "emp_length_order = [ '< 1 year','1 year', '2 years', '3 years', '4 years', '5 years', '6 years', '7 years', '8 years', '9 years', '10+ years']\n",
        "sns.countplot(df['emp_length'], order=emp_length_order, hue=df['loan_status'])\n",
        "\n",
        "# The fully paid and Charged Off ratio looks same all emp_lengths"
      ],
      "execution_count": null,
      "outputs": [
        {
          "output_type": "execute_result",
          "data": {
            "text/plain": [
              "<AxesSubplot:xlabel='emp_length', ylabel='count'>"
            ]
          },
          "metadata": {},
          "execution_count": 45
        },
        {
          "output_type": "display_data",
          "data": {
            "text/plain": [
              "<Figure size 864x576 with 1 Axes>"
            ],
            "image/png": "[encoded data removed]"
          },
          "metadata": {}
        }
      ]
    },
    {
      "cell_type": "code",
      "metadata": {
        "id": "Nter7bJWs6Ee",
        "colab": {
          "base_uri": "https://localhost:8080/"
        },
        "outputId": "e3d9847b-29da-403f-bbf7-e9a41e7a9590"
      },
      "source": [
        "# Charged Off emp loan_status w.r.t emp_length \n",
        "emp_co = df[df['loan_status']==\"Charged Off\"].groupby(\"emp_length\").count()['loan_status']\n",
        "print(emp_co)\n",
        "\n",
        "# Fully Paid emp loan_status w.r.t emp_length \n",
        "emp_fp = df[df['loan_status']==\"Fully Paid\"].groupby(\"emp_length\").count()['loan_status']\n",
        "print('\\n',emp_fp)"
      ],
      "execution_count": null,
      "outputs": [
        {
          "output_type": "stream",
          "name": "stdout",
          "text": [
            "emp_length\n",
            "1 year        5154\n",
            "10+ years    23215\n",
            "2 years       6924\n",
            "3 years       6182\n",
            "4 years       4608\n",
            "5 years       5092\n",
            "6 years       3943\n",
            "7 years       4055\n",
            "8 years       3829\n",
            "9 years       3070\n",
            "< 1 year      6563\n",
            "Name: loan_status, dtype: int64\n",
            "\n",
            " emp_length\n",
            "1 year        20728\n",
            "10+ years    102826\n",
            "2 years       28903\n",
            "3 years       25483\n",
            "4 years       19344\n",
            "5 years       21403\n",
            "6 years       16898\n",
            "7 years       16764\n",
            "8 years       15339\n",
            "9 years       12244\n",
            "< 1 year      25162\n",
            "Name: loan_status, dtype: int64\n"
          ]
        }
      ]
    },
    {
      "cell_type": "code",
      "metadata": {
        "id": "mJGpkhTr3-kc",
        "colab": {
          "base_uri": "https://localhost:8080/"
        },
        "outputId": "4e4bec3a-b1e1-4bbd-dd7c-490c453ffe34"
      },
      "source": [
        "# Charged off loan_status Ratio w.r.t emp_length \n",
        "print('Charged off loan_status Ratio w.r.t emp_length: \\n')\n",
        "emp_len = emp_co/(emp_fp+emp_co)\n",
        "print(emp_len)"
      ],
      "execution_count": null,
      "outputs": [
        {
          "output_type": "stream",
          "name": "stdout",
          "text": [
            "Charged off loan_status Ratio w.r.t emp_length: \n",
            "\n",
            "emp_length\n",
            "1 year       0.199135\n",
            "10+ years    0.184186\n",
            "2 years      0.193262\n",
            "3 years      0.195231\n",
            "4 years      0.192385\n",
            "5 years      0.192187\n",
            "6 years      0.189194\n",
            "7 years      0.194774\n",
            "8 years      0.199760\n",
            "9 years      0.200470\n",
            "< 1 year     0.206872\n",
            "Name: loan_status, dtype: float64\n"
          ]
        }
      ]
    },
    {
      "cell_type": "code",
      "metadata": {
        "id": "_Z2o6AJ_s6Eo",
        "colab": {
          "base_uri": "https://localhost:8080/",
          "height": 981
        },
        "outputId": "1b6986b0-7e8b-47b1-f56e-0dbd5e85b146"
      },
      "source": [
        "# Charge off rates are similar across all employment lengths\n",
        "emp_len.plot(kind='bar')\n",
        "# Dropping the emp_length column as it doen't contain much information\n",
        "df.drop('emp_length',axis=1, inplace=True)\n",
        "check_null()"
      ],
      "execution_count": null,
      "outputs": [
        {
          "output_type": "execute_result",
          "data": {
            "text/plain": [
              "title                   0.44\n",
              "pub_rec_bankruptcies    0.14\n",
              "revol_util              0.07\n",
              "dti                     0.00\n",
              "mort_acc                0.00\n",
              "application_type        0.00\n",
              "initial_list_status     0.00\n",
              "total_acc               0.00\n",
              "revol_bal               0.00\n",
              "pub_rec                 0.00\n",
              "open_acc                0.00\n",
              "earliest_cr_line        0.00\n",
              "loan_amnt               0.00\n",
              "term                    0.00\n",
              "purpose                 0.00\n",
              "loan_status             0.00\n",
              "issue_d                 0.00\n",
              "verification_status     0.00\n",
              "annual_inc              0.00\n",
              "home_ownership          0.00\n",
              "sub_grade               0.00\n",
              "grade                   0.00\n",
              "installment             0.00\n",
              "int_rate                0.00\n",
              "address                 0.00\n",
              "dtype: float64"
            ]
          },
          "metadata": {},
          "execution_count": 48
        },
        {
          "output_type": "display_data",
          "data": {
            "text/plain": [
              "<Figure size 864x576 with 1 Axes>"
            ],
            "image/png": "[encoded data removed]"
          },
          "metadata": {}
        }
      ]
    },
    {
      "cell_type": "markdown",
      "metadata": {
        "id": "yUpfoqKK7Tks"
      },
      "source": [
        "**title**"
      ]
    },
    {
      "cell_type": "code",
      "metadata": {
        "id": "Fuafrfzn5GYk",
        "colab": {
          "base_uri": "https://localhost:8080/"
        },
        "outputId": "20afa7fe-915a-4080-d52b-65b0070940e2"
      },
      "source": [
        "print(feature_info('title'),'\\n')\n",
        "\n",
        "print('No. of different titles: ', df['title'].dropna().nunique())\n",
        "print('\\nDifferent titles:\\n',df['title'].dropna().value_counts())\n",
        "\n",
        "# 48817 different titles to convert in to dummies\n",
        "# Dropping title feature\n",
        "df.drop('title',axis=1, inplace=True) \n",
        "check_null()"
      ],
      "execution_count": null,
      "outputs": [
        {
          "output_type": "stream",
          "name": "stdout",
          "text": [
            "title : The loan title provided by the borrower \n",
            "\n",
            "No. of different titles:  48817\n",
            "\n",
            "Different titles:\n",
            " Debt consolidation                          152472\n",
            "Credit card refinancing                      51487\n",
            "Home improvement                             15264\n",
            "Other                                        12930\n",
            "Debt Consolidation                           11608\n",
            "                                             ...  \n",
            "Need Help To Payoff 401(k) Home Loan             1\n",
            "1990 BMW M3 investment financing                 1\n",
            "Paypal                                           1\n",
            "new summer                                       1\n",
            "Lowrey Organ & Wellness Ctr. For Seniors         1\n",
            "Name: title, Length: 48817, dtype: int64\n"
          ]
        },
        {
          "output_type": "execute_result",
          "data": {
            "text/plain": [
              "pub_rec_bankruptcies    0.14\n",
              "revol_util              0.07\n",
              "loan_amnt               0.00\n",
              "term                    0.00\n",
              "mort_acc                0.00\n",
              "application_type        0.00\n",
              "initial_list_status     0.00\n",
              "total_acc               0.00\n",
              "revol_bal               0.00\n",
              "pub_rec                 0.00\n",
              "open_acc                0.00\n",
              "earliest_cr_line        0.00\n",
              "dti                     0.00\n",
              "purpose                 0.00\n",
              "loan_status             0.00\n",
              "issue_d                 0.00\n",
              "verification_status     0.00\n",
              "annual_inc              0.00\n",
              "home_ownership          0.00\n",
              "sub_grade               0.00\n",
              "grade                   0.00\n",
              "installment             0.00\n",
              "int_rate                0.00\n",
              "address                 0.00\n",
              "dtype: float64"
            ]
          },
          "metadata": {},
          "execution_count": 49
        }
      ]
    },
    {
      "cell_type": "markdown",
      "metadata": {
        "id": "0wwoaFVhBTNN"
      },
      "source": [
        "**Other Features**"
      ]
    },
    {
      "cell_type": "code",
      "metadata": {
        "id": "ZDUqdhiN89HR",
        "colab": {
          "base_uri": "https://localhost:8080/"
        },
        "outputId": "88b53f83-e781-4a3e-c082-68850ecd7740"
      },
      "source": [
        "# pub_rec_bankruptcies and revol_util have only 0.14% and 0.07 % of missing values respectively\n",
        "\n",
        "print(feature_info('pub_rec_bankruptcies'),'\\n')\n",
        "print('Different values of pub_rec_bankruptcies: ', df['pub_rec_bankruptcies'].dropna().unique())\n",
        "print('\\npub_rec_bankruptcies counts:\\n',df['pub_rec_bankruptcies'].dropna().value_counts())"
      ],
      "execution_count": null,
      "outputs": [
        {
          "output_type": "stream",
          "name": "stdout",
          "text": [
            "pub_rec_bankruptcies : Number of public record bankruptcies \n",
            "\n",
            "Different values of pub_rec_bankruptcies:  [0. 1. 2. 3. 4. 5. 6. 7. 8.]\n",
            "\n",
            "pub_rec_bankruptcies counts:\n",
            " 0.0    350380\n",
            "1.0     42790\n",
            "2.0      1847\n",
            "3.0       351\n",
            "4.0        82\n",
            "5.0        32\n",
            "6.0         7\n",
            "7.0         4\n",
            "8.0         2\n",
            "Name: pub_rec_bankruptcies, dtype: int64\n"
          ]
        }
      ]
    },
    {
      "cell_type": "code",
      "metadata": {
        "id": "jA-skxbVH9BV",
        "colab": {
          "base_uri": "https://localhost:8080/"
        },
        "outputId": "9409d642-ecb4-4b59-fed9-336ef73e0ac9"
      },
      "source": [
        "# Mean and Median values of pub_rec_bankruptcies and revol_util\n",
        "\n",
        "print('pub_rec_bankruptcies:\\n',df['pub_rec_bankruptcies'].describe())\n",
        "print('\\n\\nrevol_util:\\n',df['revol_util'].describe())"
      ],
      "execution_count": null,
      "outputs": [
        {
          "output_type": "stream",
          "name": "stdout",
          "text": [
            "pub_rec_bankruptcies:\n",
            " count    395495.000000\n",
            "mean          0.121648\n",
            "std           0.356174\n",
            "min           0.000000\n",
            "25%           0.000000\n",
            "50%           0.000000\n",
            "75%           0.000000\n",
            "max           8.000000\n",
            "Name: pub_rec_bankruptcies, dtype: float64\n",
            "\n",
            "\n",
            "revol_util:\n",
            " count    395754.000000\n",
            "mean         53.791749\n",
            "std          24.452193\n",
            "min           0.000000\n",
            "25%          35.800000\n",
            "50%          54.800000\n",
            "75%          72.900000\n",
            "max         892.300000\n",
            "Name: revol_util, dtype: float64\n"
          ]
        }
      ]
    },
    {
      "cell_type": "code",
      "metadata": {
        "id": "XoAIzIC__n5B",
        "colab": {
          "base_uri": "https://localhost:8080/"
        },
        "outputId": "dccb426a-1863-45ba-bd5f-048268657ef7"
      },
      "source": [
        "# Fill the missing values with median\n",
        "df = df.fillna(df.median())\n",
        "check_null()"
      ],
      "execution_count": null,
      "outputs": [
        {
          "output_type": "execute_result",
          "data": {
            "text/plain": [
              "loan_amnt               0.0\n",
              "term                    0.0\n",
              "pub_rec_bankruptcies    0.0\n",
              "mort_acc                0.0\n",
              "application_type        0.0\n",
              "initial_list_status     0.0\n",
              "total_acc               0.0\n",
              "revol_util              0.0\n",
              "revol_bal               0.0\n",
              "pub_rec                 0.0\n",
              "open_acc                0.0\n",
              "earliest_cr_line        0.0\n",
              "dti                     0.0\n",
              "purpose                 0.0\n",
              "loan_status             0.0\n",
              "issue_d                 0.0\n",
              "verification_status     0.0\n",
              "annual_inc              0.0\n",
              "home_ownership          0.0\n",
              "sub_grade               0.0\n",
              "grade                   0.0\n",
              "installment             0.0\n",
              "int_rate                0.0\n",
              "address                 0.0\n",
              "dtype: float64"
            ]
          },
          "metadata": {},
          "execution_count": 52
        }
      ]
    },
    {
      "cell_type": "markdown",
      "metadata": {
        "id": "mj7_Naf1Jey7"
      },
      "source": [
        "### Feature Engineering"
      ]
    },
    {
      "cell_type": "code",
      "metadata": {
        "id": "bu51YKzjJpoi",
        "colab": {
          "base_uri": "https://localhost:8080/"
        },
        "outputId": "530910eb-20d5-4b04-b3ce-859a754c4d72"
      },
      "source": [
        "# Get all Categorical cols of df\n",
        "cat_cols = df.select_dtypes(exclude=[np.number]).columns.values\n",
        "print('Categorical cols of df:',cat_cols)"
      ],
      "execution_count": null,
      "outputs": [
        {
          "output_type": "stream",
          "name": "stdout",
          "text": [
            "Categorical cols of df: ['term' 'grade' 'sub_grade' 'home_ownership' 'verification_status'\n",
            " 'issue_d' 'loan_status' 'purpose' 'earliest_cr_line'\n",
            " 'initial_list_status' 'application_type' 'address']\n"
          ]
        }
      ]
    },
    {
      "cell_type": "markdown",
      "metadata": {
        "id": "6Xw7qmAPKsfq"
      },
      "source": [
        "**term**"
      ]
    },
    {
      "cell_type": "code",
      "metadata": {
        "id": "d2oY7rBCKQXO",
        "colab": {
          "base_uri": "https://localhost:8080/"
        },
        "outputId": "85db65f3-3cd3-408e-ebbc-b1f367500a71"
      },
      "source": [
        "print(feature_info('term'),'\\n')\n",
        "print(df['term'].unique())\n",
        "\n",
        "# Converting ' 36 months' to 36, ' 60 months' to 60\n",
        "df['term'] = df['term'].map({' 36 months':36, ' 60 months':60})\n",
        "df['term'].unique()"
      ],
      "execution_count": null,
      "outputs": [
        {
          "output_type": "stream",
          "name": "stdout",
          "text": [
            "term : The number of payments on the loan. Values are in months and can be either 36 or 60. \n",
            "\n",
            "[' 36 months' ' 60 months']\n"
          ]
        },
        {
          "output_type": "execute_result",
          "data": {
            "text/plain": [
              "array([36, 60], dtype=int64)"
            ]
          },
          "metadata": {},
          "execution_count": 54
        }
      ]
    },
    {
      "cell_type": "markdown",
      "metadata": {
        "id": "keFhzX_tLnoY"
      },
      "source": [
        "**grade** and **sub_grade**"
      ]
    },
    {
      "cell_type": "code",
      "metadata": {
        "id": "OWkYJhpELzEV",
        "colab": {
          "base_uri": "https://localhost:8080/"
        },
        "outputId": "89f218e3-d46d-440c-f365-8f5397b6f69f"
      },
      "source": [
        "print(feature_info('grade'))\n",
        "print(df['grade'].unique(),'\\n')\n",
        "print(feature_info('sub_grade'))\n",
        "print(df['sub_grade'].unique())\n",
        "# As subgrade itself cointains grades,\n",
        "# dropping 'grade' feature\n",
        "df.drop('grade', axis=1, inplace=True)"
      ],
      "execution_count": null,
      "outputs": [
        {
          "output_type": "stream",
          "name": "stdout",
          "text": [
            "grade : LC assigned loan grade\n",
            "['B' 'A' 'C' 'E' 'D' 'F' 'G'] \n",
            "\n",
            "sub_grade : LC assigned loan subgrade\n",
            "['B4' 'B5' 'B3' 'A2' 'C5' 'C3' 'A1' 'B2' 'C1' 'A5' 'E4' 'A4' 'A3' 'D1'\n",
            " 'C2' 'B1' 'D3' 'D5' 'D2' 'E1' 'E2' 'E5' 'F4' 'E3' 'D4' 'G1' 'F5' 'G2'\n",
            " 'C4' 'F1' 'F3' 'G5' 'G4' 'F2' 'G3']\n"
          ]
        }
      ]
    },
    {
      "cell_type": "markdown",
      "metadata": {
        "id": "3iDImRMVMfa4"
      },
      "source": [
        "**home_ownership**"
      ]
    },
    {
      "cell_type": "code",
      "metadata": {
        "id": "nSk319rHMhTk",
        "colab": {
          "base_uri": "https://localhost:8080/"
        },
        "outputId": "caaef631-08c3-4ac1-ea0a-8f620ff54f7f"
      },
      "source": [
        "print(feature_info('home_ownership'),'\\n')\n",
        "print('Unique home_ownership :',df['home_ownership'].unique(),'\\n')\n",
        "print('Value counts of home_ownership :\\n',df['home_ownership'].value_counts())\n",
        "\n",
        "# Merging \"NONE\" and \"ANY\" to 'OTHERS'\n",
        "df['home_ownership'] = df['home_ownership'].replace(['NONE','ANY'],'OTHER')\n",
        "print('Unique home_ownership :',df['home_ownership'].unique(),'\\n')\n",
        "print('Value counts of home_ownership :\\n',df['home_ownership'].value_counts())"
      ],
      "execution_count": null,
      "outputs": [
        {
          "output_type": "stream",
          "name": "stdout",
          "text": [
            "home_ownership : The home ownership status provided by the borrower during registration or obtained from the credit report. Our values are: RENT, OWN, MORTGAGE, OTHER \n",
            "\n",
            "Unique home_ownership : ['RENT' 'MORTGAGE' 'OWN' 'OTHER' 'NONE' 'ANY'] \n",
            "\n",
            "Value counts of home_ownership :\n",
            " MORTGAGE    198348\n",
            "RENT        159790\n",
            "OWN          37746\n",
            "OTHER          112\n",
            "NONE            31\n",
            "ANY              3\n",
            "Name: home_ownership, dtype: int64\n",
            "Unique home_ownership : ['RENT' 'MORTGAGE' 'OWN' 'OTHER'] \n",
            "\n",
            "Value counts of home_ownership :\n",
            " MORTGAGE    198348\n",
            "RENT        159790\n",
            "OWN          37746\n",
            "OTHER          146\n",
            "Name: home_ownership, dtype: int64\n"
          ]
        }
      ]
    },
    {
      "cell_type": "markdown",
      "metadata": {
        "id": "CefhBB62N6Dk"
      },
      "source": [
        "**verification_status**"
      ]
    },
    {
      "cell_type": "code",
      "metadata": {
        "id": "SMMS6rh9N9MH",
        "colab": {
          "base_uri": "https://localhost:8080/",
          "height": 668
        },
        "outputId": "035f5e55-89ce-41a9-8ff9-29c4d1496fa2"
      },
      "source": [
        "print(feature_info('verification_status'),'\\n')\n",
        "print('Unique verification_status :',df['verification_status'].unique(),'\\n')\n",
        "print('Value counts of verification_status :\\n',df['verification_status'].value_counts())\n",
        "sns.countplot(df['verification_status'], hue=df['loan_status'])"
      ],
      "execution_count": null,
      "outputs": [
        {
          "output_type": "stream",
          "name": "stdout",
          "text": [
            "verification_status : Indicates if income was verified by LC, not verified, or if the income source was verified \n",
            "\n",
            "Unique verification_status : ['Not Verified' 'Source Verified' 'Verified'] \n",
            "\n",
            "Value counts of verification_status :\n",
            " Verified           139563\n",
            "Source Verified    131385\n",
            "Not Verified       125082\n",
            "Name: verification_status, dtype: int64\n"
          ]
        },
        {
          "output_type": "execute_result",
          "data": {
            "text/plain": [
              "<AxesSubplot:xlabel='verification_status', ylabel='count'>"
            ]
          },
          "metadata": {},
          "execution_count": 57
        },
        {
          "output_type": "display_data",
          "data": {
            "text/plain": [
              "<Figure size 864x576 with 1 Axes>"
            ],
            "image/png": "[encoded data removed]"
          },
          "metadata": {}
        }
      ]
    },
    {
      "cell_type": "markdown",
      "metadata": {
        "id": "FzYgkpA9QlUy"
      },
      "source": [
        "**issue_d**"
      ]
    },
    {
      "cell_type": "code",
      "metadata": {
        "id": "kisJxobPQtGP",
        "colab": {
          "base_uri": "https://localhost:8080/"
        },
        "outputId": "dbbe0836-ffd7-45af-9f18-c04003d81968"
      },
      "source": [
        "# dropping this feature As we are predicting whether or not a loan would be issued when using our model\n",
        "print(feature_info('issue_d'),'\\n')\n",
        "df.drop('issue_d', axis=1, inplace=True)"
      ],
      "execution_count": null,
      "outputs": [
        {
          "output_type": "stream",
          "name": "stdout",
          "text": [
            "issue_d : The month which the loan was funded \n",
            "\n"
          ]
        }
      ]
    },
    {
      "cell_type": "markdown",
      "metadata": {
        "id": "vy_9m_HURQz-"
      },
      "source": [
        "**loan_status**"
      ]
    },
    {
      "cell_type": "code",
      "metadata": {
        "id": "ANlnEKtrRXkx",
        "colab": {
          "base_uri": "https://localhost:8080/"
        },
        "outputId": "7a70ce6d-2031-41ba-a95b-825a87d95ebb"
      },
      "source": [
        "# Target Feature\n",
        "print(feature_info('loan_status'),'\\n')\n",
        "print('Unique loan_status :',df['loan_status'].unique(),'\\n')\n",
        "print('Value counts of loan_status :\\n',df['loan_status'].value_counts())"
      ],
      "execution_count": null,
      "outputs": [
        {
          "output_type": "stream",
          "name": "stdout",
          "text": [
            "loan_status : Current status of the loan \n",
            "\n",
            "Unique loan_status : ['Fully Paid' 'Charged Off'] \n",
            "\n",
            "Value counts of loan_status :\n",
            " Fully Paid     318357\n",
            "Charged Off     77673\n",
            "Name: loan_status, dtype: int64\n"
          ]
        }
      ]
    },
    {
      "cell_type": "code",
      "metadata": {
        "id": "hHyM97ZMRem1",
        "colab": {
          "base_uri": "https://localhost:8080/"
        },
        "outputId": "fdc251fb-bb11-4001-fcb1-00659fab35d0"
      },
      "source": [
        "# New 'load_repaid' column with 1 if the loan status was \"Fully Paid\" and a 0 if it was \"Charged Off\".\n",
        "df['loan_repaid'] = df['loan_status'].apply(lambda x:1 if x=='Fully Paid' else 0)\n",
        "\n",
        "#Dropping the original loan_status column\n",
        "df.drop(['loan_status'], axis=1, inplace=True)\n",
        "print('Unique loan_repaid :',df['loan_repaid'].unique(),'\\n')\n",
        "print('Value counts of loan_repaid :\\n',df['loan_repaid'].value_counts())"
      ],
      "execution_count": null,
      "outputs": [
        {
          "output_type": "stream",
          "name": "stdout",
          "text": [
            "Unique loan_repaid : [1 0] \n",
            "\n",
            "Value counts of loan_repaid :\n",
            " 1    318357\n",
            "0     77673\n",
            "Name: loan_repaid, dtype: int64\n"
          ]
        }
      ]
    },
    {
      "cell_type": "markdown",
      "metadata": {
        "id": "4Lbuo9HwSyqM"
      },
      "source": [
        "**purpose**"
      ]
    },
    {
      "cell_type": "code",
      "metadata": {
        "id": "hdbDQmDCSx_-",
        "colab": {
          "base_uri": "https://localhost:8080/"
        },
        "outputId": "6c888d7d-4074-4d95-ab96-2db1e6df0928"
      },
      "source": [
        "print(feature_info('purpose'),'\\n')\n",
        "print('Unique purpose :',df['purpose'].unique(),'\\n')\n",
        "print('Value counts of purpose :\\n',df['purpose'].value_counts())"
      ],
      "execution_count": null,
      "outputs": [
        {
          "output_type": "stream",
          "name": "stdout",
          "text": [
            "purpose : A category provided by the borrower for the loan request.  \n",
            "\n",
            "Unique purpose : ['vacation' 'debt_consolidation' 'credit_card' 'home_improvement'\n",
            " 'small_business' 'major_purchase' 'other' 'medical' 'wedding' 'car'\n",
            " 'moving' 'house' 'educational' 'renewable_energy'] \n",
            "\n",
            "Value counts of purpose :\n",
            " debt_consolidation    234507\n",
            "credit_card            83019\n",
            "home_improvement       24030\n",
            "other                  21185\n",
            "major_purchase          8790\n",
            "small_business          5701\n",
            "car                     4697\n",
            "medical                 4196\n",
            "moving                  2854\n",
            "vacation                2452\n",
            "house                   2201\n",
            "wedding                 1812\n",
            "renewable_energy         329\n",
            "educational              257\n",
            "Name: purpose, dtype: int64\n"
          ]
        }
      ]
    },
    {
      "cell_type": "markdown",
      "metadata": {
        "id": "2GPRxyvrU_1F"
      },
      "source": [
        "**earliest_cr_line**"
      ]
    },
    {
      "cell_type": "code",
      "metadata": {
        "id": "5msozHUDTpBy",
        "colab": {
          "base_uri": "https://localhost:8080/",
          "height": 589
        },
        "outputId": "db363982-7f1d-4ad9-db5d-617a46d94e57"
      },
      "source": [
        "# Correlation of the numeric features to the new loan_repaid column\n",
        "df.corr()['loan_repaid'].sort_values()[:-1].plot.bar()"
      ],
      "execution_count": null,
      "outputs": [
        {
          "output_type": "execute_result",
          "data": {
            "text/plain": [
              "<AxesSubplot:>"
            ]
          },
          "metadata": {},
          "execution_count": 62
        },
        {
          "output_type": "display_data",
          "data": {
            "text/plain": [
              "<Figure size 864x576 with 1 Axes>"
            ],
            "image/png": "[encoded data removed]"
          },
          "metadata": {}
        }
      ]
    },
    {
      "cell_type": "code",
      "metadata": {
        "id": "Ji8h67PmU_1G",
        "colab": {
          "base_uri": "https://localhost:8080/"
        },
        "outputId": "19da9acc-ff44-4890-bcda-c74e397ef37c"
      },
      "source": [
        "print(feature_info('earliest_cr_line'),'\\n')\n",
        "print('Unique earliest_cr_line count :',df['earliest_cr_line'].nunique(),'\\n')\n",
        "print('Value counts of earliest_cr_line :\\n',df['earliest_cr_line'].value_counts())\n",
        "\n",
        "# Extracting the year from the \"earliest_cr_line\" feature.\n",
        "# New numeric feature 'earliest_cr_year'\n",
        "# dropping the original earliest_cr_line feature.\n",
        "\n",
        "df['earliest_cr_year'] = df['earliest_cr_line'].apply(lambda date:int(date[-4:]))\n",
        "df.drop('earliest_cr_line', axis=1, inplace=True)"
      ],
      "execution_count": null,
      "outputs": [
        {
          "output_type": "stream",
          "name": "stdout",
          "text": [
            "earliest_cr_line : The month the borrower's earliest reported credit line was opened \n",
            "\n",
            "Unique earliest_cr_line count : 684 \n",
            "\n",
            "Value counts of earliest_cr_line :\n",
            " Oct-2000    3017\n",
            "Aug-2000    2935\n",
            "Oct-2001    2896\n",
            "Aug-2001    2884\n",
            "Nov-2000    2736\n",
            "            ... \n",
            "Aug-1960       1\n",
            "May-1962       1\n",
            "Jan-1953       1\n",
            "Jun-1955       1\n",
            "Sep-1957       1\n",
            "Name: earliest_cr_line, Length: 684, dtype: int64\n"
          ]
        }
      ]
    },
    {
      "cell_type": "markdown",
      "metadata": {
        "id": "ymRlw4rbZAP0"
      },
      "source": [
        "**initial_list_status**"
      ]
    },
    {
      "cell_type": "code",
      "metadata": {
        "id": "hk41KYjrZELU",
        "colab": {
          "base_uri": "https://localhost:8080/"
        },
        "outputId": "dad82fe8-8086-4fd5-9260-579dd27c6820"
      },
      "source": [
        "print(feature_info('initial_list_status'),'\\n')\n",
        "print('Unique initial_list_status count :',df['initial_list_status'].unique(),'\\n')\n",
        "print('Value counts of initial_list_status :\\n',df['initial_list_status'].value_counts())"
      ],
      "execution_count": null,
      "outputs": [
        {
          "output_type": "stream",
          "name": "stdout",
          "text": [
            "initial_list_status : The initial listing status of the loan. Possible values are – W, F \n",
            "\n",
            "Unique initial_list_status count : ['w' 'f'] \n",
            "\n",
            "Value counts of initial_list_status :\n",
            " f    238066\n",
            "w    157964\n",
            "Name: initial_list_status, dtype: int64\n"
          ]
        }
      ]
    },
    {
      "cell_type": "markdown",
      "metadata": {
        "id": "MGd611JkZafx"
      },
      "source": [
        "**application_type**"
      ]
    },
    {
      "cell_type": "code",
      "metadata": {
        "id": "yTfNI4-IZc6v",
        "colab": {
          "base_uri": "https://localhost:8080/"
        },
        "outputId": "f9c0e7e9-dcfa-442f-e7b5-dd217b6d2f94"
      },
      "source": [
        "print(feature_info('application_type'),'\\n')\n",
        "print('Unique application_type count :',df['application_type'].unique(),'\\n')\n",
        "print('Value counts of application_type :\\n',df['application_type'].value_counts())"
      ],
      "execution_count": null,
      "outputs": [
        {
          "output_type": "stream",
          "name": "stdout",
          "text": [
            "application_type : Indicates whether the loan is an individual application or a joint application with two co-borrowers \n",
            "\n",
            "Unique application_type count : ['INDIVIDUAL' 'JOINT' 'DIRECT_PAY'] \n",
            "\n",
            "Value counts of application_type :\n",
            " INDIVIDUAL    395319\n",
            "JOINT            425\n",
            "DIRECT_PAY       286\n",
            "Name: application_type, dtype: int64\n"
          ]
        }
      ]
    },
    {
      "cell_type": "markdown",
      "metadata": {
        "id": "qwVMP9JPZ6qu"
      },
      "source": [
        "**address**"
      ]
    },
    {
      "cell_type": "code",
      "metadata": {
        "id": "TD5d-BVoQr9o",
        "colab": {
          "base_uri": "https://localhost:8080/",
          "height": 295
        },
        "outputId": "3e3cc6c9-5dde-4b72-bed7-e8bb448a0bd6"
      },
      "source": [
        "display(df['address'])\n",
        "# Exctracting only zipcode from address into a new \"zip_code\" column\n",
        "\n",
        "df['zip_code'] = df['address'].apply(lambda x: x[-5:])\n",
        "df.drop('address', axis=1, inplace=True)\n",
        "print('\\n Value counts of zip_code :\\n',df['zip_code'].unique())"
      ],
      "execution_count": null,
      "outputs": [
        {
          "output_type": "display_data",
          "data": {
            "text/plain": [
              "0              0174 Michelle Gateway\\nMendozaberg, OK 22690\n",
              "1           1076 Carney Fort Apt. 347\\nLoganmouth, SD 05113\n",
              "2           87025 Mark Dale Apt. 269\\nNew Sabrina, WV 05113\n",
              "3                     823 Reid Ford\\nDelacruzside, MA 00813\n",
              "4                      679 Luna Roads\\nGreggshire, VA 11650\n",
              "                                ...                        \n",
              "396025       12951 Williams Crossing\\nJohnnyville, DC 30723\n",
              "396026    0114 Fowler Field Suite 028\\nRachelborough, LA...\n",
              "396027     953 Matthew Points Suite 414\\nReedfort, NY 70466\n",
              "396028    7843 Blake Freeway Apt. 229\\nNew Michael, FL 2...\n",
              "396029          787 Michelle Causeway\\nBriannaton, AR 48052\n",
              "Name: address, Length: 396030, dtype: object"
            ]
          },
          "metadata": {}
        },
        {
          "output_type": "stream",
          "name": "stdout",
          "text": [
            "\n",
            " Value counts of zip_code :\n",
            " ['22690' '05113' '00813' '11650' '30723' '70466' '29597' '48052' '86630'\n",
            " '93700']\n"
          ]
        }
      ]
    },
    {
      "cell_type": "markdown",
      "metadata": {
        "id": "0W2uTuPoPAM8"
      },
      "source": [
        "**installment**"
      ]
    },
    {
      "cell_type": "code",
      "source": [
        "sns.clustermap(df.corr(), cmap='rainbow')\n",
        "df.corr()['installment'].sort_values(ascending=False)\n",
        "# Dropping \"installment\" as it correlates above 90% with \"loan_amnt\"\n",
        "df.drop('installment', axis=1, inplace=True)"
      ],
      "metadata": {
        "colab": {
          "base_uri": "https://localhost:8080/",
          "height": 729
        },
        "id": "36O8_tNkqiui",
        "outputId": "5d77dd56-b49d-4f16-c536-12d218222925"
      },
      "execution_count": null,
      "outputs": [
        {
          "output_type": "display_data",
          "data": {
            "text/plain": [
              "<Figure size 720x720 with 4 Axes>"
            ],
            "image/png": "[encoded data removed]"
          },
          "metadata": {}
        }
      ]
    },
    {
      "cell_type": "markdown",
      "metadata": {
        "id": "wHG-SjR7bbMF"
      },
      "source": [
        "One hot encoding"
      ]
    },
    {
      "cell_type": "code",
      "metadata": {
        "id": "0TnbH5VbbQbn",
        "colab": {
          "base_uri": "https://localhost:8080/"
        },
        "outputId": "4b4b6770-b790-453e-e80a-41b40294e685"
      },
      "source": [
        "# Take all categorical column of new df in cat_cols\n",
        "cat_cols = df.select_dtypes(exclude=[np.number]).columns.values\n",
        "print(cat_cols)"
      ],
      "execution_count": null,
      "outputs": [
        {
          "output_type": "stream",
          "name": "stdout",
          "text": [
            "['sub_grade' 'home_ownership' 'verification_status' 'purpose'\n",
            " 'initial_list_status' 'application_type' 'zip_code']\n"
          ]
        }
      ]
    },
    {
      "cell_type": "code",
      "metadata": {
        "id": "G6oCKUjGbau3",
        "colab": {
          "base_uri": "https://localhost:8080/",
          "height": 255
        },
        "outputId": "808c94c0-b3b6-4003-bc4c-f06e4717725d"
      },
      "source": [
        "# Get dummies for categorical columns\n",
        "dummies = pd.get_dummies(df[cat_cols], drop_first=True)\n",
        "\n",
        "# Drop actual categorical columns\n",
        "df = df.drop(cat_cols,axis=1)\n",
        "\n",
        "# Concatenate dummy columns with df2\n",
        "df = pd.concat([df,dummies],axis=1)\n",
        "df.head()"
      ],
      "execution_count": null,
      "outputs": [
        {
          "output_type": "execute_result",
          "data": {
            "text/plain": [
              "   loan_amnt  term  int_rate  annual_inc    dti  open_acc  pub_rec  revol_bal  \\\n",
              "0    10000.0    36     11.44    117000.0  26.24      16.0      0.0    36369.0   \n",
              "1     8000.0    36     11.99     65000.0  22.05      17.0      0.0    20131.0   \n",
              "2    15600.0    36     10.49     43057.0  12.79      13.0      0.0    11987.0   \n",
              "3     7200.0    36      6.49     54000.0   2.60       6.0      0.0     5472.0   \n",
              "4    24375.0    60     17.27     55000.0  33.95      13.0      0.0    24584.0   \n",
              "\n",
              "   revol_util  total_acc  ...  application_type_JOINT  zip_code_05113  \\\n",
              "0        41.8       25.0  ...                       0               0   \n",
              "1        53.3       27.0  ...                       0               1   \n",
              "2        92.2       26.0  ...                       0               1   \n",
              "3        21.5       13.0  ...                       0               0   \n",
              "4        69.8       43.0  ...                       0               0   \n",
              "\n",
              "   zip_code_11650  zip_code_22690  zip_code_29597  zip_code_30723  \\\n",
              "0               0               1               0               0   \n",
              "1               0               0               0               0   \n",
              "2               0               0               0               0   \n",
              "3               0               0               0               0   \n",
              "4               1               0               0               0   \n",
              "\n",
              "   zip_code_48052  zip_code_70466  zip_code_86630  zip_code_93700  \n",
              "0               0               0               0               0  \n",
              "1               0               0               0               0  \n",
              "2               0               0               0               0  \n",
              "3               0               0               0               0  \n",
              "4               0               0               0               0  \n",
              "\n",
              "[5 rows x 78 columns]"
            ],
            "text/html": [
              "<div>\n",
              "<style scoped>\n",
              "    .dataframe tbody tr th:only-of-type {\n",
              "        vertical-align: middle;\n",
              "    }\n",
              "\n",
              "    .dataframe tbody tr th {\n",
              "        vertical-align: top;\n",
              "    }\n",
              "\n",
              "    .dataframe thead th {\n",
              "        text-align: right;\n",
              "    }\n",
              "</style>\n",
              "<table border=\"1\" class=\"dataframe\">\n",
              "  <thead>\n",
              "    <tr style=\"text-align: right;\">\n",
              "      <th></th>\n",
              "      <th>loan_amnt</th>\n",
              "      <th>term</th>\n",
              "      <th>int_rate</th>\n",
              "      <th>annual_inc</th>\n",
              "      <th>dti</th>\n",
              "      <th>open_acc</th>\n",
              "      <th>pub_rec</th>\n",
              "      <th>revol_bal</th>\n",
              "      <th>revol_util</th>\n",
              "      <th>total_acc</th>\n",
              "      <th>...</th>\n",
              "      <th>application_type_JOINT</th>\n",
              "      <th>zip_code_05113</th>\n",
              "      <th>zip_code_11650</th>\n",
              "      <th>zip_code_22690</th>\n",
              "      <th>zip_code_29597</th>\n",
              "      <th>zip_code_30723</th>\n",
              "      <th>zip_code_48052</th>\n",
              "      <th>zip_code_70466</th>\n",
              "      <th>zip_code_86630</th>\n",
              "      <th>zip_code_93700</th>\n",
              "    </tr>\n",
              "  </thead>\n",
              "  <tbody>\n",
              "    <tr>\n",
              "      <th>0</th>\n",
              "      <td>10000.0</td>\n",
              "      <td>36</td>\n",
              "      <td>11.44</td>\n",
              "      <td>117000.0</td>\n",
              "      <td>26.24</td>\n",
              "      <td>16.0</td>\n",
              "      <td>0.0</td>\n",
              "      <td>36369.0</td>\n",
              "      <td>41.8</td>\n",
              "      <td>25.0</td>\n",
              "      <td>...</td>\n",
              "      <td>0</td>\n",
              "      <td>0</td>\n",
              "      <td>0</td>\n",
              "      <td>1</td>\n",
              "      <td>0</td>\n",
              "      <td>0</td>\n",
              "      <td>0</td>\n",
              "      <td>0</td>\n",
              "      <td>0</td>\n",
              "      <td>0</td>\n",
              "    </tr>\n",
              "    <tr>\n",
              "      <th>1</th>\n",
              "      <td>8000.0</td>\n",
              "      <td>36</td>\n",
              "      <td>11.99</td>\n",
              "      <td>65000.0</td>\n",
              "      <td>22.05</td>\n",
              "      <td>17.0</td>\n",
              "      <td>0.0</td>\n",
              "      <td>20131.0</td>\n",
              "      <td>53.3</td>\n",
              "      <td>27.0</td>\n",
              "      <td>...</td>\n",
              "      <td>0</td>\n",
              "      <td>1</td>\n",
              "      <td>0</td>\n",
              "      <td>0</td>\n",
              "      <td>0</td>\n",
              "      <td>0</td>\n",
              "      <td>0</td>\n",
              "      <td>0</td>\n",
              "      <td>0</td>\n",
              "      <td>0</td>\n",
              "    </tr>\n",
              "    <tr>\n",
              "      <th>2</th>\n",
              "      <td>15600.0</td>\n",
              "      <td>36</td>\n",
              "      <td>10.49</td>\n",
              "      <td>43057.0</td>\n",
              "      <td>12.79</td>\n",
              "      <td>13.0</td>\n",
              "      <td>0.0</td>\n",
              "      <td>11987.0</td>\n",
              "      <td>92.2</td>\n",
              "      <td>26.0</td>\n",
              "      <td>...</td>\n",
              "      <td>0</td>\n",
              "      <td>1</td>\n",
              "      <td>0</td>\n",
              "      <td>0</td>\n",
              "      <td>0</td>\n",
              "      <td>0</td>\n",
              "      <td>0</td>\n",
              "      <td>0</td>\n",
              "      <td>0</td>\n",
              "      <td>0</td>\n",
              "    </tr>\n",
              "    <tr>\n",
              "      <th>3</th>\n",
              "      <td>7200.0</td>\n",
              "      <td>36</td>\n",
              "      <td>6.49</td>\n",
              "      <td>54000.0</td>\n",
              "      <td>2.60</td>\n",
              "      <td>6.0</td>\n",
              "      <td>0.0</td>\n",
              "      <td>5472.0</td>\n",
              "      <td>21.5</td>\n",
              "      <td>13.0</td>\n",
              "      <td>...</td>\n",
              "      <td>0</td>\n",
              "      <td>0</td>\n",
              "      <td>0</td>\n",
              "      <td>0</td>\n",
              "      <td>0</td>\n",
              "      <td>0</td>\n",
              "      <td>0</td>\n",
              "      <td>0</td>\n",
              "      <td>0</td>\n",
              "      <td>0</td>\n",
              "    </tr>\n",
              "    <tr>\n",
              "      <th>4</th>\n",
              "      <td>24375.0</td>\n",
              "      <td>60</td>\n",
              "      <td>17.27</td>\n",
              "      <td>55000.0</td>\n",
              "      <td>33.95</td>\n",
              "      <td>13.0</td>\n",
              "      <td>0.0</td>\n",
              "      <td>24584.0</td>\n",
              "      <td>69.8</td>\n",
              "      <td>43.0</td>\n",
              "      <td>...</td>\n",
              "      <td>0</td>\n",
              "      <td>0</td>\n",
              "      <td>1</td>\n",
              "      <td>0</td>\n",
              "      <td>0</td>\n",
              "      <td>0</td>\n",
              "      <td>0</td>\n",
              "      <td>0</td>\n",
              "      <td>0</td>\n",
              "      <td>0</td>\n",
              "    </tr>\n",
              "  </tbody>\n",
              "</table>\n",
              "<p>5 rows × 78 columns</p>\n",
              "</div>"
            ]
          },
          "metadata": {},
          "execution_count": 69
        }
      ]
    },
    {
      "cell_type": "code",
      "metadata": {
        "id": "eTkOwcYJduDq",
        "colab": {
          "base_uri": "https://localhost:8080/"
        },
        "outputId": "14221622-5726-4e57-a335-74d7f5414bf3"
      },
      "source": [
        "print('Total rows : ', len(df)) \n",
        "print('Total columns : ', len(df.columns)) \n",
        "print('columns : \\n', df.columns.values) "
      ],
      "execution_count": null,
      "outputs": [
        {
          "output_type": "stream",
          "name": "stdout",
          "text": [
            "Total rows :  396030\n",
            "Total columns :  78\n",
            "columns : \n",
            " ['loan_amnt' 'term' 'int_rate' 'annual_inc' 'dti' 'open_acc' 'pub_rec'\n",
            " 'revol_bal' 'revol_util' 'total_acc' 'mort_acc' 'pub_rec_bankruptcies'\n",
            " 'loan_repaid' 'earliest_cr_year' 'sub_grade_A2' 'sub_grade_A3'\n",
            " 'sub_grade_A4' 'sub_grade_A5' 'sub_grade_B1' 'sub_grade_B2'\n",
            " 'sub_grade_B3' 'sub_grade_B4' 'sub_grade_B5' 'sub_grade_C1'\n",
            " 'sub_grade_C2' 'sub_grade_C3' 'sub_grade_C4' 'sub_grade_C5'\n",
            " 'sub_grade_D1' 'sub_grade_D2' 'sub_grade_D3' 'sub_grade_D4'\n",
            " 'sub_grade_D5' 'sub_grade_E1' 'sub_grade_E2' 'sub_grade_E3'\n",
            " 'sub_grade_E4' 'sub_grade_E5' 'sub_grade_F1' 'sub_grade_F2'\n",
            " 'sub_grade_F3' 'sub_grade_F4' 'sub_grade_F5' 'sub_grade_G1'\n",
            " 'sub_grade_G2' 'sub_grade_G3' 'sub_grade_G4' 'sub_grade_G5'\n",
            " 'home_ownership_OTHER' 'home_ownership_OWN' 'home_ownership_RENT'\n",
            " 'verification_status_Source Verified' 'verification_status_Verified'\n",
            " 'purpose_credit_card' 'purpose_debt_consolidation' 'purpose_educational'\n",
            " 'purpose_home_improvement' 'purpose_house' 'purpose_major_purchase'\n",
            " 'purpose_medical' 'purpose_moving' 'purpose_other'\n",
            " 'purpose_renewable_energy' 'purpose_small_business' 'purpose_vacation'\n",
            " 'purpose_wedding' 'initial_list_status_w' 'application_type_INDIVIDUAL'\n",
            " 'application_type_JOINT' 'zip_code_05113' 'zip_code_11650'\n",
            " 'zip_code_22690' 'zip_code_29597' 'zip_code_30723' 'zip_code_48052'\n",
            " 'zip_code_70466' 'zip_code_86630' 'zip_code_93700']\n"
          ]
        }
      ]
    },
    {
      "cell_type": "code",
      "source": [
        "df.corr()['loan_repaid'].sort_values()[:-1].plot.bar()"
      ],
      "metadata": {
        "colab": {
          "base_uri": "https://localhost:8080/",
          "height": 645
        },
        "id": "yGirn0NSuv96",
        "outputId": "fa193a91-08a0-4ecf-b87a-ba9d1743fbc7"
      },
      "execution_count": null,
      "outputs": [
        {
          "output_type": "execute_result",
          "data": {
            "text/plain": [
              "<AxesSubplot:>"
            ]
          },
          "metadata": {},
          "execution_count": 71
        },
        {
          "output_type": "display_data",
          "data": {
            "text/plain": [
              "<Figure size 864x576 with 1 Axes>"
            ],
            "image/png": "[encoded data removed]"
          },
          "metadata": {}
        }
      ]
    },
    {
      "cell_type": "markdown",
      "metadata": {
        "id": "mtPAqw36eJZU"
      },
      "source": [
        "### Data Tranformation\n",
        "\n",
        "- Train Test Split\n",
        "- Normalization\n"
      ]
    },
    {
      "cell_type": "markdown",
      "metadata": {
        "id": "BTRgGqnOgXJO"
      },
      "source": [
        "#### Train Test Split"
      ]
    },
    {
      "cell_type": "code",
      "metadata": {
        "id": "0W0VflECehzS"
      },
      "source": [
        "# Excluding last three rows of df for new customer prediction\n",
        "\n",
        "# All rows excluding last data point\n",
        "X = df.iloc[:-3].drop('loan_repaid', axis=1)\n",
        "y = df.iloc[:-3]['loan_repaid']"
      ],
      "execution_count": null,
      "outputs": []
    },
    {
      "cell_type": "code",
      "source": [
        "X_os, y_os = SMOTE(random_state=22,n_jobs=-1,sampling_strategy=0.7).fit_resample(X, y)\n",
        "print('Before sampling\\ny = {} \\ny_count : \\n{}\\n'.format(y.shape,y.value_counts()))\n",
        "print('After sampling\\ny= {} \\ny_count : \\n{}'.format(y_os.shape,y_os.value_counts()))"
      ],
      "metadata": {
        "colab": {
          "base_uri": "https://localhost:8080/"
        },
        "id": "5F1-Zpg4QQiM",
        "outputId": "468bffed-64c3-4e61-b56e-469ba76a0240"
      },
      "execution_count": null,
      "outputs": [
        {
          "output_type": "stream",
          "name": "stdout",
          "text": [
            "Before sampling\n",
            "y = (396027,) \n",
            "y_count : \n",
            "1    318354\n",
            "0     77673\n",
            "Name: loan_repaid, dtype: int64\n",
            "\n",
            "After sampling\n",
            "y= (541201,) \n",
            "y_count : \n",
            "1    318354\n",
            "0    222847\n",
            "Name: loan_repaid, dtype: int64\n"
          ]
        }
      ]
    },
    {
      "cell_type": "code",
      "metadata": {
        "id": "keONL6D6QOn2"
      },
      "source": [
        "X_train, X_test, y_train, y_test = train_test_split(X, y, test_size=0.25,random_state=22)\n",
        "X_train1, X_test1, y_train1, y_test1 = train_test_split(X_os, y_os, test_size=0.25,random_state=22)"
      ],
      "execution_count": null,
      "outputs": []
    },
    {
      "cell_type": "code",
      "metadata": {
        "colab": {
          "base_uri": "https://localhost:8080/"
        },
        "outputId": "99352e92-80f5-43fa-fb6c-a777af95cf67",
        "id": "9yiezZWVQOn2"
      },
      "source": [
        "print('X_train : {} \\ny_train : {}'.format(X_train.shape,y_train.shape))\n",
        "print('X_test : {} \\ny_test : {}'.format(X_test.shape,y_test.shape))"
      ],
      "execution_count": null,
      "outputs": [
        {
          "output_type": "stream",
          "name": "stdout",
          "text": [
            "X_train : (297020, 77) \n",
            "y_train : (297020,)\n",
            "X_test : (99007, 77) \n",
            "y_test : (99007,)\n"
          ]
        }
      ]
    },
    {
      "cell_type": "code",
      "metadata": {
        "colab": {
          "base_uri": "https://localhost:8080/"
        },
        "outputId": "868ba129-9c6a-4625-9418-7d366d43906f",
        "id": "AkMtvktzQOn2"
      },
      "source": [
        "print('X_train : {} \\ny_train : {}'.format(X_train1.shape,y_train1.shape))\n",
        "print('X_test : {} \\ny_test : {}'.format(X_test1.shape,y_test1.shape))"
      ],
      "execution_count": null,
      "outputs": [
        {
          "output_type": "stream",
          "name": "stdout",
          "text": [
            "X_train : (405900, 77) \n",
            "y_train : (405900,)\n",
            "X_test : (135301, 77) \n",
            "y_test : (135301,)\n"
          ]
        }
      ]
    },
    {
      "cell_type": "markdown",
      "metadata": {
        "id": "JyYgzr_MS7zC"
      },
      "source": [
        "# **Modeling**\n",
        "---\n"
      ]
    },
    {
      "cell_type": "code",
      "source": [
        "# Logistic Regression\n",
        "pipe_lr = make_pipeline(StandardScaler(), LogisticRegression(random_state=22, max_iter=1000)) \n",
        "\n",
        "# parameters for grid search\n",
        "param_grid_lr = {'logisticregression__C': [100]}\n",
        "\n",
        "# GRID SEARCH (using pipeline and param_grid along with cross-validation)\n",
        "grid_lr = GridSearchCV(pipe_lr, param_grid_lr, cv=5, n_jobs=-1)\n",
        "\n",
        "# Fit Oversampled train data to grid\n",
        "grid_lr.fit(X_train1, y_train1)\n",
        "\n",
        "print('Best cross-validation score : {:.2f}\\n'.format(grid_lr.best_score_))\n",
        "print('Best Parameters: ', grid_lr.best_params_)\n",
        "\n",
        "y_pred_lr = grid_lr.predict(X_test1)\n",
        "print('\\Predictions: ', y_pred_lr)\n",
        "print('\\nClassification Report: ')\n",
        "print(classification_report(y_test1,y_pred_lr))\n",
        "print('\\nConfusion Matrix: ')\n",
        "print(confusion_matrix(y_test1,y_pred_lr))"
      ],
      "metadata": {
        "colab": {
          "base_uri": "https://localhost:8080/"
        },
        "id": "hraEMEEjKaQz",
        "outputId": "712142a2-3781-431e-9b63-810f33147175"
      },
      "execution_count": null,
      "outputs": [
        {
          "output_type": "stream",
          "name": "stdout",
          "text": [
            "Best cross-validation score : 0.90\n",
            "\n",
            "Best Parameters:  {'logisticregression__C': 100}\n",
            "\\Predictions:  [1 1 1 ... 1 1 0]\n",
            "\n",
            "Classification Report: \n",
            "              precision    recall  f1-score   support\n",
            "\n",
            "           0       0.96      0.80      0.87     55997\n",
            "           1       0.87      0.98      0.92     79304\n",
            "\n",
            "    accuracy                           0.90    135301\n",
            "   macro avg       0.92      0.89      0.90    135301\n",
            "weighted avg       0.91      0.90      0.90    135301\n",
            "\n",
            "\n",
            "Confusion Matrix: \n",
            "[[44721 11276]\n",
            " [ 1683 77621]]\n"
          ]
        }
      ]
    },
    {
      "cell_type": "code",
      "source": [
        "# Random Forest Classifier\n",
        "pipe_rf = make_pipeline(RandomForestClassifier(random_state=22, n_jobs=-1,class_weight='balanced',bootstrap=False,)) \n",
        "\n",
        "# parameters for grid search\n",
        "# param_grid_rf = {'randomforestclassifier__n_estimators':[50, 100], 'randomforestclassifier__max_depth':[4,7,9], 'randomforestclassifier__criterion' :['gini','entropy']}\n",
        "param_grid_rf = {'randomforestclassifier__n_estimators':[100], 'randomforestclassifier__max_depth':[9], 'randomforestclassifier__criterion' :['gini']}\n",
        "\n",
        "# GRID SEARCH (using pipeline and param_grid along with cross-validation)\n",
        "grid_rf = GridSearchCV(pipe_rf, param_grid_rf, cv=5, n_jobs=-1, scoring=\"f1\" )\n",
        "\n",
        "# Fit Oversampled train data to grid\n",
        "grid_rf.fit(X_train1, y_train1)\n",
        "\n",
        "print('Best cross-validation score : {:.2f}\\n'.format(grid_rf.best_score_))\n",
        "print('Best Parameters: ', grid_rf.best_params_)\n",
        "\n",
        "y_pred_rf = grid_rf.predict(X_test1)\n",
        "print('\\Predictions: ', y_pred_rf)\n",
        "print('\\nClassification Report: ')\n",
        "print(classification_report(y_test1,y_pred_rf))\n",
        "print('\\nConfusion Matrix: ')\n",
        "print(confusion_matrix(y_test1,y_pred_rf))"
      ],
      "metadata": {
        "colab": {
          "base_uri": "https://localhost:8080/"
        },
        "id": "-1m_MgW45MWE",
        "outputId": "1d625bcd-22b1-4ee7-c8ad-88983498eaba"
      },
      "execution_count": null,
      "outputs": [
        {
          "output_type": "stream",
          "name": "stdout",
          "text": [
            "Best cross-validation score : 0.83\n",
            "\n",
            "Best Parameters:  {'randomforestclassifier__criterion': 'gini', 'randomforestclassifier__max_depth': 9, 'randomforestclassifier__n_estimators': 100}\n",
            "\\Predictions:  [1 1 0 ... 1 0 0]\n",
            "\n",
            "Classification Report: \n",
            "              precision    recall  f1-score   support\n",
            "\n",
            "           0       0.77      0.85      0.81     55997\n",
            "           1       0.89      0.82      0.85     79304\n",
            "\n",
            "    accuracy                           0.83    135301\n",
            "   macro avg       0.83      0.84      0.83    135301\n",
            "weighted avg       0.84      0.83      0.84    135301\n",
            "\n",
            "\n",
            "Confusion Matrix: \n",
            "[[47856  8141]\n",
            " [14214 65090]]\n"
          ]
        }
      ]
    },
    {
      "cell_type": "code",
      "metadata": {
        "id": "7u-5REhrTarV"
      },
      "source": [
        "# ANN Model\n",
        "\n",
        "model = Sequential()\n",
        "# Input layer\n",
        "model.add(Dense(77, activation='relu', kernel_constraint=max_norm(3)))\n",
        "model.add(Dropout(0.3)) # Drop 30% of neurons randomly\n",
        "# Hidden layers\n",
        "model.add(Dense(38, activation='relu', kernel_constraint=max_norm(3)))\n",
        "model.add(Dropout(0.2))\n",
        "model.add(Dense(19, activation='relu', kernel_constraint=max_norm(3)))\n",
        "model.add(Dropout(0.2))\n",
        "\n",
        "# Output layer\n",
        "model.add(Dense(1, activation='sigmoid'))"
      ],
      "execution_count": null,
      "outputs": []
    },
    {
      "cell_type": "code",
      "metadata": {
        "id": "dPUwm9hSUSVI",
        "colab": {
          "base_uri": "https://localhost:8080/"
        },
        "outputId": "0f0e93cb-18be-4184-a256-f245e0230912"
      },
      "source": [
        "# Compile the created model\n",
        "model.compile(optimizer='adam',\n",
        "              loss='binary_crossentropy',\n",
        "              metrics=['accuracy'])\n",
        "\n",
        "# Monitor the \"validation_loss\" and \n",
        "# when \"min\" value is reached during training, wait for \"3\" epochs and stop training\n",
        "early_stop = EarlyStopping(monitor='val_loss',\n",
        "                    verbose=1,\n",
        "                    mode='min',\n",
        "                    patience=3)\n",
        "scaler = StandardScaler()\n",
        "X_train_sca_smo = scaler.fit_transform(X_train1)\n",
        "X_test_sca = scaler.transform(X_test1)\n",
        "\n",
        "# Fit the model\n",
        "model.fit(X_train_sca_smo,\n",
        "        y_train1,\n",
        "        batch_size=256,\n",
        "        epochs=15,\n",
        "        validation_data=(X_test_sca, y_test1),\n",
        "        callbacks=[early_stop])"
      ],
      "execution_count": null,
      "outputs": [
        {
          "output_type": "stream",
          "name": "stdout",
          "text": [
            "Epoch 1/30\n",
            "1586/1586 [==============================] - 8s 4ms/step - loss: 0.2616 - accuracy: 0.8949 - val_loss: 0.2157 - val_accuracy: 0.9094\n",
            "Epoch 2/30\n",
            "1586/1586 [==============================] - 5s 3ms/step - loss: 0.2192 - accuracy: 0.9097 - val_loss: 0.2098 - val_accuracy: 0.9103\n",
            "Epoch 3/30\n",
            "1586/1586 [==============================] - 5s 3ms/step - loss: 0.2136 - accuracy: 0.9106 - val_loss: 0.2080 - val_accuracy: 0.9105\n",
            "Epoch 4/30\n",
            "1586/1586 [==============================] - 5s 3ms/step - loss: 0.2111 - accuracy: 0.9110 - val_loss: 0.2065 - val_accuracy: 0.9108\n",
            "Epoch 5/30\n",
            "1586/1586 [==============================] - 5s 3ms/step - loss: 0.2095 - accuracy: 0.9113 - val_loss: 0.2062 - val_accuracy: 0.9108\n",
            "Epoch 6/30\n",
            "1586/1586 [==============================] - 5s 3ms/step - loss: 0.2085 - accuracy: 0.9116 - val_loss: 0.2053 - val_accuracy: 0.9112\n",
            "Epoch 7/30\n",
            "1586/1586 [==============================] - 5s 3ms/step - loss: 0.2081 - accuracy: 0.9117 - val_loss: 0.2049 - val_accuracy: 0.9112\n",
            "Epoch 8/30\n",
            "1586/1586 [==============================] - 5s 3ms/step - loss: 0.2072 - accuracy: 0.9119 - val_loss: 0.2046 - val_accuracy: 0.9112\n",
            "Epoch 9/30\n",
            "1586/1586 [==============================] - 5s 3ms/step - loss: 0.2068 - accuracy: 0.9119 - val_loss: 0.2042 - val_accuracy: 0.9114\n",
            "Epoch 10/30\n",
            "1586/1586 [==============================] - 6s 4ms/step - loss: 0.2063 - accuracy: 0.9121 - val_loss: 0.2040 - val_accuracy: 0.9115\n",
            "Epoch 11/30\n",
            "1586/1586 [==============================] - 6s 3ms/step - loss: 0.2057 - accuracy: 0.9124 - val_loss: 0.2035 - val_accuracy: 0.9118\n",
            "Epoch 12/30\n",
            "1586/1586 [==============================] - 5s 3ms/step - loss: 0.2055 - accuracy: 0.9125 - val_loss: 0.2035 - val_accuracy: 0.9115\n",
            "Epoch 13/30\n",
            "1586/1586 [==============================] - 5s 3ms/step - loss: 0.2057 - accuracy: 0.9122 - val_loss: 0.2040 - val_accuracy: 0.9114\n",
            "Epoch 14/30\n",
            "1586/1586 [==============================] - 5s 3ms/step - loss: 0.2052 - accuracy: 0.9122 - val_loss: 0.2033 - val_accuracy: 0.9119\n",
            "Epoch 15/30\n",
            "1586/1586 [==============================] - 5s 3ms/step - loss: 0.2051 - accuracy: 0.9124 - val_loss: 0.2033 - val_accuracy: 0.9116\n",
            "Epoch 16/30\n",
            "1586/1586 [==============================] - 5s 3ms/step - loss: 0.2047 - accuracy: 0.9126 - val_loss: 0.2033 - val_accuracy: 0.9117\n",
            "Epoch 17/30\n",
            "1586/1586 [==============================] - 5s 3ms/step - loss: 0.2047 - accuracy: 0.9124 - val_loss: 0.2031 - val_accuracy: 0.9117\n",
            "Epoch 18/30\n",
            "1586/1586 [==============================] - 5s 3ms/step - loss: 0.2045 - accuracy: 0.9126 - val_loss: 0.2036 - val_accuracy: 0.9115\n",
            "Epoch 19/30\n",
            "1586/1586 [==============================] - 5s 3ms/step - loss: 0.2043 - accuracy: 0.9129 - val_loss: 0.2034 - val_accuracy: 0.9116\n",
            "Epoch 20/30\n",
            "1586/1586 [==============================] - 5s 3ms/step - loss: 0.2044 - accuracy: 0.9126 - val_loss: 0.2029 - val_accuracy: 0.9120\n",
            "Epoch 21/30\n",
            "1586/1586 [==============================] - 6s 4ms/step - loss: 0.2039 - accuracy: 0.9128 - val_loss: 0.2030 - val_accuracy: 0.9118\n",
            "Epoch 22/30\n",
            "1586/1586 [==============================] - 5s 3ms/step - loss: 0.2037 - accuracy: 0.9126 - val_loss: 0.2028 - val_accuracy: 0.9120\n",
            "Epoch 23/30\n",
            "1586/1586 [==============================] - 5s 3ms/step - loss: 0.2036 - accuracy: 0.9129 - val_loss: 0.2023 - val_accuracy: 0.9121\n",
            "Epoch 24/30\n",
            "1586/1586 [==============================] - 5s 3ms/step - loss: 0.2033 - accuracy: 0.9131 - val_loss: 0.2020 - val_accuracy: 0.9123\n",
            "Epoch 25/30\n",
            "1586/1586 [==============================] - 5s 3ms/step - loss: 0.2033 - accuracy: 0.9127 - val_loss: 0.2024 - val_accuracy: 0.9120\n",
            "Epoch 26/30\n",
            "1586/1586 [==============================] - 6s 4ms/step - loss: 0.2031 - accuracy: 0.9130 - val_loss: 0.2025 - val_accuracy: 0.9122\n",
            "Epoch 27/30\n",
            "1586/1586 [==============================] - 5s 3ms/step - loss: 0.2033 - accuracy: 0.9130 - val_loss: 0.2022 - val_accuracy: 0.9119\n",
            "Epoch 00027: early stopping\n"
          ]
        },
        {
          "output_type": "execute_result",
          "data": {
            "text/plain": [
              "<tensorflow.python.keras.callbacks.History at 0x24209e03250>"
            ]
          },
          "metadata": {},
          "execution_count": 81
        }
      ]
    },
    {
      "cell_type": "markdown",
      "metadata": {
        "id": "j8L0O6Ri2nVK"
      },
      "source": [
        "Summary"
      ]
    },
    {
      "cell_type": "code",
      "metadata": {
        "id": "swfmNmtW2lfH",
        "colab": {
          "base_uri": "https://localhost:8080/"
        },
        "outputId": "73e02aee-a894-4f9e-f45a-004c0ce0771f"
      },
      "source": [
        "model.summary()"
      ],
      "execution_count": null,
      "outputs": [
        {
          "output_type": "stream",
          "name": "stdout",
          "text": [
            "Model: \"sequential\"\n",
            "_________________________________________________________________\n",
            "Layer (type)                 Output Shape              Param #   \n",
            "=================================================================\n",
            "dense (Dense)                (None, 77)                6006      \n",
            "_________________________________________________________________\n",
            "dropout (Dropout)            (None, 77)                0         \n",
            "_________________________________________________________________\n",
            "dense_1 (Dense)              (None, 38)                2964      \n",
            "_________________________________________________________________\n",
            "dropout_1 (Dropout)          (None, 38)                0         \n",
            "_________________________________________________________________\n",
            "dense_2 (Dense)              (None, 19)                741       \n",
            "_________________________________________________________________\n",
            "dropout_2 (Dropout)          (None, 19)                0         \n",
            "_________________________________________________________________\n",
            "dense_3 (Dense)              (None, 1)                 20        \n",
            "=================================================================\n",
            "Total params: 9,731\n",
            "Trainable params: 9,731\n",
            "Non-trainable params: 0\n",
            "_________________________________________________________________\n"
          ]
        }
      ]
    },
    {
      "cell_type": "markdown",
      "metadata": {
        "id": "H8aZd27i1Fck"
      },
      "source": [
        "# **Evaluation**\n",
        "---\n",
        "\n",
        "- Predictions and Losses\n",
        "- Tensor Board\n",
        "- New Customer Loan Repayment Prediction"
      ]
    },
    {
      "cell_type": "markdown",
      "metadata": {
        "id": "bUuaIUWrjBZu"
      },
      "source": [
        "## Predictions and Losses"
      ]
    },
    {
      "cell_type": "code",
      "metadata": {
        "id": "NoTaU2sc1H3V",
        "colab": {
          "base_uri": "https://localhost:8080/",
          "height": 895
        },
        "outputId": "93be8ccd-6962-457e-9889-c5c4765f5abf"
      },
      "source": [
        "# New dataframe \"losses\" with model.history.history data\n",
        "losses = pd.DataFrame(model.history.history)\n",
        "losses"
      ],
      "execution_count": null,
      "outputs": [
        {
          "output_type": "execute_result",
          "data": {
            "text/plain": [
              "        loss  accuracy  val_loss  val_accuracy\n",
              "0   0.261644  0.894925  0.215662      0.909365\n",
              "1   0.219201  0.909727  0.209833      0.910304\n",
              "2   0.213618  0.910564  0.208033      0.910481\n",
              "3   0.211136  0.910961  0.206495      0.910814\n",
              "4   0.209497  0.911261  0.206160      0.910836\n",
              "5   0.208489  0.911648  0.205328      0.911168\n",
              "6   0.208087  0.911656  0.204879      0.911161\n",
              "7   0.207240  0.911865  0.204631      0.911191\n",
              "8   0.206784  0.911897  0.204177      0.911420\n",
              "9   0.206280  0.912072  0.203975      0.911457\n",
              "10  0.205727  0.912373  0.203498      0.911752\n",
              "11  0.205501  0.912461  0.203486      0.911531\n",
              "12  0.205659  0.912156  0.204039      0.911435\n",
              "13  0.205163  0.912205  0.203313      0.911893\n",
              "14  0.205140  0.912437  0.203265      0.911619\n",
              "15  0.204650  0.912599  0.203279      0.911693\n",
              "16  0.204694  0.912424  0.203118      0.911693\n",
              "17  0.204459  0.912562  0.203592      0.911523\n",
              "18  0.204326  0.912878  0.203392      0.911597\n",
              "19  0.204379  0.912634  0.202892      0.912041\n",
              "20  0.203914  0.912799  0.202963      0.911811\n",
              "21  0.203704  0.912624  0.202782      0.911974\n",
              "22  0.203600  0.912873  0.202294      0.912092\n",
              "23  0.203285  0.913082  0.202025      0.912321\n",
              "24  0.203291  0.912690  0.202390      0.912004\n",
              "25  0.203113  0.913023  0.202533      0.912188\n",
              "26  0.203348  0.912956  0.202230      0.911937"
            ],
            "text/html": [
              "<div>\n",
              "<style scoped>\n",
              "    .dataframe tbody tr th:only-of-type {\n",
              "        vertical-align: middle;\n",
              "    }\n",
              "\n",
              "    .dataframe tbody tr th {\n",
              "        vertical-align: top;\n",
              "    }\n",
              "\n",
              "    .dataframe thead th {\n",
              "        text-align: right;\n",
              "    }\n",
              "</style>\n",
              "<table border=\"1\" class=\"dataframe\">\n",
              "  <thead>\n",
              "    <tr style=\"text-align: right;\">\n",
              "      <th></th>\n",
              "      <th>loss</th>\n",
              "      <th>accuracy</th>\n",
              "      <th>val_loss</th>\n",
              "      <th>val_accuracy</th>\n",
              "    </tr>\n",
              "  </thead>\n",
              "  <tbody>\n",
              "    <tr>\n",
              "      <th>0</th>\n",
              "      <td>0.261644</td>\n",
              "      <td>0.894925</td>\n",
              "      <td>0.215662</td>\n",
              "      <td>0.909365</td>\n",
              "    </tr>\n",
              "    <tr>\n",
              "      <th>1</th>\n",
              "      <td>0.219201</td>\n",
              "      <td>0.909727</td>\n",
              "      <td>0.209833</td>\n",
              "      <td>0.910304</td>\n",
              "    </tr>\n",
              "    <tr>\n",
              "      <th>2</th>\n",
              "      <td>0.213618</td>\n",
              "      <td>0.910564</td>\n",
              "      <td>0.208033</td>\n",
              "      <td>0.910481</td>\n",
              "    </tr>\n",
              "    <tr>\n",
              "      <th>3</th>\n",
              "      <td>0.211136</td>\n",
              "      <td>0.910961</td>\n",
              "      <td>0.206495</td>\n",
              "      <td>0.910814</td>\n",
              "    </tr>\n",
              "    <tr>\n",
              "      <th>4</th>\n",
              "      <td>0.209497</td>\n",
              "      <td>0.911261</td>\n",
              "      <td>0.206160</td>\n",
              "      <td>0.910836</td>\n",
              "    </tr>\n",
              "    <tr>\n",
              "      <th>5</th>\n",
              "      <td>0.208489</td>\n",
              "      <td>0.911648</td>\n",
              "      <td>0.205328</td>\n",
              "      <td>0.911168</td>\n",
              "    </tr>\n",
              "    <tr>\n",
              "      <th>6</th>\n",
              "      <td>0.208087</td>\n",
              "      <td>0.911656</td>\n",
              "      <td>0.204879</td>\n",
              "      <td>0.911161</td>\n",
              "    </tr>\n",
              "    <tr>\n",
              "      <th>7</th>\n",
              "      <td>0.207240</td>\n",
              "      <td>0.911865</td>\n",
              "      <td>0.204631</td>\n",
              "      <td>0.911191</td>\n",
              "    </tr>\n",
              "    <tr>\n",
              "      <th>8</th>\n",
              "      <td>0.206784</td>\n",
              "      <td>0.911897</td>\n",
              "      <td>0.204177</td>\n",
              "      <td>0.911420</td>\n",
              "    </tr>\n",
              "    <tr>\n",
              "      <th>9</th>\n",
              "      <td>0.206280</td>\n",
              "      <td>0.912072</td>\n",
              "      <td>0.203975</td>\n",
              "      <td>0.911457</td>\n",
              "    </tr>\n",
              "    <tr>\n",
              "      <th>10</th>\n",
              "      <td>0.205727</td>\n",
              "      <td>0.912373</td>\n",
              "      <td>0.203498</td>\n",
              "      <td>0.911752</td>\n",
              "    </tr>\n",
              "    <tr>\n",
              "      <th>11</th>\n",
              "      <td>0.205501</td>\n",
              "      <td>0.912461</td>\n",
              "      <td>0.203486</td>\n",
              "      <td>0.911531</td>\n",
              "    </tr>\n",
              "    <tr>\n",
              "      <th>12</th>\n",
              "      <td>0.205659</td>\n",
              "      <td>0.912156</td>\n",
              "      <td>0.204039</td>\n",
              "      <td>0.911435</td>\n",
              "    </tr>\n",
              "    <tr>\n",
              "      <th>13</th>\n",
              "      <td>0.205163</td>\n",
              "      <td>0.912205</td>\n",
              "      <td>0.203313</td>\n",
              "      <td>0.911893</td>\n",
              "    </tr>\n",
              "    <tr>\n",
              "      <th>14</th>\n",
              "      <td>0.205140</td>\n",
              "      <td>0.912437</td>\n",
              "      <td>0.203265</td>\n",
              "      <td>0.911619</td>\n",
              "    </tr>\n",
              "    <tr>\n",
              "      <th>15</th>\n",
              "      <td>0.204650</td>\n",
              "      <td>0.912599</td>\n",
              "      <td>0.203279</td>\n",
              "      <td>0.911693</td>\n",
              "    </tr>\n",
              "    <tr>\n",
              "      <th>16</th>\n",
              "      <td>0.204694</td>\n",
              "      <td>0.912424</td>\n",
              "      <td>0.203118</td>\n",
              "      <td>0.911693</td>\n",
              "    </tr>\n",
              "    <tr>\n",
              "      <th>17</th>\n",
              "      <td>0.204459</td>\n",
              "      <td>0.912562</td>\n",
              "      <td>0.203592</td>\n",
              "      <td>0.911523</td>\n",
              "    </tr>\n",
              "    <tr>\n",
              "      <th>18</th>\n",
              "      <td>0.204326</td>\n",
              "      <td>0.912878</td>\n",
              "      <td>0.203392</td>\n",
              "      <td>0.911597</td>\n",
              "    </tr>\n",
              "    <tr>\n",
              "      <th>19</th>\n",
              "      <td>0.204379</td>\n",
              "      <td>0.912634</td>\n",
              "      <td>0.202892</td>\n",
              "      <td>0.912041</td>\n",
              "    </tr>\n",
              "    <tr>\n",
              "      <th>20</th>\n",
              "      <td>0.203914</td>\n",
              "      <td>0.912799</td>\n",
              "      <td>0.202963</td>\n",
              "      <td>0.911811</td>\n",
              "    </tr>\n",
              "    <tr>\n",
              "      <th>21</th>\n",
              "      <td>0.203704</td>\n",
              "      <td>0.912624</td>\n",
              "      <td>0.202782</td>\n",
              "      <td>0.911974</td>\n",
              "    </tr>\n",
              "    <tr>\n",
              "      <th>22</th>\n",
              "      <td>0.203600</td>\n",
              "      <td>0.912873</td>\n",
              "      <td>0.202294</td>\n",
              "      <td>0.912092</td>\n",
              "    </tr>\n",
              "    <tr>\n",
              "      <th>23</th>\n",
              "      <td>0.203285</td>\n",
              "      <td>0.913082</td>\n",
              "      <td>0.202025</td>\n",
              "      <td>0.912321</td>\n",
              "    </tr>\n",
              "    <tr>\n",
              "      <th>24</th>\n",
              "      <td>0.203291</td>\n",
              "      <td>0.912690</td>\n",
              "      <td>0.202390</td>\n",
              "      <td>0.912004</td>\n",
              "    </tr>\n",
              "    <tr>\n",
              "      <th>25</th>\n",
              "      <td>0.203113</td>\n",
              "      <td>0.913023</td>\n",
              "      <td>0.202533</td>\n",
              "      <td>0.912188</td>\n",
              "    </tr>\n",
              "    <tr>\n",
              "      <th>26</th>\n",
              "      <td>0.203348</td>\n",
              "      <td>0.912956</td>\n",
              "      <td>0.202230</td>\n",
              "      <td>0.911937</td>\n",
              "    </tr>\n",
              "  </tbody>\n",
              "</table>\n",
              "</div>"
            ]
          },
          "metadata": {},
          "execution_count": 83
        }
      ]
    },
    {
      "cell_type": "code",
      "metadata": {
        "id": "DK9G6fk63Ec7",
        "colab": {
          "base_uri": "https://localhost:8080/",
          "height": 499
        },
        "outputId": "36b44bed-ce09-418b-940a-529dca9d614e"
      },
      "source": [
        "# Plot training loss v/s validation loss\n",
        "losses[['loss','val_loss']].plot()\n"
      ],
      "execution_count": null,
      "outputs": [
        {
          "output_type": "execute_result",
          "data": {
            "text/plain": [
              "<AxesSubplot:>"
            ]
          },
          "metadata": {},
          "execution_count": 84
        },
        {
          "output_type": "display_data",
          "data": {
            "text/plain": [
              "<Figure size 864x576 with 1 Axes>"
            ],
            "image/png": "[encoded data removed]"
          },
          "metadata": {}
        }
      ]
    },
    {
      "cell_type": "code",
      "metadata": {
        "id": "fdg9g97n3JSn",
        "colab": {
          "base_uri": "https://localhost:8080/",
          "height": 499
        },
        "outputId": "d3dfbbb8-8b3f-408e-e0cb-5813b6f2794b"
      },
      "source": [
        "# Plot training accuracy v/s validation accuracy\n",
        "losses[['accuracy','val_accuracy']].plot()"
      ],
      "execution_count": null,
      "outputs": [
        {
          "output_type": "execute_result",
          "data": {
            "text/plain": [
              "<AxesSubplot:>"
            ]
          },
          "metadata": {},
          "execution_count": 85
        },
        {
          "output_type": "display_data",
          "data": {
            "text/plain": [
              "<Figure size 864x576 with 1 Axes>"
            ],
            "image/png": "[encoded data removed]"
          },
          "metadata": {}
        }
      ]
    },
    {
      "cell_type": "code",
      "metadata": {
        "id": "KNY-rj69X0F5",
        "colab": {
          "base_uri": "https://localhost:8080/"
        },
        "outputId": "64449996-bf89-42f8-8bde-e469dd2490c5"
      },
      "source": [
        "# Predictions on test set\n",
        "y_pred_ann = model.predict_classes(X_test_sca)\n",
        "\n",
        "print('\\nClassification Report: ')\n",
        "print(classification_report(y_test1,y_pred_ann))\n",
        "print('\\nConfusion Matrix: ')\n",
        "print(confusion_matrix(y_test1,y_pred_ann))\n",
        "f1 = f1_score(y_test1,y_pred_ann, labels=None, average='binary', sample_weight=None, zero_division='warn')\n"
      ],
      "execution_count": null,
      "outputs": [
        {
          "output_type": "stream",
          "name": "stdout",
          "text": [
            "\n",
            "Classification Report: \n",
            "              precision    recall  f1-score   support\n",
            "\n",
            "           0       0.99      0.79      0.88     55997\n",
            "           1       0.87      1.00      0.93     79304\n",
            "\n",
            "    accuracy                           0.91    135301\n",
            "   macro avg       0.93      0.89      0.91    135301\n",
            "weighted avg       0.92      0.91      0.91    135301\n",
            "\n",
            "\n",
            "Confusion Matrix: \n",
            "[[44336 11661]\n",
            " [  254 79050]]\n"
          ]
        }
      ]
    },
    {
      "cell_type": "code",
      "source": [
        "print('\\nf1_score: ', round(f1,2))"
      ],
      "metadata": {
        "colab": {
          "base_uri": "https://localhost:8080/"
        },
        "id": "b4t3lqv--nVN",
        "outputId": "8e483519-11e4-4a15-ab77-e2d83d37ffcc"
      },
      "execution_count": null,
      "outputs": [
        {
          "output_type": "stream",
          "name": "stdout",
          "text": [
            "\n",
            "f1_score:  0.93\n"
          ]
        }
      ]
    },
    {
      "cell_type": "markdown",
      "source": [
        "Satisfied with achieved accuracy."
      ],
      "metadata": {
        "id": "coh3D7iq4rng"
      }
    },
    {
      "cell_type": "markdown",
      "metadata": {
        "id": "YUzO0DOA431b"
      },
      "source": [
        "## New Customer Loan Repayment Prediction"
      ]
    },
    {
      "cell_type": "code",
      "metadata": {
        "id": "ro6ztANwXvuz",
        "colab": {
          "base_uri": "https://localhost:8080/"
        },
        "outputId": "febcf08f-b6af-4f65-ff5b-05a740c5fa95"
      },
      "source": [
        "# Training the NN on the whole dataset (X and y) to have it ready for inference.\n",
        "\n",
        "X_sca = scaler.fit_transform(X_os)\n",
        "\n",
        "# Creating final model\n",
        "final_model = Sequential()\n",
        "# Input layer\n",
        "final_model.add(Dense(77, activation='relu', kernel_constraint=max_norm(3)))\n",
        "final_model.add(Dropout(0.3))\n",
        "# Hidden layers\n",
        "final_model.add(Dense(38, activation='relu', kernel_constraint=max_norm(3)))\n",
        "final_model.add(Dropout(0.2))\n",
        "final_model.add(Dense(19, activation='relu', kernel_constraint=max_norm(3)))\n",
        "final_model.add(Dropout(0.2))\n",
        "# Output layer\n",
        "final_model.add(Dense(1, activation='sigmoid'))\n",
        "\n",
        "# Compile the created model\n",
        "final_model.compile(optimizer='adam', loss='binary_crossentropy', metrics=['accuracy'])\n",
        "\n",
        "# Fit the model\n",
        "final_model.fit(X_sca, y_os, batch_size=256, epochs=10)"
      ],
      "execution_count": null,
      "outputs": [
        {
          "output_type": "stream",
          "name": "stdout",
          "text": [
            "Epoch 1/10\n",
            "2115/2115 [==============================] - 7s 3ms/step - loss: 0.2543 - accuracy: 0.8968\n",
            "Epoch 2/10\n",
            "2115/2115 [==============================] - 6s 3ms/step - loss: 0.2154 - accuracy: 0.9101\n",
            "Epoch 3/10\n",
            "2115/2115 [==============================] - 6s 3ms/step - loss: 0.2108 - accuracy: 0.9110\n",
            "Epoch 4/10\n",
            "2115/2115 [==============================] - 6s 3ms/step - loss: 0.2091 - accuracy: 0.9112\n",
            "Epoch 5/10\n",
            "2115/2115 [==============================] - 6s 3ms/step - loss: 0.2081 - accuracy: 0.9116\n",
            "Epoch 6/10\n",
            "2115/2115 [==============================] - 6s 3ms/step - loss: 0.2074 - accuracy: 0.9116\n",
            "Epoch 7/10\n",
            "2115/2115 [==============================] - 6s 3ms/step - loss: 0.2067 - accuracy: 0.9119\n",
            "Epoch 8/10\n",
            "2115/2115 [==============================] - 6s 3ms/step - loss: 0.2064 - accuracy: 0.9118\n",
            "Epoch 9/10\n",
            "2115/2115 [==============================] - 6s 3ms/step - loss: 0.2059 - accuracy: 0.9119\n",
            "Epoch 10/10\n",
            "2115/2115 [==============================] - 6s 3ms/step - loss: 0.2055 - accuracy: 0.9122\n"
          ]
        },
        {
          "output_type": "execute_result",
          "data": {
            "text/plain": [
              "<tensorflow.python.keras.callbacks.History at 0x242a77db0a0>"
            ]
          },
          "metadata": {},
          "execution_count": 91
        }
      ]
    },
    {
      "cell_type": "markdown",
      "metadata": {
        "id": "tjXjMgPk1ALJ"
      },
      "source": [
        "Saving the Trained Model"
      ]
    },
    {
      "cell_type": "code",
      "metadata": {
        "id": "sYFBJ8Vr0WTz"
      },
      "source": [
        "# save the model\n",
        "final_model.save('loan_approval_model.h5')  \n",
        "# save the scaler\n",
        "dump(scaler, open('scaler.pkl', 'wb'))"
      ],
      "execution_count": null,
      "outputs": []
    },
    {
      "cell_type": "code",
      "metadata": {
        "id": "7CdWXbW745ci"
      },
      "source": [
        "# Function \"assess_customer\"\n",
        "def assess_customer(cust):\n",
        "\n",
        "  '''\n",
        "  Take new customer and reshape the values to shape that model was trained on. (1,77)\n",
        "  Transform the new customer attributes using same MinMaxScaler object\n",
        "  return the output based on predicted class.\n",
        "  '''\n",
        "\n",
        "  cust = cust.values.reshape(1,77)\n",
        "  cust_sca = scaler.transform(cust)\n",
        "\n",
        "  if final_model.predict_classes(cust_sca)==1:\n",
        "    print (\"Customer is likely to pay back the loan \\nLoan can be approved\")\n",
        "  else:\n",
        "    print (\"Customer is not likely to pay back the loan \\nLoan can't be approved\")"
      ],
      "execution_count": null,
      "outputs": []
    },
    {
      "cell_type": "code",
      "metadata": {
        "id": "6kbZBRTN6BOv",
        "colab": {
          "base_uri": "https://localhost:8080/"
        },
        "outputId": "1f81d07c-566e-4a84-cae9-28e60ee22bfd"
      },
      "source": [
        "# Model predicted\n",
        "for i in range(len(new_cust)):\n",
        "  assess_customer(new_cust.iloc[i].drop('loan_repaid'))"
      ],
      "execution_count": null,
      "outputs": [
        {
          "output_type": "stream",
          "name": "stdout",
          "text": [
            "Customer is likely to pay back the loan \n",
            "Loan can be approved\n",
            "Customer is likely to pay back the loan \n",
            "Loan can be approved\n",
            "Customer is not likely to pay back the loan \n",
            "Loan can't be approved\n"
          ]
        }
      ]
    },
    {
      "cell_type": "code",
      "metadata": {
        "id": "EXf5u1IFFISC",
        "colab": {
          "base_uri": "https://localhost:8080/"
        },
        "outputId": "bc13c997-b46e-4bd1-c75e-2221742336f6"
      },
      "source": [
        "# Actual\n",
        "new_cust['loan_repaid']"
      ],
      "execution_count": null,
      "outputs": [
        {
          "output_type": "execute_result",
          "data": {
            "text/plain": [
              "396027    1\n",
              "396028    1\n",
              "396029    1\n",
              "Name: loan_repaid, dtype: int64"
            ]
          },
          "metadata": {},
          "execution_count": 173
        }
      ]
    },
    {
      "cell_type": "markdown",
      "source": [],
      "metadata": {
        "id": "PpIH-JCv8Hq9"
      }
    },
    {
      "cell_type": "markdown",
      "source": [
        "# Inference function for Web App"
      ],
      "metadata": {
        "id": "PhP3xmb68JBg"
      }
    },
    {
      "cell_type": "code",
      "source": [
        "def access_customer_new(new_cust):\n",
        "\n",
        "  features = np.array([[request.form['loan_amount'], request.form['term'], request.form['int_rate'], request.form['sub_grade'],\n",
        "                        request.form['home_ownership'], request.form['annual_inc'], request.form['verification_status'], request.form['purpose'], \n",
        "                        request.form['dti'], request.form['open_acc'], request.form['pub_rec'], request.form['revol_bal'],\n",
        "                        request.form['revol_util'], request.form['total_acc'], request.form['initial_list_status'], request.form['application_type'], \n",
        "                        request.form['mort_acc'], request.form['pub_rec_bankruptcies'], request.form['earliest_cr_year'], request.form['zip_code']\n",
        "                        ]])\n",
        "  \n",
        "  cols = ['loan_amnt', 'term', 'int_rate', 'sub_grade', 'home_ownership',\n",
        "            'annual_inc', 'verification_status', 'purpose', 'dti', 'open_acc',\n",
        "            'pub_rec', 'revol_bal', 'revol_util', 'total_acc',\n",
        "            'initial_list_status', 'application_type', 'mort_acc',\n",
        "            'pub_rec_bankruptcies', 'earliest_cr_year', 'zip_code']\n",
        "  cat_col = ['sub_grade', 'home_ownership', 'verification_status', 'purpose', 'initial_list_status', 'application_type', 'zip_code']\n",
        "\n",
        "  new_cust = pd.DataFrame(features, columns = cols)\n",
        "  print(new_cust)\n",
        "\n",
        "  dummy = pd.get_dummies(new_cust[cat_col], drop_first=True)\n",
        "  new_cust = pd.concat([new_cust,dummy],axis=1).drop(cat_col,axis=1)\n",
        "  new_cust = new_cust.reset_index(drop=True)\n",
        "\n",
        "  df1 = pd.read_csv('/content/df1.csv', index_col=0).drop('loan_repaid', axis=1)\n",
        "  df1, new_cust = df1.align(new_cust, axis=1, fill_value=0)\n",
        "  df1_cols = df1.columns.values\n",
        "  \n",
        "  new_cust = new_cust[df1_cols]\n",
        "\n",
        "  new_cust = new_cust.values.reshape(1,77)\n",
        "  new_cust_sca = scaler.transform(new_cust)\n",
        "\n",
        "  pred = final_model.predict_classes(new_cust_sca)\n",
        "  \n",
        "  if pred>=0.5:\n",
        "    print (\"Customer is likely to pay back the loan \\nLoan can be approved\")\n",
        "  else:\n",
        "    print (\"Customer is not likely to pay back the loan \\nLoan can't be approved\")\n"
      ],
      "metadata": {
        "id": "TniftZe1pgrf"
      },
      "execution_count": null,
      "outputs": []
    }
  ]
}