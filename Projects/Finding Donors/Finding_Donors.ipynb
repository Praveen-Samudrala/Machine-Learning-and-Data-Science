{
  "cells": [
    {
      "cell_type": "markdown",
      "metadata": {
        "id": "KypuYs3ClVyC"
      },
      "source": [
        "# Project: Finding Donors for a non-profit organization."
      ]
    },
    {
      "cell_type": "markdown",
      "metadata": {
        "id": "6nbdWqU4lVyK"
      },
      "source": [
        "## **Problem Statement**:\n",
        "\n",
        "Predict whether a candidate's income exceeds USD 50K/yr based on census data. This helps target candidates to reach out and request donation for a non-profit organization.\n",
        "\n",
        "**Dataset used**:  \n",
        "The dataset for this project originates from the [UCI Machine Learning Repository](https://archive.ics.uci.edu/ml/datasets/Census+Income)."
      ]
    },
    {
      "cell_type": "markdown",
      "source": [
        "## Project Planning:\n",
        "\n",
        "1. Dataset Exploration and Null Hypothesis\n",
        "2. Data PreProcessing\n",
        "  * Handling Null Values\n",
        "  * Handling Skewed Data\n",
        "  * Feature Scaling\n",
        "  * Encoding Categorical Features\n",
        "3. Model Building\n",
        "  * Dataset split into Train and Test sets\n",
        "  * Naive Predictor's Performance\n",
        "  * Choosing the Supervised Learning models\n",
        "  * Fine tuning the high performance model using GridSearchCV\n",
        "\n",
        "4. Analysis and Improvement\n",
        "  * Analyzing the performance and identifying the most important features to challange Null Hypothesis.\n",
        "  * Improving the model using the important features only.\n"
      ],
      "metadata": {
        "id": "-WgM5ttRuB19"
      }
    },
    {
      "cell_type": "markdown",
      "source": [
        "### Imports\n",
        "\n"
      ],
      "metadata": {
        "id": "xS7fTNJFvZmf"
      }
    },
    {
      "cell_type": "code",
      "source": [
        "from google.colab import drive\n",
        "drive.mount('/content/drive')"
      ],
      "metadata": {
        "colab": {
          "base_uri": "https://localhost:8080/"
        },
        "id": "6_CD4Oe1lBN0",
        "outputId": "f74d8ce6-2473-4d88-cdfe-0f71970ebe74"
      },
      "execution_count": 89,
      "outputs": [
        {
          "output_type": "stream",
          "name": "stdout",
          "text": [
            "Drive already mounted at /content/drive; to attempt to forcibly remount, call drive.mount(\"/content/drive\", force_remount=True).\n"
          ]
        }
      ]
    },
    {
      "cell_type": "code",
      "source": [
        "import numpy as np\n",
        "import pandas as pd\n",
        "from sklearn.preprocessing import MinMaxScaler\n",
        "from sklearn.model_selection import GridSearchCV, train_test_split\n",
        "from sklearn.metrics import fbeta_score, accuracy_score, make_scorer\n",
        "import matplotlib.pyplot as pl\n",
        "import matplotlib.patches as mpatches\n",
        "\n",
        "from sklearn.linear_model import LogisticRegression\n",
        "from sklearn.ensemble import RandomForestClassifier, AdaBoostClassifier, GradientBoostingClassifier\n",
        "from sklearn.tree import DecisionTreeClassifier\n",
        "from sklearn.svm import SVC\n",
        "\n",
        "from time import time\n",
        "from IPython.core.interactiveshell import InteractiveShell\n",
        "InteractiveShell.ast_node_interactivity = 'all'\n",
        "\n",
        "import visuals as vs\n",
        "\n",
        "%matplotlib inline"
      ],
      "metadata": {
        "id": "pGReHEd4vYiQ"
      },
      "execution_count": 90,
      "outputs": []
    },
    {
      "cell_type": "markdown",
      "source": [
        "----\n",
        "## Step 1: Dataset Exploration and Null Hypothesis\n",
        "  * 1.1 Data Exploration\n",
        "  * 1.2 Null Hypothesis"
      ],
      "metadata": {
        "id": "FiV9EYJ-uu_-"
      }
    },
    {
      "cell_type": "markdown",
      "metadata": {
        "id": "wxmZLGeFlVyL"
      },
      "source": [
        "### Step 1.1: Data Exploration\n"
      ]
    },
    {
      "cell_type": "code",
      "execution_count": 91,
      "metadata": {
        "id": "Ia-mygRhlVyM",
        "outputId": "4d7c209b-fc61-4e81-95a0-24e6a15ce2d2",
        "colab": {
          "base_uri": "https://localhost:8080/",
          "height": 354
        }
      },
      "outputs": [
        {
          "output_type": "execute_result",
          "data": {
            "text/plain": [
              "   age          workclass education_level  education-num       marital-status  \\\n",
              "0   39          State-gov       Bachelors           13.0        Never-married   \n",
              "1   50   Self-emp-not-inc       Bachelors           13.0   Married-civ-spouse   \n",
              "2   38            Private         HS-grad            9.0             Divorced   \n",
              "3   53            Private            11th            7.0   Married-civ-spouse   \n",
              "4   28            Private       Bachelors           13.0   Married-civ-spouse   \n",
              "\n",
              "           occupation    relationship    race      sex  capital-gain  \\\n",
              "0        Adm-clerical   Not-in-family   White     Male        2174.0   \n",
              "1     Exec-managerial         Husband   White     Male           0.0   \n",
              "2   Handlers-cleaners   Not-in-family   White     Male           0.0   \n",
              "3   Handlers-cleaners         Husband   Black     Male           0.0   \n",
              "4      Prof-specialty            Wife   Black   Female           0.0   \n",
              "\n",
              "   capital-loss  hours-per-week  native-country income  \n",
              "0           0.0            40.0   United-States  <=50K  \n",
              "1           0.0            13.0   United-States  <=50K  \n",
              "2           0.0            40.0   United-States  <=50K  \n",
              "3           0.0            40.0   United-States  <=50K  \n",
              "4           0.0            40.0            Cuba  <=50K  "
            ],
            "text/html": [
              "\n",
              "  <div id=\"df-c658aa91-96e8-4ad8-9210-40ab5a5a3fd5\">\n",
              "    <div class=\"colab-df-container\">\n",
              "      <div>\n",
              "<style scoped>\n",
              "    .dataframe tbody tr th:only-of-type {\n",
              "        vertical-align: middle;\n",
              "    }\n",
              "\n",
              "    .dataframe tbody tr th {\n",
              "        vertical-align: top;\n",
              "    }\n",
              "\n",
              "    .dataframe thead th {\n",
              "        text-align: right;\n",
              "    }\n",
              "</style>\n",
              "<table border=\"1\" class=\"dataframe\">\n",
              "  <thead>\n",
              "    <tr style=\"text-align: right;\">\n",
              "      <th></th>\n",
              "      <th>age</th>\n",
              "      <th>workclass</th>\n",
              "      <th>education_level</th>\n",
              "      <th>education-num</th>\n",
              "      <th>marital-status</th>\n",
              "      <th>occupation</th>\n",
              "      <th>relationship</th>\n",
              "      <th>race</th>\n",
              "      <th>sex</th>\n",
              "      <th>capital-gain</th>\n",
              "      <th>capital-loss</th>\n",
              "      <th>hours-per-week</th>\n",
              "      <th>native-country</th>\n",
              "      <th>income</th>\n",
              "    </tr>\n",
              "  </thead>\n",
              "  <tbody>\n",
              "    <tr>\n",
              "      <th>0</th>\n",
              "      <td>39</td>\n",
              "      <td>State-gov</td>\n",
              "      <td>Bachelors</td>\n",
              "      <td>13.0</td>\n",
              "      <td>Never-married</td>\n",
              "      <td>Adm-clerical</td>\n",
              "      <td>Not-in-family</td>\n",
              "      <td>White</td>\n",
              "      <td>Male</td>\n",
              "      <td>2174.0</td>\n",
              "      <td>0.0</td>\n",
              "      <td>40.0</td>\n",
              "      <td>United-States</td>\n",
              "      <td>&lt;=50K</td>\n",
              "    </tr>\n",
              "    <tr>\n",
              "      <th>1</th>\n",
              "      <td>50</td>\n",
              "      <td>Self-emp-not-inc</td>\n",
              "      <td>Bachelors</td>\n",
              "      <td>13.0</td>\n",
              "      <td>Married-civ-spouse</td>\n",
              "      <td>Exec-managerial</td>\n",
              "      <td>Husband</td>\n",
              "      <td>White</td>\n",
              "      <td>Male</td>\n",
              "      <td>0.0</td>\n",
              "      <td>0.0</td>\n",
              "      <td>13.0</td>\n",
              "      <td>United-States</td>\n",
              "      <td>&lt;=50K</td>\n",
              "    </tr>\n",
              "    <tr>\n",
              "      <th>2</th>\n",
              "      <td>38</td>\n",
              "      <td>Private</td>\n",
              "      <td>HS-grad</td>\n",
              "      <td>9.0</td>\n",
              "      <td>Divorced</td>\n",
              "      <td>Handlers-cleaners</td>\n",
              "      <td>Not-in-family</td>\n",
              "      <td>White</td>\n",
              "      <td>Male</td>\n",
              "      <td>0.0</td>\n",
              "      <td>0.0</td>\n",
              "      <td>40.0</td>\n",
              "      <td>United-States</td>\n",
              "      <td>&lt;=50K</td>\n",
              "    </tr>\n",
              "    <tr>\n",
              "      <th>3</th>\n",
              "      <td>53</td>\n",
              "      <td>Private</td>\n",
              "      <td>11th</td>\n",
              "      <td>7.0</td>\n",
              "      <td>Married-civ-spouse</td>\n",
              "      <td>Handlers-cleaners</td>\n",
              "      <td>Husband</td>\n",
              "      <td>Black</td>\n",
              "      <td>Male</td>\n",
              "      <td>0.0</td>\n",
              "      <td>0.0</td>\n",
              "      <td>40.0</td>\n",
              "      <td>United-States</td>\n",
              "      <td>&lt;=50K</td>\n",
              "    </tr>\n",
              "    <tr>\n",
              "      <th>4</th>\n",
              "      <td>28</td>\n",
              "      <td>Private</td>\n",
              "      <td>Bachelors</td>\n",
              "      <td>13.0</td>\n",
              "      <td>Married-civ-spouse</td>\n",
              "      <td>Prof-specialty</td>\n",
              "      <td>Wife</td>\n",
              "      <td>Black</td>\n",
              "      <td>Female</td>\n",
              "      <td>0.0</td>\n",
              "      <td>0.0</td>\n",
              "      <td>40.0</td>\n",
              "      <td>Cuba</td>\n",
              "      <td>&lt;=50K</td>\n",
              "    </tr>\n",
              "  </tbody>\n",
              "</table>\n",
              "</div>\n",
              "      <button class=\"colab-df-convert\" onclick=\"convertToInteractive('df-c658aa91-96e8-4ad8-9210-40ab5a5a3fd5')\"\n",
              "              title=\"Convert this dataframe to an interactive table.\"\n",
              "              style=\"display:none;\">\n",
              "        \n",
              "  <svg xmlns=\"http://www.w3.org/2000/svg\" height=\"24px\"viewBox=\"0 0 24 24\"\n",
              "       width=\"24px\">\n",
              "    <path d=\"M0 0h24v24H0V0z\" fill=\"none\"/>\n",
              "    <path d=\"M18.56 5.44l.94 2.06.94-2.06 2.06-.94-2.06-.94-.94-2.06-.94 2.06-2.06.94zm-11 1L8.5 8.5l.94-2.06 2.06-.94-2.06-.94L8.5 2.5l-.94 2.06-2.06.94zm10 10l.94 2.06.94-2.06 2.06-.94-2.06-.94-.94-2.06-.94 2.06-2.06.94z\"/><path d=\"M17.41 7.96l-1.37-1.37c-.4-.4-.92-.59-1.43-.59-.52 0-1.04.2-1.43.59L10.3 9.45l-7.72 7.72c-.78.78-.78 2.05 0 2.83L4 21.41c.39.39.9.59 1.41.59.51 0 1.02-.2 1.41-.59l7.78-7.78 2.81-2.81c.8-.78.8-2.07 0-2.86zM5.41 20L4 18.59l7.72-7.72 1.47 1.35L5.41 20z\"/>\n",
              "  </svg>\n",
              "      </button>\n",
              "      \n",
              "  <style>\n",
              "    .colab-df-container {\n",
              "      display:flex;\n",
              "      flex-wrap:wrap;\n",
              "      gap: 12px;\n",
              "    }\n",
              "\n",
              "    .colab-df-convert {\n",
              "      background-color: #E8F0FE;\n",
              "      border: none;\n",
              "      border-radius: 50%;\n",
              "      cursor: pointer;\n",
              "      display: none;\n",
              "      fill: #1967D2;\n",
              "      height: 32px;\n",
              "      padding: 0 0 0 0;\n",
              "      width: 32px;\n",
              "    }\n",
              "\n",
              "    .colab-df-convert:hover {\n",
              "      background-color: #E2EBFA;\n",
              "      box-shadow: 0px 1px 2px rgba(60, 64, 67, 0.3), 0px 1px 3px 1px rgba(60, 64, 67, 0.15);\n",
              "      fill: #174EA6;\n",
              "    }\n",
              "\n",
              "    [theme=dark] .colab-df-convert {\n",
              "      background-color: #3B4455;\n",
              "      fill: #D2E3FC;\n",
              "    }\n",
              "\n",
              "    [theme=dark] .colab-df-convert:hover {\n",
              "      background-color: #434B5C;\n",
              "      box-shadow: 0px 1px 3px 1px rgba(0, 0, 0, 0.15);\n",
              "      filter: drop-shadow(0px 1px 2px rgba(0, 0, 0, 0.3));\n",
              "      fill: #FFFFFF;\n",
              "    }\n",
              "  </style>\n",
              "\n",
              "      <script>\n",
              "        const buttonEl =\n",
              "          document.querySelector('#df-c658aa91-96e8-4ad8-9210-40ab5a5a3fd5 button.colab-df-convert');\n",
              "        buttonEl.style.display =\n",
              "          google.colab.kernel.accessAllowed ? 'block' : 'none';\n",
              "\n",
              "        async function convertToInteractive(key) {\n",
              "          const element = document.querySelector('#df-c658aa91-96e8-4ad8-9210-40ab5a5a3fd5');\n",
              "          const dataTable =\n",
              "            await google.colab.kernel.invokeFunction('convertToInteractive',\n",
              "                                                     [key], {});\n",
              "          if (!dataTable) return;\n",
              "\n",
              "          const docLinkHtml = 'Like what you see? Visit the ' +\n",
              "            '<a target=\"_blank\" href=https://colab.research.google.com/notebooks/data_table.ipynb>data table notebook</a>'\n",
              "            + ' to learn more about interactive tables.';\n",
              "          element.innerHTML = '';\n",
              "          dataTable['output_type'] = 'display_data';\n",
              "          await google.colab.output.renderOutput(dataTable, element);\n",
              "          const docLink = document.createElement('div');\n",
              "          docLink.innerHTML = docLinkHtml;\n",
              "          element.appendChild(docLink);\n",
              "        }\n",
              "      </script>\n",
              "    </div>\n",
              "  </div>\n",
              "  "
            ]
          },
          "metadata": {},
          "execution_count": 91
        },
        {
          "output_type": "execute_result",
          "data": {
            "text/plain": [
              "(45222, 14)"
            ]
          },
          "metadata": {},
          "execution_count": 91
        }
      ],
      "source": [
        "# Load the Census dataset\n",
        "data = pd.read_csv(r'/content/drive/MyDrive/Udacity Projects/Charity ML/census.csv')\n",
        "\n",
        "data.head()\n",
        "data.shape"
      ]
    },
    {
      "cell_type": "markdown",
      "metadata": {
        "id": "q9PiurJMlVyW"
      },
      "source": [
        "From the dataset, we can oberve the following about the types of features available.\n",
        "\n",
        "Continuous Varaibles:\n",
        "1. Age\n",
        "2. education-num\n",
        "3. capital-gain\n",
        "4. capital-loss\n",
        "5. hours-per-week\n",
        "\n",
        "Categorical Variables:\n",
        "1. workclass (8 unique values)\n",
        "2. education (16 unique values)\n",
        "3. marital-status (7 unique values)\n",
        "4. occupation (14 unique values\n",
        "5. relationship (6 unique values)\n",
        "6. race (5 unique values)\n",
        "7. sex (Binary - Male, Female)\n",
        "8. native-country (42 unique values)\n",
        "\n",
        "Target Variable:\n",
        "  * income (Binary - <=50K, >50k)\n"
      ]
    },
    {
      "cell_type": "code",
      "execution_count": 92,
      "metadata": {
        "scrolled": true,
        "id": "5yAdcBvolVyU",
        "outputId": "c5e7d74e-c3bd-4354-e952-c92026358674",
        "colab": {
          "base_uri": "https://localhost:8080/"
        }
      },
      "outputs": [
        {
          "output_type": "stream",
          "name": "stdout",
          "text": [
            "Total number of records: 45222\n",
            "Individuals making more than $50,000: 11208\n",
            "Individuals making at most $50,000: 34014\n",
            "Percentage of individuals making more than $50,000: 24.8%\n"
          ]
        }
      ],
      "source": [
        "n_records = data.shape[0]\n",
        "\n",
        "n_greater_50k = data[data['income']=='>50K'].shape[0]\n",
        "\n",
        "n_at_most_50k = data[data['income']=='<=50K'].shape[0]\n",
        "\n",
        "greater_percent = (n_greater_50k *100)/n_records\n",
        "\n",
        "# Print the results\n",
        "print(\"Total number of records: {}\".format(n_records))\n",
        "print(\"Individuals making more than $50,000: {}\".format(n_greater_50k))\n",
        "print(\"Individuals making at most $50,000: {}\".format(n_at_most_50k))\n",
        "print(\"Percentage of individuals making more than $50,000: {}%\".format(round(greater_percent,3)))"
      ]
    },
    {
      "cell_type": "markdown",
      "source": [
        "### Step 1.2: Null Hypothesis\n",
        "\n",
        "Hypothesizing that the following 5 features are important for classifying the income of the candidate:  \n",
        "#### 1. Capital Gain\n",
        "#### 2. Capital Loss\n",
        "#### 3. Occupation\n",
        "#### 4. Education\n",
        "#### 5. Country\n",
        "\n",
        "#### **Why?**\n",
        "- Higher the capital gain from their business, higher the money people get which might be responsible for income > 50k.\n",
        "- Similarly, more the capital loss, less likely to have income <50k.\n",
        "- Occupation including managerial positions generally get paid more.\n",
        "- Highly educated people mostly end up in highly paid jobs.\n",
        "- Salary varies country by country where demand is higher. For exapmle, people working in US might get paid more than a person working in India for the same job role/occupation."
      ],
      "metadata": {
        "id": "AKGseYLs1zRC"
      }
    },
    {
      "cell_type": "markdown",
      "metadata": {
        "id": "kj7BGyCAlVyX"
      },
      "source": [
        "----\n",
        "## Step 2: Data PreProcessing  \n",
        "- 2.1 Handling Null Values  \n",
        "- 2.2 Handling Skewed Data\n",
        "- 2.3 Feature Scaling\n",
        "- 2.4 Encoding Categorical Features\n",
        "\n",
        "This dataset doesn't contain invalid entries to deal with. \n"
      ]
    },
    {
      "cell_type": "markdown",
      "source": [
        "### 2.1 Handling Null Values"
      ],
      "metadata": {
        "id": "o9UNcgOh76us"
      }
    },
    {
      "cell_type": "code",
      "source": [
        "data.isna().sum(axis=0)\n",
        "\n",
        "# This dataset does not contain Null values."
      ],
      "metadata": {
        "id": "NlGzlbpg7GBn",
        "colab": {
          "base_uri": "https://localhost:8080/"
        },
        "outputId": "22efd06f-5265-4d9f-c03b-78be14b192c2"
      },
      "execution_count": 93,
      "outputs": [
        {
          "output_type": "execute_result",
          "data": {
            "text/plain": [
              "age                0\n",
              "workclass          0\n",
              "education_level    0\n",
              "education-num      0\n",
              "marital-status     0\n",
              "occupation         0\n",
              "relationship       0\n",
              "race               0\n",
              "sex                0\n",
              "capital-gain       0\n",
              "capital-loss       0\n",
              "hours-per-week     0\n",
              "native-country     0\n",
              "income             0\n",
              "dtype: int64"
            ]
          },
          "metadata": {},
          "execution_count": 93
        }
      ]
    },
    {
      "cell_type": "markdown",
      "metadata": {
        "id": "kRXGumRMlVyY"
      },
      "source": [
        "### 2.2 Handling Skewed Continuous Features\n",
        "A dataset may sometimes contain at least one feature whose values tend to lie near a single number, but will also have a non-trivial number of vastly larger or smaller values than that single number.  Algorithms can be sensitive to such distributions of values and can underperform if the range is not properly normalized. With the census dataset two features fit this description: '`capital-gain'` and `'capital-loss'`. \n"
      ]
    },
    {
      "cell_type": "code",
      "execution_count": 94,
      "metadata": {
        "id": "-YQfoo9glVyY",
        "outputId": "c841f837-7075-4e75-b17e-06993ea684d8",
        "colab": {
          "base_uri": "https://localhost:8080/",
          "height": 391
        }
      },
      "outputs": [
        {
          "output_type": "display_data",
          "data": {
            "text/plain": [
              "<Figure size 792x360 with 2 Axes>"
            ],
            "image/png": "[encoded data removed]"
          },
          "metadata": {
            "needs_background": "light"
          }
        }
      ],
      "source": [
        "# Split the data into features and target label\n",
        "income_raw = data['income']\n",
        "features_raw = data.drop('income', axis = 1)\n",
        "\n",
        "# Visualize skewed continuous features of original data\n",
        "vs.distribution(data)"
      ]
    },
    {
      "cell_type": "markdown",
      "metadata": {
        "id": "fzrwCshNlVyZ"
      },
      "source": [
        "**Discussion 2.2:**  \n",
        "Features `'capital-gain'` and `'capital-loss'` are highly skewed. Logarithmic transformation can be applied on the data so that the very large and very small values do not negatively affect the performance of the learning algorithm. \n",
        "\n",
        "Using a logarithmic transformation significantly reduces the range of values caused by outliers. Care must be taken when applying this transformation however: The logarithm of `0` is undefined, so the values must be translated by a small amount above `0` to apply the the logarithm successfully.\n"
      ]
    },
    {
      "cell_type": "code",
      "execution_count": 95,
      "metadata": {
        "id": "Dvb1nZh9lVyZ",
        "outputId": "f3a6ea6e-4168-4fa4-86cc-d81510ae6012",
        "colab": {
          "base_uri": "https://localhost:8080/",
          "height": 391
        }
      },
      "outputs": [
        {
          "output_type": "display_data",
          "data": {
            "text/plain": [
              "<Figure size 792x360 with 2 Axes>"
            ],
            "image/png": "[encoded data removed]"
          },
          "metadata": {
            "needs_background": "light"
          }
        }
      ],
      "source": [
        "# Log-transforming the skewed features\n",
        "skewed = ['capital-gain', 'capital-loss']\n",
        "features_log_transformed = pd.DataFrame(data = features_raw)\n",
        "features_log_transformed[skewed] = features_raw[skewed].apply(lambda x: np.log(x + 1))\n",
        "\n",
        "# Visualizing the new log distributions\n",
        "vs.distribution(features_log_transformed, transformed = True)"
      ]
    },
    {
      "cell_type": "markdown",
      "metadata": {
        "id": "fw7tnAZzlVyZ"
      },
      "source": [
        "### Step 2.3: Feature Scaling - Normalizing Numerical Features\n",
        "\n",
        "Normalization ensures that each feature is treated equally when applying supervised learners."
      ]
    },
    {
      "cell_type": "code",
      "execution_count": 96,
      "metadata": {
        "id": "uVGrW4KvlVya",
        "outputId": "8c2e3834-c84a-4739-9ae2-efa7f485592e",
        "colab": {
          "base_uri": "https://localhost:8080/",
          "height": 354
        }
      },
      "outputs": [
        {
          "output_type": "execute_result",
          "data": {
            "text/plain": [
              "        age          workclass education_level  education-num  \\\n",
              "0  0.301370          State-gov       Bachelors       0.800000   \n",
              "1  0.452055   Self-emp-not-inc       Bachelors       0.800000   \n",
              "2  0.287671            Private         HS-grad       0.533333   \n",
              "3  0.493151            Private            11th       0.400000   \n",
              "4  0.150685            Private       Bachelors       0.800000   \n",
              "\n",
              "        marital-status          occupation    relationship    race      sex  \\\n",
              "0        Never-married        Adm-clerical   Not-in-family   White     Male   \n",
              "1   Married-civ-spouse     Exec-managerial         Husband   White     Male   \n",
              "2             Divorced   Handlers-cleaners   Not-in-family   White     Male   \n",
              "3   Married-civ-spouse   Handlers-cleaners         Husband   Black     Male   \n",
              "4   Married-civ-spouse      Prof-specialty            Wife   Black   Female   \n",
              "\n",
              "   capital-gain  capital-loss  hours-per-week  native-country  \n",
              "0      0.667492           0.0        0.397959   United-States  \n",
              "1      0.000000           0.0        0.122449   United-States  \n",
              "2      0.000000           0.0        0.397959   United-States  \n",
              "3      0.000000           0.0        0.397959   United-States  \n",
              "4      0.000000           0.0        0.397959            Cuba  "
            ],
            "text/html": [
              "\n",
              "  <div id=\"df-56b8742c-4aee-419c-b6dd-2758738b91bf\">\n",
              "    <div class=\"colab-df-container\">\n",
              "      <div>\n",
              "<style scoped>\n",
              "    .dataframe tbody tr th:only-of-type {\n",
              "        vertical-align: middle;\n",
              "    }\n",
              "\n",
              "    .dataframe tbody tr th {\n",
              "        vertical-align: top;\n",
              "    }\n",
              "\n",
              "    .dataframe thead th {\n",
              "        text-align: right;\n",
              "    }\n",
              "</style>\n",
              "<table border=\"1\" class=\"dataframe\">\n",
              "  <thead>\n",
              "    <tr style=\"text-align: right;\">\n",
              "      <th></th>\n",
              "      <th>age</th>\n",
              "      <th>workclass</th>\n",
              "      <th>education_level</th>\n",
              "      <th>education-num</th>\n",
              "      <th>marital-status</th>\n",
              "      <th>occupation</th>\n",
              "      <th>relationship</th>\n",
              "      <th>race</th>\n",
              "      <th>sex</th>\n",
              "      <th>capital-gain</th>\n",
              "      <th>capital-loss</th>\n",
              "      <th>hours-per-week</th>\n",
              "      <th>native-country</th>\n",
              "    </tr>\n",
              "  </thead>\n",
              "  <tbody>\n",
              "    <tr>\n",
              "      <th>0</th>\n",
              "      <td>0.301370</td>\n",
              "      <td>State-gov</td>\n",
              "      <td>Bachelors</td>\n",
              "      <td>0.800000</td>\n",
              "      <td>Never-married</td>\n",
              "      <td>Adm-clerical</td>\n",
              "      <td>Not-in-family</td>\n",
              "      <td>White</td>\n",
              "      <td>Male</td>\n",
              "      <td>0.667492</td>\n",
              "      <td>0.0</td>\n",
              "      <td>0.397959</td>\n",
              "      <td>United-States</td>\n",
              "    </tr>\n",
              "    <tr>\n",
              "      <th>1</th>\n",
              "      <td>0.452055</td>\n",
              "      <td>Self-emp-not-inc</td>\n",
              "      <td>Bachelors</td>\n",
              "      <td>0.800000</td>\n",
              "      <td>Married-civ-spouse</td>\n",
              "      <td>Exec-managerial</td>\n",
              "      <td>Husband</td>\n",
              "      <td>White</td>\n",
              "      <td>Male</td>\n",
              "      <td>0.000000</td>\n",
              "      <td>0.0</td>\n",
              "      <td>0.122449</td>\n",
              "      <td>United-States</td>\n",
              "    </tr>\n",
              "    <tr>\n",
              "      <th>2</th>\n",
              "      <td>0.287671</td>\n",
              "      <td>Private</td>\n",
              "      <td>HS-grad</td>\n",
              "      <td>0.533333</td>\n",
              "      <td>Divorced</td>\n",
              "      <td>Handlers-cleaners</td>\n",
              "      <td>Not-in-family</td>\n",
              "      <td>White</td>\n",
              "      <td>Male</td>\n",
              "      <td>0.000000</td>\n",
              "      <td>0.0</td>\n",
              "      <td>0.397959</td>\n",
              "      <td>United-States</td>\n",
              "    </tr>\n",
              "    <tr>\n",
              "      <th>3</th>\n",
              "      <td>0.493151</td>\n",
              "      <td>Private</td>\n",
              "      <td>11th</td>\n",
              "      <td>0.400000</td>\n",
              "      <td>Married-civ-spouse</td>\n",
              "      <td>Handlers-cleaners</td>\n",
              "      <td>Husband</td>\n",
              "      <td>Black</td>\n",
              "      <td>Male</td>\n",
              "      <td>0.000000</td>\n",
              "      <td>0.0</td>\n",
              "      <td>0.397959</td>\n",
              "      <td>United-States</td>\n",
              "    </tr>\n",
              "    <tr>\n",
              "      <th>4</th>\n",
              "      <td>0.150685</td>\n",
              "      <td>Private</td>\n",
              "      <td>Bachelors</td>\n",
              "      <td>0.800000</td>\n",
              "      <td>Married-civ-spouse</td>\n",
              "      <td>Prof-specialty</td>\n",
              "      <td>Wife</td>\n",
              "      <td>Black</td>\n",
              "      <td>Female</td>\n",
              "      <td>0.000000</td>\n",
              "      <td>0.0</td>\n",
              "      <td>0.397959</td>\n",
              "      <td>Cuba</td>\n",
              "    </tr>\n",
              "  </tbody>\n",
              "</table>\n",
              "</div>\n",
              "      <button class=\"colab-df-convert\" onclick=\"convertToInteractive('df-56b8742c-4aee-419c-b6dd-2758738b91bf')\"\n",
              "              title=\"Convert this dataframe to an interactive table.\"\n",
              "              style=\"display:none;\">\n",
              "        \n",
              "  <svg xmlns=\"http://www.w3.org/2000/svg\" height=\"24px\"viewBox=\"0 0 24 24\"\n",
              "       width=\"24px\">\n",
              "    <path d=\"M0 0h24v24H0V0z\" fill=\"none\"/>\n",
              "    <path d=\"M18.56 5.44l.94 2.06.94-2.06 2.06-.94-2.06-.94-.94-2.06-.94 2.06-2.06.94zm-11 1L8.5 8.5l.94-2.06 2.06-.94-2.06-.94L8.5 2.5l-.94 2.06-2.06.94zm10 10l.94 2.06.94-2.06 2.06-.94-2.06-.94-.94-2.06-.94 2.06-2.06.94z\"/><path d=\"M17.41 7.96l-1.37-1.37c-.4-.4-.92-.59-1.43-.59-.52 0-1.04.2-1.43.59L10.3 9.45l-7.72 7.72c-.78.78-.78 2.05 0 2.83L4 21.41c.39.39.9.59 1.41.59.51 0 1.02-.2 1.41-.59l7.78-7.78 2.81-2.81c.8-.78.8-2.07 0-2.86zM5.41 20L4 18.59l7.72-7.72 1.47 1.35L5.41 20z\"/>\n",
              "  </svg>\n",
              "      </button>\n",
              "      \n",
              "  <style>\n",
              "    .colab-df-container {\n",
              "      display:flex;\n",
              "      flex-wrap:wrap;\n",
              "      gap: 12px;\n",
              "    }\n",
              "\n",
              "    .colab-df-convert {\n",
              "      background-color: #E8F0FE;\n",
              "      border: none;\n",
              "      border-radius: 50%;\n",
              "      cursor: pointer;\n",
              "      display: none;\n",
              "      fill: #1967D2;\n",
              "      height: 32px;\n",
              "      padding: 0 0 0 0;\n",
              "      width: 32px;\n",
              "    }\n",
              "\n",
              "    .colab-df-convert:hover {\n",
              "      background-color: #E2EBFA;\n",
              "      box-shadow: 0px 1px 2px rgba(60, 64, 67, 0.3), 0px 1px 3px 1px rgba(60, 64, 67, 0.15);\n",
              "      fill: #174EA6;\n",
              "    }\n",
              "\n",
              "    [theme=dark] .colab-df-convert {\n",
              "      background-color: #3B4455;\n",
              "      fill: #D2E3FC;\n",
              "    }\n",
              "\n",
              "    [theme=dark] .colab-df-convert:hover {\n",
              "      background-color: #434B5C;\n",
              "      box-shadow: 0px 1px 3px 1px rgba(0, 0, 0, 0.15);\n",
              "      filter: drop-shadow(0px 1px 2px rgba(0, 0, 0, 0.3));\n",
              "      fill: #FFFFFF;\n",
              "    }\n",
              "  </style>\n",
              "\n",
              "      <script>\n",
              "        const buttonEl =\n",
              "          document.querySelector('#df-56b8742c-4aee-419c-b6dd-2758738b91bf button.colab-df-convert');\n",
              "        buttonEl.style.display =\n",
              "          google.colab.kernel.accessAllowed ? 'block' : 'none';\n",
              "\n",
              "        async function convertToInteractive(key) {\n",
              "          const element = document.querySelector('#df-56b8742c-4aee-419c-b6dd-2758738b91bf');\n",
              "          const dataTable =\n",
              "            await google.colab.kernel.invokeFunction('convertToInteractive',\n",
              "                                                     [key], {});\n",
              "          if (!dataTable) return;\n",
              "\n",
              "          const docLinkHtml = 'Like what you see? Visit the ' +\n",
              "            '<a target=\"_blank\" href=https://colab.research.google.com/notebooks/data_table.ipynb>data table notebook</a>'\n",
              "            + ' to learn more about interactive tables.';\n",
              "          element.innerHTML = '';\n",
              "          dataTable['output_type'] = 'display_data';\n",
              "          await google.colab.output.renderOutput(dataTable, element);\n",
              "          const docLink = document.createElement('div');\n",
              "          docLink.innerHTML = docLinkHtml;\n",
              "          element.appendChild(docLink);\n",
              "        }\n",
              "      </script>\n",
              "    </div>\n",
              "  </div>\n",
              "  "
            ]
          },
          "metadata": {},
          "execution_count": 96
        },
        {
          "output_type": "execute_result",
          "data": {
            "text/plain": [
              "(45222, 13)"
            ]
          },
          "metadata": {},
          "execution_count": 96
        }
      ],
      "source": [
        "# Initializing a scaler object\n",
        "scaler = MinMaxScaler() # default=(0, 1)\n",
        "numerical = ['age', 'education-num', 'capital-gain', 'capital-loss', 'hours-per-week']\n",
        "\n",
        "# Scaling the features using the scaler object\n",
        "features_log_minmax_transform = pd.DataFrame(data = features_log_transformed)\n",
        "features_log_minmax_transform[numerical] = scaler.fit_transform(features_log_transformed[numerical])\n",
        "\n",
        "features_log_minmax_transform.head()\n",
        "features_log_minmax_transform.shape"
      ]
    },
    {
      "cell_type": "markdown",
      "metadata": {
        "id": "2WRi5JO-lVya"
      },
      "source": [
        "### Step 2.4: Encoding Categorical Features\n",
        "\n",
        "Typically, learning algorithms expect input to be numeric, which requires that categorical features be converted to encoded numerical features. One popular way to do so is by using the **one-hot encoding** scheme. \n"
      ]
    },
    {
      "cell_type": "code",
      "execution_count": 97,
      "metadata": {
        "scrolled": true,
        "id": "_k1Psxz9lVyb",
        "outputId": "578e1a73-7602-42eb-c9d4-2fa0ec705751",
        "colab": {
          "base_uri": "https://localhost:8080/",
          "height": 369
        }
      },
      "outputs": [
        {
          "output_type": "execute_result",
          "data": {
            "text/plain": [
              "        age  education-num  capital-gain  capital-loss  hours-per-week  \\\n",
              "0  0.301370       0.800000      0.667492           0.0        0.397959   \n",
              "1  0.452055       0.800000      0.000000           0.0        0.122449   \n",
              "2  0.287671       0.533333      0.000000           0.0        0.397959   \n",
              "3  0.493151       0.400000      0.000000           0.0        0.397959   \n",
              "4  0.150685       0.800000      0.000000           0.0        0.397959   \n",
              "\n",
              "   workclass_ Federal-gov  workclass_ Local-gov  workclass_ Private  \\\n",
              "0                       0                     0                   0   \n",
              "1                       0                     0                   0   \n",
              "2                       0                     0                   1   \n",
              "3                       0                     0                   1   \n",
              "4                       0                     0                   1   \n",
              "\n",
              "   workclass_ Self-emp-inc  workclass_ Self-emp-not-inc  ...  \\\n",
              "0                        0                            0  ...   \n",
              "1                        0                            1  ...   \n",
              "2                        0                            0  ...   \n",
              "3                        0                            0  ...   \n",
              "4                        0                            0  ...   \n",
              "\n",
              "   native-country_ Portugal  native-country_ Puerto-Rico  \\\n",
              "0                         0                            0   \n",
              "1                         0                            0   \n",
              "2                         0                            0   \n",
              "3                         0                            0   \n",
              "4                         0                            0   \n",
              "\n",
              "   native-country_ Scotland  native-country_ South  native-country_ Taiwan  \\\n",
              "0                         0                      0                       0   \n",
              "1                         0                      0                       0   \n",
              "2                         0                      0                       0   \n",
              "3                         0                      0                       0   \n",
              "4                         0                      0                       0   \n",
              "\n",
              "   native-country_ Thailand  native-country_ Trinadad&Tobago  \\\n",
              "0                         0                                0   \n",
              "1                         0                                0   \n",
              "2                         0                                0   \n",
              "3                         0                                0   \n",
              "4                         0                                0   \n",
              "\n",
              "   native-country_ United-States  native-country_ Vietnam  \\\n",
              "0                              1                        0   \n",
              "1                              1                        0   \n",
              "2                              1                        0   \n",
              "3                              1                        0   \n",
              "4                              0                        0   \n",
              "\n",
              "   native-country_ Yugoslavia  \n",
              "0                           0  \n",
              "1                           0  \n",
              "2                           0  \n",
              "3                           0  \n",
              "4                           0  \n",
              "\n",
              "[5 rows x 103 columns]"
            ],
            "text/html": [
              "\n",
              "  <div id=\"df-926769f9-a44d-4d13-b06e-e912e2a793f9\">\n",
              "    <div class=\"colab-df-container\">\n",
              "      <div>\n",
              "<style scoped>\n",
              "    .dataframe tbody tr th:only-of-type {\n",
              "        vertical-align: middle;\n",
              "    }\n",
              "\n",
              "    .dataframe tbody tr th {\n",
              "        vertical-align: top;\n",
              "    }\n",
              "\n",
              "    .dataframe thead th {\n",
              "        text-align: right;\n",
              "    }\n",
              "</style>\n",
              "<table border=\"1\" class=\"dataframe\">\n",
              "  <thead>\n",
              "    <tr style=\"text-align: right;\">\n",
              "      <th></th>\n",
              "      <th>age</th>\n",
              "      <th>education-num</th>\n",
              "      <th>capital-gain</th>\n",
              "      <th>capital-loss</th>\n",
              "      <th>hours-per-week</th>\n",
              "      <th>workclass_ Federal-gov</th>\n",
              "      <th>workclass_ Local-gov</th>\n",
              "      <th>workclass_ Private</th>\n",
              "      <th>workclass_ Self-emp-inc</th>\n",
              "      <th>workclass_ Self-emp-not-inc</th>\n",
              "      <th>...</th>\n",
              "      <th>native-country_ Portugal</th>\n",
              "      <th>native-country_ Puerto-Rico</th>\n",
              "      <th>native-country_ Scotland</th>\n",
              "      <th>native-country_ South</th>\n",
              "      <th>native-country_ Taiwan</th>\n",
              "      <th>native-country_ Thailand</th>\n",
              "      <th>native-country_ Trinadad&amp;Tobago</th>\n",
              "      <th>native-country_ United-States</th>\n",
              "      <th>native-country_ Vietnam</th>\n",
              "      <th>native-country_ Yugoslavia</th>\n",
              "    </tr>\n",
              "  </thead>\n",
              "  <tbody>\n",
              "    <tr>\n",
              "      <th>0</th>\n",
              "      <td>0.301370</td>\n",
              "      <td>0.800000</td>\n",
              "      <td>0.667492</td>\n",
              "      <td>0.0</td>\n",
              "      <td>0.397959</td>\n",
              "      <td>0</td>\n",
              "      <td>0</td>\n",
              "      <td>0</td>\n",
              "      <td>0</td>\n",
              "      <td>0</td>\n",
              "      <td>...</td>\n",
              "      <td>0</td>\n",
              "      <td>0</td>\n",
              "      <td>0</td>\n",
              "      <td>0</td>\n",
              "      <td>0</td>\n",
              "      <td>0</td>\n",
              "      <td>0</td>\n",
              "      <td>1</td>\n",
              "      <td>0</td>\n",
              "      <td>0</td>\n",
              "    </tr>\n",
              "    <tr>\n",
              "      <th>1</th>\n",
              "      <td>0.452055</td>\n",
              "      <td>0.800000</td>\n",
              "      <td>0.000000</td>\n",
              "      <td>0.0</td>\n",
              "      <td>0.122449</td>\n",
              "      <td>0</td>\n",
              "      <td>0</td>\n",
              "      <td>0</td>\n",
              "      <td>0</td>\n",
              "      <td>1</td>\n",
              "      <td>...</td>\n",
              "      <td>0</td>\n",
              "      <td>0</td>\n",
              "      <td>0</td>\n",
              "      <td>0</td>\n",
              "      <td>0</td>\n",
              "      <td>0</td>\n",
              "      <td>0</td>\n",
              "      <td>1</td>\n",
              "      <td>0</td>\n",
              "      <td>0</td>\n",
              "    </tr>\n",
              "    <tr>\n",
              "      <th>2</th>\n",
              "      <td>0.287671</td>\n",
              "      <td>0.533333</td>\n",
              "      <td>0.000000</td>\n",
              "      <td>0.0</td>\n",
              "      <td>0.397959</td>\n",
              "      <td>0</td>\n",
              "      <td>0</td>\n",
              "      <td>1</td>\n",
              "      <td>0</td>\n",
              "      <td>0</td>\n",
              "      <td>...</td>\n",
              "      <td>0</td>\n",
              "      <td>0</td>\n",
              "      <td>0</td>\n",
              "      <td>0</td>\n",
              "      <td>0</td>\n",
              "      <td>0</td>\n",
              "      <td>0</td>\n",
              "      <td>1</td>\n",
              "      <td>0</td>\n",
              "      <td>0</td>\n",
              "    </tr>\n",
              "    <tr>\n",
              "      <th>3</th>\n",
              "      <td>0.493151</td>\n",
              "      <td>0.400000</td>\n",
              "      <td>0.000000</td>\n",
              "      <td>0.0</td>\n",
              "      <td>0.397959</td>\n",
              "      <td>0</td>\n",
              "      <td>0</td>\n",
              "      <td>1</td>\n",
              "      <td>0</td>\n",
              "      <td>0</td>\n",
              "      <td>...</td>\n",
              "      <td>0</td>\n",
              "      <td>0</td>\n",
              "      <td>0</td>\n",
              "      <td>0</td>\n",
              "      <td>0</td>\n",
              "      <td>0</td>\n",
              "      <td>0</td>\n",
              "      <td>1</td>\n",
              "      <td>0</td>\n",
              "      <td>0</td>\n",
              "    </tr>\n",
              "    <tr>\n",
              "      <th>4</th>\n",
              "      <td>0.150685</td>\n",
              "      <td>0.800000</td>\n",
              "      <td>0.000000</td>\n",
              "      <td>0.0</td>\n",
              "      <td>0.397959</td>\n",
              "      <td>0</td>\n",
              "      <td>0</td>\n",
              "      <td>1</td>\n",
              "      <td>0</td>\n",
              "      <td>0</td>\n",
              "      <td>...</td>\n",
              "      <td>0</td>\n",
              "      <td>0</td>\n",
              "      <td>0</td>\n",
              "      <td>0</td>\n",
              "      <td>0</td>\n",
              "      <td>0</td>\n",
              "      <td>0</td>\n",
              "      <td>0</td>\n",
              "      <td>0</td>\n",
              "      <td>0</td>\n",
              "    </tr>\n",
              "  </tbody>\n",
              "</table>\n",
              "<p>5 rows × 103 columns</p>\n",
              "</div>\n",
              "      <button class=\"colab-df-convert\" onclick=\"convertToInteractive('df-926769f9-a44d-4d13-b06e-e912e2a793f9')\"\n",
              "              title=\"Convert this dataframe to an interactive table.\"\n",
              "              style=\"display:none;\">\n",
              "        \n",
              "  <svg xmlns=\"http://www.w3.org/2000/svg\" height=\"24px\"viewBox=\"0 0 24 24\"\n",
              "       width=\"24px\">\n",
              "    <path d=\"M0 0h24v24H0V0z\" fill=\"none\"/>\n",
              "    <path d=\"M18.56 5.44l.94 2.06.94-2.06 2.06-.94-2.06-.94-.94-2.06-.94 2.06-2.06.94zm-11 1L8.5 8.5l.94-2.06 2.06-.94-2.06-.94L8.5 2.5l-.94 2.06-2.06.94zm10 10l.94 2.06.94-2.06 2.06-.94-2.06-.94-.94-2.06-.94 2.06-2.06.94z\"/><path d=\"M17.41 7.96l-1.37-1.37c-.4-.4-.92-.59-1.43-.59-.52 0-1.04.2-1.43.59L10.3 9.45l-7.72 7.72c-.78.78-.78 2.05 0 2.83L4 21.41c.39.39.9.59 1.41.59.51 0 1.02-.2 1.41-.59l7.78-7.78 2.81-2.81c.8-.78.8-2.07 0-2.86zM5.41 20L4 18.59l7.72-7.72 1.47 1.35L5.41 20z\"/>\n",
              "  </svg>\n",
              "      </button>\n",
              "      \n",
              "  <style>\n",
              "    .colab-df-container {\n",
              "      display:flex;\n",
              "      flex-wrap:wrap;\n",
              "      gap: 12px;\n",
              "    }\n",
              "\n",
              "    .colab-df-convert {\n",
              "      background-color: #E8F0FE;\n",
              "      border: none;\n",
              "      border-radius: 50%;\n",
              "      cursor: pointer;\n",
              "      display: none;\n",
              "      fill: #1967D2;\n",
              "      height: 32px;\n",
              "      padding: 0 0 0 0;\n",
              "      width: 32px;\n",
              "    }\n",
              "\n",
              "    .colab-df-convert:hover {\n",
              "      background-color: #E2EBFA;\n",
              "      box-shadow: 0px 1px 2px rgba(60, 64, 67, 0.3), 0px 1px 3px 1px rgba(60, 64, 67, 0.15);\n",
              "      fill: #174EA6;\n",
              "    }\n",
              "\n",
              "    [theme=dark] .colab-df-convert {\n",
              "      background-color: #3B4455;\n",
              "      fill: #D2E3FC;\n",
              "    }\n",
              "\n",
              "    [theme=dark] .colab-df-convert:hover {\n",
              "      background-color: #434B5C;\n",
              "      box-shadow: 0px 1px 3px 1px rgba(0, 0, 0, 0.15);\n",
              "      filter: drop-shadow(0px 1px 2px rgba(0, 0, 0, 0.3));\n",
              "      fill: #FFFFFF;\n",
              "    }\n",
              "  </style>\n",
              "\n",
              "      <script>\n",
              "        const buttonEl =\n",
              "          document.querySelector('#df-926769f9-a44d-4d13-b06e-e912e2a793f9 button.colab-df-convert');\n",
              "        buttonEl.style.display =\n",
              "          google.colab.kernel.accessAllowed ? 'block' : 'none';\n",
              "\n",
              "        async function convertToInteractive(key) {\n",
              "          const element = document.querySelector('#df-926769f9-a44d-4d13-b06e-e912e2a793f9');\n",
              "          const dataTable =\n",
              "            await google.colab.kernel.invokeFunction('convertToInteractive',\n",
              "                                                     [key], {});\n",
              "          if (!dataTable) return;\n",
              "\n",
              "          const docLinkHtml = 'Like what you see? Visit the ' +\n",
              "            '<a target=\"_blank\" href=https://colab.research.google.com/notebooks/data_table.ipynb>data table notebook</a>'\n",
              "            + ' to learn more about interactive tables.';\n",
              "          element.innerHTML = '';\n",
              "          dataTable['output_type'] = 'display_data';\n",
              "          await google.colab.output.renderOutput(dataTable, element);\n",
              "          const docLink = document.createElement('div');\n",
              "          docLink.innerHTML = docLinkHtml;\n",
              "          element.appendChild(docLink);\n",
              "        }\n",
              "      </script>\n",
              "    </div>\n",
              "  </div>\n",
              "  "
            ]
          },
          "metadata": {},
          "execution_count": 97
        },
        {
          "output_type": "execute_result",
          "data": {
            "text/plain": [
              "(45222, 103)"
            ]
          },
          "metadata": {},
          "execution_count": 97
        }
      ],
      "source": [
        "# One-hot encoding the features\n",
        "features_final = pd.get_dummies(features_log_minmax_transform)\n",
        "\n",
        "# Encoding the Target variable to numerical values\n",
        "income = income_raw.map({'>50K':1, '<=50K':0})\n",
        "\n",
        "\n",
        "features_final.head()\n",
        "features_final.shape"
      ]
    },
    {
      "cell_type": "markdown",
      "source": [
        "----\n",
        "## Step 3: Model Building\n",
        "- 3.1 Shuffle and Split Data\n",
        "- 3.2 Observing the Naive Predictor's Performance\n",
        "- 3.3 Supervised Learning Models "
      ],
      "metadata": {
        "id": "oQmVGZ_C7QJj"
      }
    },
    {
      "cell_type": "markdown",
      "metadata": {
        "id": "aAnn0B6jlVyb"
      },
      "source": [
        "### Step 3.1: Shuffle and Split Data\n",
        "Splitting the data into Train, Test and Validation Sets"
      ]
    },
    {
      "cell_type": "code",
      "execution_count": 98,
      "metadata": {
        "id": "gkCpO476lVyc",
        "outputId": "04b66442-cfa9-4880-b3e0-147ef0e28120",
        "colab": {
          "base_uri": "https://localhost:8080/"
        }
      },
      "outputs": [
        {
          "output_type": "stream",
          "name": "stdout",
          "text": [
            "Training set has 36177 samples.\n",
            "Testing set has 9045 samples.\n"
          ]
        }
      ],
      "source": [
        "# Splitting the features and target data into training and testing sets\n",
        "X_train, X_test, y_train, y_test = train_test_split(features_final, \n",
        "                                                    income, \n",
        "                                                    test_size = 0.2, \n",
        "                                                    random_state = 0)\n",
        "\n",
        "# Size of Training and Testing datasets after the split\n",
        "print(\"Training set has {} samples.\".format(X_train.shape[0]))\n",
        "print(\"Testing set has {} samples.\".format(X_test.shape[0]))"
      ]
    },
    {
      "cell_type": "markdown",
      "metadata": {
        "id": "gYb_rj-FlVyc"
      },
      "source": [
        "\n",
        "### Step 3.2: Observing the Naive Predictor's Performance\n",
        "\n",
        "In this section, we will investigate the performance of a Naive Predictor which predicts are same outcome for all the datapoints.\n",
        "\n",
        "Let's assume that a Naive Predictor predictes all the individuals made more than $50,000, what would  that model's accuracy and F-score be on this dataset? "
      ]
    },
    {
      "cell_type": "code",
      "execution_count": 99,
      "metadata": {
        "id": "VWcoyynplVye",
        "outputId": "ad6bf3e1-630f-450e-8a9c-25d18fd62ab8",
        "colab": {
          "base_uri": "https://localhost:8080/"
        }
      },
      "outputs": [
        {
          "output_type": "stream",
          "name": "stdout",
          "text": [
            "Naive Predictor: [Accuracy score: 0.2478, F-score: 0.3501]\n"
          ]
        }
      ],
      "source": [
        "# Calculating accuracy, precision and recall\n",
        "TP = (income[income==1].shape[0])\n",
        "FP = (income[income==0].shape[0])\n",
        "FN = 0\n",
        "TN = 0\n",
        "\n",
        "accuracy = (TP+TN)/income.shape[0]\n",
        "recall = TP/(TP+FN)\n",
        "precision = TP/(TP+FP)\n",
        "\n",
        "# Calculating F-score using the formula with Beta=0.5.\n",
        "fscore = (1.5*precision*recall)/((0.25*precision)+recall)\n",
        "\n",
        "# Printing the results \n",
        "print(\"Naive Predictor: [Accuracy score: {:.4f}, F-score: {:.4f}]\".format(accuracy, fscore))"
      ]
    },
    {
      "cell_type": "markdown",
      "metadata": {
        "id": "vd98MD_8lVye"
      },
      "source": [
        "### Step 3.3: Supervised Learning Models\n",
        "- 3.3.1 Choosing the Supervised Learning models\n",
        "- 3.3.2 Initial Models' Evaluation\n",
        "- 3.3.3 Fine Tuning the best model\n"
      ]
    },
    {
      "cell_type": "markdown",
      "source": [
        "#### Step 3.3.1:\n",
        "**The following algorithms are used for the supervised learning task that are currently available in** [`scikit-learn`](http://scikit-learn.org/stable/supervised_learning.html):\n",
        "\n",
        "- Logistic Regression\n",
        "- Support Vector Machines(SVM)\n",
        "- Random Forest\n",
        "- Gradient Boosting"
      ],
      "metadata": {
        "id": "HRKBjYrYFMRw"
      }
    },
    {
      "cell_type": "code",
      "execution_count": 100,
      "metadata": {
        "id": "Xjd3oOiJlVyf"
      },
      "outputs": [],
      "source": [
        "# Creating a pipeline function to evaluate the model performance\n",
        "\n",
        "def train_predict(learner, X_train, y_train, X_test, y_test): \n",
        "    '''\n",
        "    inputs:\n",
        "       - learner: the learning algorithm to be trained and predicted with\n",
        "       - X_train: features training set\n",
        "       - y_train: income training set\n",
        "       - X_test: features testing set\n",
        "       - y_test: income testing set\n",
        "    '''\n",
        "    \n",
        "    results = {}\n",
        "    \n",
        "    start = time() # Get start time\n",
        "    learner = learner.fit(X_train, y_train)\n",
        "    end = time() # Get end time\n",
        "    \n",
        "    # Calculating the training time\n",
        "    results['train_time'] = end - start\n",
        "        \n",
        "    # Get the predictions on the test set(X_test) and train set(X_train)\n",
        "\n",
        "    start = time() # Get start time\n",
        "    predictions_test = learner.predict(X_test)\n",
        "    predictions_train = learner.predict(X_train)\n",
        "    end = time() # Get end time\n",
        "    \n",
        "    # Calculating the total prediction time\n",
        "    results['pred_time'] = end-start\n",
        "            \n",
        "    # Computing accuracy and F0.5 score for Training and Testing data\n",
        "    results['acc_train'] = accuracy_score(predictions_train, y_train)\n",
        "    results['acc_test'] = accuracy_score(predictions_test, y_test)\n",
        "\n",
        "    results['f_train'] = fbeta_score(y_train, predictions_train, beta=0.5)\n",
        "    results['f_test'] = fbeta_score(y_test, predictions_test, beta=0.5)\n",
        "      \n",
        "\n",
        "    print(\"{} model is trained.\".format(learner.__class__.__name__))\n",
        "        \n",
        "    # Return the results\n",
        "    return results"
      ]
    },
    {
      "cell_type": "markdown",
      "metadata": {
        "id": "vik6EI0LlVyg"
      },
      "source": [
        "#### Step 3.3.2  Initial Models' Evaluation\n"
      ]
    },
    {
      "cell_type": "code",
      "source": [
        "# Creating a Visualization Function\n",
        "\n",
        "def evaluate_with_naive(results, accuracy, f1):\n",
        "  '''\n",
        "  inputs:\n",
        "    - results: Dictionary of Performance Metrics for each Supervised Learning Model\n",
        "    - accuracy: Accuracy score of the Naive Predictor\n",
        "    - f1: f1 score of the Naive Predictor\n",
        "  '''\n",
        "  fig, ax = pl.subplots(2, 3, figsize = (12,7))\n",
        "\n",
        "  bar_width = 0.3\n",
        "  colors = ['#A00000','#00A0A0','#00A000', '#800080']\n",
        "\n",
        "  for k, learner in enumerate(results.keys()):\n",
        "      for j, metric in enumerate(['train_time', 'acc_train', 'f_train', 'pred_time', 'acc_test', 'f_test']):\n",
        "\n",
        "        # Creative plot code\n",
        "        ax[j//3, j%3].bar(k*bar_width, results[learner][metric], width = bar_width, color = colors[k])\n",
        "\n",
        "  # Adding unique y-labels\n",
        "  ax[0, 0].set_ylabel(\"Time (in seconds)\")\n",
        "  ax[0, 1].set_ylabel(\"Accuracy Score\")\n",
        "  ax[0, 2].set_ylabel(\"F-score\")\n",
        "  ax[1, 0].set_ylabel(\"Time (in seconds)\")\n",
        "  ax[1, 1].set_ylabel(\"Accuracy Score\")\n",
        "  ax[1, 2].set_ylabel(\"F-score\")\n",
        "\n",
        "  # Adding titles\n",
        "  ax[0, 0].set_title(\"Model Training\")\n",
        "  ax[0, 1].set_title(\"Accuracy Score on Training Subset\")\n",
        "  ax[0, 2].set_title(\"F-score on Training Subset\")\n",
        "  ax[1, 0].set_title(\"Model Predicting\")\n",
        "  ax[1, 1].set_title(\"Accuracy Score on Testing Set\")\n",
        "  ax[1, 2].set_title(\"F-score on Testing Set\")\n",
        "\n",
        "  # Adding horizontal lines for naive predictors\n",
        "  ax[0, 1].axhline(y = accuracy, xmin = -0.1, xmax = 3.0, linewidth = 1, color = 'k', linestyle = 'dashed')\n",
        "  ax[1, 1].axhline(y = accuracy, xmin = -0.1, xmax = 3.0, linewidth = 1, color = 'k', linestyle = 'dashed')\n",
        "  ax[0, 2].axhline(y = f1, xmin = -0.1, xmax = 3.0, linewidth = 1, color = 'k', linestyle = 'dashed')\n",
        "  ax[1, 2].axhline(y = f1, xmin = -0.1, xmax = 3.0, linewidth = 1, color = 'k', linestyle = 'dashed')\n",
        "\n",
        "  # Creating patches for the legend\n",
        "  patches = []\n",
        "  for i, learner in enumerate(results.keys()):\n",
        "    patches.append(mpatches.Patch(color = colors[i], label = learner))\n",
        "    pl.legend(handles = patches, bbox_to_anchor = (-.80, 2.7), loc = 'upper center', borderaxespad = 0., ncol = 3, fontsize = 'x-large')\n",
        "\n",
        "  pl.suptitle(\"Performance Metrics for Supervised Learning Models\", fontsize = 16, y = 1.10)\n",
        "  pl.tight_layout()\n",
        "  pl.show()"
      ],
      "metadata": {
        "id": "iw2ms2-b662U"
      },
      "execution_count": 101,
      "outputs": []
    },
    {
      "cell_type": "code",
      "execution_count": 102,
      "metadata": {
        "scrolled": false,
        "id": "R7OVnp69lVyg",
        "outputId": "533a481e-845d-489b-815b-84b559a1d280",
        "colab": {
          "base_uri": "https://localhost:8080/",
          "height": 646
        }
      },
      "outputs": [
        {
          "output_type": "stream",
          "name": "stdout",
          "text": [
            "LogisticRegression model is trained.\n",
            "RandomForestClassifier model is trained.\n",
            "GradientBoostingClassifier model is trained.\n",
            "SVC model is trained.\n"
          ]
        },
        {
          "output_type": "stream",
          "name": "stderr",
          "text": [
            "/usr/local/lib/python3.7/dist-packages/ipykernel_launcher.py:44: UserWarning: Tight layout not applied. tight_layout cannot make axes width small enough to accommodate all axes decorations\n"
          ]
        },
        {
          "output_type": "display_data",
          "data": {
            "text/plain": [
              "<Figure size 864x504 with 6 Axes>"
            ],
            "image/png": "[encoded data removed]"
          },
          "metadata": {
            "needs_background": "light"
          }
        }
      ],
      "source": [
        "\n",
        "# Initializing the three Baseline models\n",
        "clf_LR = LogisticRegression(max_iter=1000)\n",
        "clf_RFC = RandomForestClassifier()\n",
        "clf_GBC = GradientBoostingClassifier()\n",
        "clf_SVC = SVC(C=1.5, kernel='rbf', degree=4, gamma=30)\n",
        "\n",
        "# Collecting results on the learners\n",
        "results = {}\n",
        "for clf in [clf_LR, clf_RFC, clf_GBC, clf_SVC]:\n",
        "  clf_name = clf.__class__.__name__\n",
        "  results[clf_name] = train_predict(clf, X_train, y_train, X_test, y_test)\n",
        "        \n",
        "\n",
        "# Run metrics visualization for the three chosen supervised learning models\n",
        "\n",
        "evaluate_with_naive(results, accuracy, fscore)\n",
        "\n",
        "# The black dash line indicates the performance of the Naive predictor we used earlier."
      ]
    },
    {
      "cell_type": "code",
      "execution_count": 103,
      "metadata": {
        "id": "QcHzNi9AlVyh",
        "outputId": "da0f6b6f-14ff-4752-d4b9-54634071b66c",
        "colab": {
          "base_uri": "https://localhost:8080/"
        }
      },
      "outputs": [
        {
          "output_type": "execute_result",
          "data": {
            "text/plain": [
              "{'GradientBoostingClassifier': {'acc_test': 0.8630182421227197,\n",
              "  'acc_train': 0.865743428144954,\n",
              "  'f_test': 0.7395338561802719,\n",
              "  'f_train': 0.7530470502391698,\n",
              "  'pred_time': 0.15819787979125977,\n",
              "  'train_time': 6.898761749267578},\n",
              " 'LogisticRegression': {'acc_test': 0.8417910447761194,\n",
              "  'acc_train': 0.8431876606683805,\n",
              "  'f_test': 0.6829293664828877,\n",
              "  'f_train': 0.6946344233101918,\n",
              "  'pred_time': 0.013692378997802734,\n",
              "  'train_time': 2.6582186222076416},\n",
              " 'RandomForestClassifier': {'acc_test': 0.8416804864566059,\n",
              "  'acc_train': 0.9725239793238798,\n",
              "  'f_test': 0.679774725817607,\n",
              "  'f_train': 0.9517648394052888,\n",
              "  'pred_time': 1.375856637954712,\n",
              "  'train_time': 5.371832847595215},\n",
              " 'SVC': {'acc_test': 0.8176893311221669,\n",
              "  'acc_train': 0.9127622522597231,\n",
              "  'f_test': 0.6264760720944687,\n",
              "  'f_train': 0.8457100773290781,\n",
              "  'pred_time': 133.76254844665527,\n",
              "  'train_time': 731.8075170516968}}"
            ]
          },
          "metadata": {},
          "execution_count": 103
        }
      ],
      "source": [
        "results"
      ]
    },
    {
      "cell_type": "markdown",
      "metadata": {
        "id": "aoRcHhzAlVyh"
      },
      "source": [
        "----\n",
        "### Step 3.3.3 Fine Tuning the Best Model\n",
        "Now that we have observed and chosen the best model, let's perform a grid search optimization for that model over the entire training set (`X_train` and `y_train`) by tuning it's parameters to improve upon the untuned model's F-score. "
      ]
    },
    {
      "cell_type": "code",
      "execution_count": 104,
      "metadata": {
        "scrolled": false,
        "id": "Lek6jXOelVyj",
        "outputId": "e81c03d6-f38b-48ea-a5bb-0c03ad8c1c14",
        "colab": {
          "base_uri": "https://localhost:8080/"
        }
      },
      "outputs": [
        {
          "output_type": "stream",
          "name": "stdout",
          "text": [
            "Unoptimized model\n",
            "------\n",
            "Accuracy score on testing data: 0.8630\n",
            "F-score on testing data: 0.7395\n",
            "\n",
            "Optimized Model\n",
            "------\n",
            "Final accuracy score on the testing data: 0.8704\n",
            "Final F-score on the testing data: 0.7520\n"
          ]
        }
      ],
      "source": [
        "\n",
        "clf = GradientBoostingClassifier()\n",
        "parameters = {'n_estimators': [100, 200, 300],\n",
        "              'max_depth':[3,4,5],\n",
        "              'min_samples_split': [2,4,6,8,10]}\n",
        "\n",
        "scorer = make_scorer(fbeta_score, beta=0.5)\n",
        "\n",
        "grid_obj = GridSearchCV(clf, param_grid=parameters, scoring=scorer)\n",
        "grid_fit = grid_obj.fit(X_train, y_train)\n",
        "best_clf = grid_fit.best_estimator_\n",
        "\n",
        "# Making predictions using the unoptimized model to compare\n",
        "predictions = (clf.fit(X_train, y_train)).predict(X_test)\n",
        "best_predictions = best_clf.predict(X_test)\n",
        "\n",
        "# Report the optimized and unoptimized model scores\n",
        "print(\"Unoptimized model\\n------\")\n",
        "print(\"Accuracy score on testing data: {:.4f}\".format(accuracy_score(y_test, predictions)))\n",
        "print(\"F-score on testing data: {:.4f}\".format(fbeta_score(y_test, predictions, beta = 0.5)))\n",
        "print(\"\\nOptimized Model\\n------\")\n",
        "print(\"Final accuracy score on the testing data: {:.4f}\".format(accuracy_score(y_test, best_predictions)))\n",
        "print(\"Final F-score on the testing data: {:.4f}\".format(fbeta_score(y_test, best_predictions, beta = 0.5)))"
      ]
    },
    {
      "cell_type": "code",
      "execution_count": 105,
      "metadata": {
        "id": "2IXmwp6_lVyj",
        "outputId": "8e7a079e-3d94-4fed-97ec-144435d4b1f2",
        "colab": {
          "base_uri": "https://localhost:8080/"
        }
      },
      "outputs": [
        {
          "output_type": "execute_result",
          "data": {
            "text/plain": [
              "GradientBoostingClassifier(max_depth=4, min_samples_split=8, n_estimators=200)"
            ]
          },
          "metadata": {},
          "execution_count": 105
        }
      ],
      "source": [
        "best_clf"
      ]
    },
    {
      "cell_type": "markdown",
      "metadata": {
        "id": "qUreoj5ilVyk"
      },
      "source": [
        "----\n",
        "### Step 4: Analysis and Improvement\n",
        "- 4.1 Feature Importance\n",
        "- 4.2 Feature Selection and Evaluation"
      ]
    },
    {
      "cell_type": "markdown",
      "source": [
        "#### Step 4.1: Feature Importance\n",
        "\n",
        "In this section, the above model is further tried to improve by choosing the most important features. With these features, we will also challenge the Null Hypothesis we had in Step 1.2.   \n",
        "\n",
        "Let's identify a small number of features that most strongly predict whether an individual makes at most or more than \\$50,000."
      ],
      "metadata": {
        "id": "-F_MxMahUxn5"
      }
    },
    {
      "cell_type": "code",
      "execution_count": 106,
      "metadata": {
        "id": "gzlRszdnlVyl",
        "outputId": "9d33feea-e662-4839-c5a1-17125f4a2683",
        "colab": {
          "base_uri": "https://localhost:8080/",
          "height": 560
        }
      },
      "outputs": [
        {
          "output_type": "execute_result",
          "data": {
            "text/plain": [
              "Text(0.5, 1.0, 'Normalized Weights for First Five Most Predictive Features')"
            ]
          },
          "metadata": {},
          "execution_count": 106
        },
        {
          "output_type": "execute_result",
          "data": {
            "text/plain": [
              "<BarContainer object of 5 artists>"
            ]
          },
          "metadata": {},
          "execution_count": 106
        },
        {
          "output_type": "execute_result",
          "data": {
            "text/plain": [
              "<BarContainer object of 5 artists>"
            ]
          },
          "metadata": {},
          "execution_count": 106
        },
        {
          "output_type": "execute_result",
          "data": {
            "text/plain": [
              "([<matplotlib.axis.XTick at 0x7f1503f4f4d0>,\n",
              "  <matplotlib.axis.XTick at 0x7f1503f4f050>,\n",
              "  <matplotlib.axis.XTick at 0x7f1504420110>,\n",
              "  <matplotlib.axis.XTick at 0x7f1503ad5890>,\n",
              "  <matplotlib.axis.XTick at 0x7f1503aeb090>],\n",
              " [Text(0, 0, 'marital-status_ Married-civ-spouse'),\n",
              "  Text(0, 0, 'capital-gain'),\n",
              "  Text(0, 0, 'education-num'),\n",
              "  Text(0, 0, 'capital-loss'),\n",
              "  Text(0, 0, 'age')])"
            ]
          },
          "metadata": {},
          "execution_count": 106
        },
        {
          "output_type": "execute_result",
          "data": {
            "text/plain": [
              "(-0.5, 4.5)"
            ]
          },
          "metadata": {},
          "execution_count": 106
        },
        {
          "output_type": "execute_result",
          "data": {
            "text/plain": [
              "Text(0, 0.5, 'Weight')"
            ]
          },
          "metadata": {},
          "execution_count": 106
        },
        {
          "output_type": "execute_result",
          "data": {
            "text/plain": [
              "Text(0.5, 0, 'Feature')"
            ]
          },
          "metadata": {},
          "execution_count": 106
        },
        {
          "output_type": "execute_result",
          "data": {
            "text/plain": [
              "<matplotlib.legend.Legend at 0x7f1503908610>"
            ]
          },
          "metadata": {},
          "execution_count": 106
        },
        {
          "output_type": "display_data",
          "data": {
            "text/plain": [
              "<Figure size 648x360 with 1 Axes>"
            ],
            "image/png": "[encoded data removed]"
          },
          "metadata": {
            "needs_background": "light"
          }
        }
      ],
      "source": [
        "# Extracting the important features\n",
        "importances = best_clf.feature_importances_\n",
        "\n",
        "# Fetching the 5 most important features\n",
        "indices = np.argsort(importances)[::-1]\n",
        "columns = X_train.columns.values[indices[:5]]\n",
        "values = importances[indices][:5]\n",
        "\n",
        "# Plotting the features and their respective weights\n",
        "fig = pl.figure(figsize = (9,5))\n",
        "pl.title(\"Normalized Weights for First Five Most Predictive Features\", fontsize = 16)\n",
        "pl.bar(np.arange(5), values, width = 0.6, align=\"center\", color = '#00A000', \\\n",
        "      label = \"Feature Weight\")\n",
        "pl.bar(np.arange(5) - 0.3, np.cumsum(values), width = 0.2, align = \"center\", color = '#00A0A0', \\\n",
        "      label = \"Cumulative Feature Weight\")\n",
        "pl.xticks(np.arange(5), columns)\n",
        "pl.xlim((-0.5, 4.5))\n",
        "pl.ylabel(\"Weight\", fontsize = 12)\n",
        "pl.xlabel(\"Feature\", fontsize = 12)\n",
        "\n",
        "pl.legend(loc = 'upper center')\n",
        "pl.tight_layout()\n",
        "pl.show()  \n"
      ]
    },
    {
      "cell_type": "markdown",
      "metadata": {
        "id": "5I_rWq7KlVyl"
      },
      "source": [
        "### Discussion 4.1:\n",
        "\n",
        "As it can be oberved, the following 5 features are the most important in prediction.\n",
        "- marital-status_ Married-civ-spouse\n",
        "- capital-gain\n",
        "- education-num\n",
        "- capital-loss\n",
        "- age\n",
        "\n",
        "Features Capital Gain, Capital Loss and Education are the same as the features in Null Hypothesis. However, Marital Status and Age were not in the Null Hypothesis. \n",
        "These 2 features make sense because, mostly high earners are older in age (40's to 50's) and majority of young candidates earn less as they are in the start of their career. Also, these high earners are most likely to be married and living with their Spouse."
      ]
    },
    {
      "cell_type": "markdown",
      "metadata": {
        "id": "SZW8jCGnlVyl"
      },
      "source": [
        "#### 4.2: Feature Selection and Evaluation\n",
        "How does a model perform if we only use a subset of all the available features in the data? With less features required to train, the expectation is that training and prediction time is much lower — at the cost of performance metrics. From the visualization above, we see that the top five most important features contribute more than half of the importance of all features present in the data. This hints that we can attempt to reduce the feature space and simplify the information required for the model to learn. The code cell below will use the same optimized model you found earlier, and train it on the same training set with only the top five important features."
      ]
    },
    {
      "cell_type": "code",
      "execution_count": 107,
      "metadata": {
        "id": "OOaStPD5lVym",
        "outputId": "06c88d12-ba0a-4365-9f0a-3c5b98a2c861",
        "colab": {
          "base_uri": "https://localhost:8080/"
        }
      },
      "outputs": [
        {
          "output_type": "stream",
          "name": "stdout",
          "text": [
            "Final Model trained on full data\n",
            "------\n",
            "Accuracy on testing data: 0.8704\n",
            "F-score on testing data: 0.7520\n",
            "\n",
            "Final Model trained on reduced data\n",
            "------\n",
            "Accuracy on testing data: 0.8593\n",
            "F-score on testing data: 0.7256\n"
          ]
        }
      ],
      "source": [
        "# Importing functionality for cloning a model\n",
        "from sklearn.base import clone\n",
        "\n",
        "# Choosing only the 5 important features identified earlier\n",
        "X_train_reduced = X_train[columns]\n",
        "X_test_reduced = X_test[columns]\n",
        "\n",
        "# Training on the \"best\" model found from grid search earlier\n",
        "clf = (clone(best_clf)).fit(X_train_reduced, y_train)\n",
        "\n",
        "# Making new predictions\n",
        "reduced_predictions = clf.predict(X_test_reduced)\n",
        "\n",
        "# Reporting scores from the final model using both versions of data\n",
        "print(\"Final Model trained on full data\\n------\")\n",
        "print(\"Accuracy on testing data: {:.4f}\".format(accuracy_score(y_test, best_predictions)))\n",
        "print(\"F-score on testing data: {:.4f}\".format(fbeta_score(y_test, best_predictions, beta = 0.5)))\n",
        "print(\"\\nFinal Model trained on reduced data\\n------\")\n",
        "print(\"Accuracy on testing data: {:.4f}\".format(accuracy_score(y_test, reduced_predictions)))\n",
        "print(\"F-score on testing data: {:.4f}\".format(fbeta_score(y_test, reduced_predictions, beta = 0.5)))"
      ]
    },
    {
      "cell_type": "markdown",
      "metadata": {
        "id": "VK2tfOo8lVym"
      },
      "source": [
        "### Discussion 4.2 - Effects of Feature Selection\n"
      ]
    },
    {
      "cell_type": "markdown",
      "metadata": {
        "id": "Z6At9NZMlVym"
      },
      "source": [
        "### Answer 8\n",
        "- The F-score and accuracy of the final model trained with important features reduced a bit compared to the model trained with all features. Accuracy reduced by  1.28% and F-score reduced by 3.5% to be precise.\n",
        "\n",
        "- Though it feels tempting to suggest using the data with only the important features. Considering the small training time and the availability of resources, it's better to get that minimal improvement by going with all features."
      ]
    },
    {
      "cell_type": "markdown",
      "source": [
        "# Thank You"
      ],
      "metadata": {
        "id": "kETaxppJoDQK"
      }
    }
  ],
  "metadata": {
    "kernelspec": {
      "display_name": "Python 3",
      "language": "python",
      "name": "python3"
    },
    "language_info": {
      "codemirror_mode": {
        "name": "ipython",
        "version": 3
      },
      "file_extension": ".py",
      "mimetype": "text/x-python",
      "name": "python",
      "nbconvert_exporter": "python",
      "pygments_lexer": "ipython3",
      "version": "3.6.3"
    },
    "colab": {
      "name": "Finding Donors.ipynb",
      "provenance": [],
      "collapsed_sections": [
        "xS7fTNJFvZmf",
        "FiV9EYJ-uu_-",
        "wxmZLGeFlVyL",
        "kj7BGyCAlVyX",
        "o9UNcgOh76us",
        "kRXGumRMlVyY",
        "fw7tnAZzlVyZ",
        "2WRi5JO-lVya",
        "aAnn0B6jlVyb",
        "gYb_rj-FlVyc",
        "HRKBjYrYFMRw",
        "vik6EI0LlVyg",
        "aoRcHhzAlVyh",
        "-F_MxMahUxn5"
      ]
    }
  },
  "nbformat": 4,
  "nbformat_minor": 0
}
